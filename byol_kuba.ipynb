{
 "cells": [
  {
   "cell_type": "code",
   "execution_count": 1,
   "id": "fca21a55",
   "metadata": {},
   "outputs": [
    {
     "name": "stderr",
     "output_type": "stream",
     "text": [
      "e:\\programowanie\\studia\\sem6\\WB2\\.venv\\Lib\\site-packages\\torchvision\\transforms\\v2\\_deprecated.py:42: UserWarning: The transform `ToTensor()` is deprecated and will be removed in a future release. Instead, please use `v2.Compose([v2.ToImage(), v2.ToDtype(torch.float32, scale=True)])`.Output is equivalent up to float precision.\n",
      "  warnings.warn(\n",
      "e:\\programowanie\\studia\\sem6\\WB2\\.venv\\Lib\\site-packages\\tqdm\\auto.py:21: TqdmWarning: IProgress not found. Please update jupyter and ipywidgets. See https://ipywidgets.readthedocs.io/en/stable/user_install.html\n",
      "  from .autonotebook import tqdm as notebook_tqdm\n"
     ]
    }
   ],
   "source": [
    "import torch\n",
    "from torchvision import transforms as T\n",
    "from lightly.transforms import SimCLRTransform, utils\n",
    "from datasets import create_dataset, create_stratified_bootstrap_dataloader\n",
    "from models import BYOLModel\n",
    "import pytorch_lightning as pl\n",
    "import os\n",
    "import copy\n",
    "import gc\n",
    "import matplotlib.pyplot as plt\n",
    "from itertools import product"
   ]
  },
  {
   "cell_type": "markdown",
   "id": "4ec071b0",
   "metadata": {},
   "source": [
    "# Seed"
   ]
  },
  {
   "cell_type": "code",
   "execution_count": 2,
   "id": "77a21a68",
   "metadata": {},
   "outputs": [
    {
     "name": "stderr",
     "output_type": "stream",
     "text": [
      "Seed set to 42\n"
     ]
    }
   ],
   "source": [
    "SEED = 42\n",
    "\n",
    "def seed_everything(seed: int=42):\n",
    "    pl.seed_everything(seed)\n",
    "    os.environ['PYTHONHASHSEED'] = str(seed)\n",
    "    ####### Normaly you would also need to seed those generators but `pytorch_lightning` does it in one func\n",
    "    # random.seed(seed)\n",
    "    # np.random.seed(seed)\n",
    "    # torch.manual_seed(seed)\n",
    "    ######\n",
    "    torch.cuda.manual_seed(seed) # Don't know if pytorch lightning does this\n",
    "    torch.cuda.manual_seed_all(seed) # Don't know if pytorch lightning does this\n",
    "    torch.backends.cudnn.deterministic = True\n",
    "    torch.backends.cudnn.benchmark = False\n",
    "\n",
    "\n",
    "seed_everything(SEED)"
   ]
  },
  {
   "cell_type": "markdown",
   "id": "97688c7c",
   "metadata": {},
   "source": [
    "# Transformacje"
   ]
  },
  {
   "cell_type": "code",
   "execution_count": 3,
   "id": "aad299a7",
   "metadata": {},
   "outputs": [
    {
     "name": "stderr",
     "output_type": "stream",
     "text": [
      "e:\\programowanie\\studia\\sem6\\WB2\\.venv\\Lib\\site-packages\\torchvision\\transforms\\v2\\_deprecated.py:42: UserWarning: The transform `ToTensor()` is deprecated and will be removed in a future release. Instead, please use `v2.Compose([v2.ToImage(), v2.ToDtype(torch.float32, scale=True)])`.Output is equivalent up to float precision.\n",
      "  warnings.warn(\n"
     ]
    }
   ],
   "source": [
    "test_transform = T.v2.Compose(\n",
    "    [\n",
    "        T.Resize((224, 224)),\n",
    "        T.v2.ToImage(),\n",
    "        T.v2.ToDtype(torch.float32, scale=True),\n",
    "        T.Normalize(\n",
    "            mean=utils.IMAGENET_NORMALIZE[\"mean\"],\n",
    "            std=utils.IMAGENET_NORMALIZE[\"std\"],\n",
    "        )\n",
    "    ]\n",
    ")\n",
    "scratch_transform = T.v2.Compose(\n",
    "    [\n",
    "        T.RandomResizedCrop((224, 224)),\n",
    "        T.RandomHorizontalFlip(),\n",
    "        T.v2.ToImage(),\n",
    "        T.v2.ToDtype(torch.float32, scale=True),\n",
    "        T.Normalize(\n",
    "            mean=utils.IMAGENET_NORMALIZE[\"mean\"],\n",
    "            std=utils.IMAGENET_NORMALIZE[\"std\"],\n",
    "        )\n",
    "    ]\n",
    ")\n",
    "\n",
    "byol_transform = SimCLRTransform(\n",
    "    input_size=(224, 224),\n",
    "    vf_prob=0.5,\n",
    "    rr_prob=0.5,\n",
    ")"
   ]
  },
  {
   "cell_type": "markdown",
   "id": "b2691697",
   "metadata": {},
   "source": [
    "# Zbiorki"
   ]
  },
  {
   "cell_type": "code",
   "execution_count": 4,
   "id": "63262483",
   "metadata": {},
   "outputs": [
    {
     "name": "stdout",
     "output_type": "stream",
     "text": [
      "Length of entire train dataset:  50000\n",
      "Length of SSL train dataset:  45000\n",
      "Length of classification train dataset:  5000\n",
      "Length of test dataset:  10000\n"
     ]
    }
   ],
   "source": [
    "train_full_cifar10_byol, train_ssl_cifar10_byol, train_cifar10_byol, test_cifar10_byol, labels_cifar10 = create_dataset(\"CIFAR10\", 0.9, byol_transform, scratch_transform, test_transform, \"data\", False)"
   ]
  },
  {
   "cell_type": "code",
   "execution_count": 5,
   "id": "65362446",
   "metadata": {},
   "outputs": [
    {
     "name": "stdout",
     "output_type": "stream",
     "text": [
      "Length of entire train dataset:  50000\n",
      "Length of SSL train dataset:  45000\n",
      "Length of classification train dataset:  5000\n",
      "Length of test dataset:  10000\n"
     ]
    }
   ],
   "source": [
    "train_full_cifar100_byol, train_ssl_cifar100_byol, train_cifar100_byol, test_cifar100_byol, labels_cifar100 = create_dataset(\"CIFAR100\", 0.9, byol_transform, scratch_transform, test_transform, \"data\", False)"
   ]
  },
  {
   "cell_type": "markdown",
   "id": "1e6efb2c",
   "metadata": {},
   "source": [
    "# Hiperparametry"
   ]
  },
  {
   "cell_type": "code",
   "execution_count": 12,
   "id": "c6ce0a74",
   "metadata": {},
   "outputs": [
    {
     "name": "stdout",
     "output_type": "stream",
     "text": [
      "Using device: gpu\n"
     ]
    }
   ],
   "source": [
    "### PARAMETERS ###\n",
    "BATCH_SIZE = 128\n",
    "NUM_EPOCHS = 20\n",
    "LEARNING_RATE = [0.001, 0.01]\n",
    "BACKBONE_TYPE = ['pretrained', 'random']\n",
    "TAU = [0.98, 0.996]\n",
    "NUM_WORKERS = 3\n",
    "device = \"gpu\" if torch.cuda.is_available() else \"cpu\"\n",
    "print(f\"Using device: {device}\")\n",
    "#GARBAGE COLLECTOR FAJNA SPRAWA - BEZ NIEGO VRAMu BRAKUJE\n",
    "if device == \"gpu\":\n",
    "    torch.cuda.empty_cache()\n",
    "    gc.collect()\n",
    "    torch.set_float32_matmul_precision('high')"
   ]
  },
  {
   "cell_type": "markdown",
   "id": "dc703a61",
   "metadata": {},
   "source": [
    "# CIFAR10"
   ]
  },
  {
   "cell_type": "code",
   "execution_count": 13,
   "id": "082f261e",
   "metadata": {},
   "outputs": [],
   "source": [
    "dl_train_cifar10_byol = create_stratified_bootstrap_dataloader(\n",
    "    train_ssl_cifar10_byol, \n",
    "    labels=labels_cifar10,\n",
    "    batch_size=BATCH_SIZE, \n",
    "    num_workers=NUM_WORKERS, \n",
    "    random_state=SEED,\n",
    "    drop_last=True,\n",
    "    pin_memory=True,\n",
    ")\n",
    "\n",
    "dl_valid_cifar10_byol = torch.utils.data.DataLoader(\n",
    "    test_cifar10_byol, \n",
    "    batch_size=BATCH_SIZE, \n",
    "    num_workers=NUM_WORKERS, \n",
    "    shuffle=False, \n",
    ")"
   ]
  },
  {
   "cell_type": "code",
   "execution_count": 14,
   "id": "4bbe5b89",
   "metadata": {},
   "outputs": [],
   "source": [
    "from pytorch_lightning.callbacks import Callback\n",
    "import os\n",
    "\n",
    "class SaveAtEpochsCallback(Callback):\n",
    "    def __init__(self, save_epochs, dirpath=\"checkpoints\"):\n",
    "        super().__init__()\n",
    "        self.save_epochs = set(save_epochs)\n",
    "        self.dirpath = dirpath\n",
    "        os.makedirs(self.dirpath, exist_ok=True)\n",
    "\n",
    "    def on_train_epoch_end(self, trainer, pl_module):\n",
    "        current_epoch = trainer.current_epoch  # epoka 0-based\n",
    "        if current_epoch + 1 in self.save_epochs:\n",
    "            filename = f\"model_epoch_{current_epoch}.ckpt\"\n",
    "            path = os.path.join(self.dirpath, filename)\n",
    "            trainer.save_checkpoint(path)\n",
    "            print(f\"Zapisano model po epoce {current_epoch}: {path}\")"
   ]
  },
  {
   "cell_type": "code",
   "execution_count": 15,
   "id": "bbed7eea",
   "metadata": {},
   "outputs": [
    {
     "name": "stderr",
     "output_type": "stream",
     "text": [
      "e:\\programowanie\\studia\\sem6\\WB2\\.venv\\Lib\\site-packages\\torchvision\\models\\_utils.py:208: UserWarning: The parameter 'pretrained' is deprecated since 0.13 and may be removed in the future, please use 'weights' instead.\n",
      "  warnings.warn(\n",
      "e:\\programowanie\\studia\\sem6\\WB2\\.venv\\Lib\\site-packages\\torchvision\\models\\_utils.py:223: UserWarning: Arguments other than a weight enum or `None` for 'weights' are deprecated since 0.13 and may be removed in the future. The current behavior is equivalent to passing `weights=ResNet18_Weights.IMAGENET1K_V1`. You can also use `weights=ResNet18_Weights.DEFAULT` to get the most up-to-date weights.\n",
      "  warnings.warn(msg)\n",
      "Using default `ModelCheckpoint`. Consider installing `litmodels` package to enable `LitModelCheckpoint` for automatic upload to the Lightning model registry.\n",
      "GPU available: True (cuda), used: True\n",
      "TPU available: False, using: 0 TPU cores\n",
      "HPU available: False, using: 0 HPUs\n",
      "LOCAL_RANK: 0 - CUDA_VISIBLE_DEVICES: [0]\n",
      "\n",
      "  | Name              | Type                 | Params | Mode \n",
      "-------------------------------------------------------------------\n",
      "0 | online_backbone   | Sequential           | 11.2 M | train\n",
      "1 | online_projection | SimCLRProjectionHead | 328 K  | train\n",
      "2 | online_predictor  | Sequential           | 16.7 K | train\n",
      "3 | target_backbone   | Sequential           | 11.2 M | train\n",
      "4 | target_projection | SimCLRProjectionHead | 328 K  | train\n",
      "-------------------------------------------------------------------\n",
      "11.5 M    Trainable params\n",
      "11.5 M    Non-trainable params\n",
      "23.0 M    Total params\n",
      "92.111    Total estimated model params size (MB)\n",
      "153       Modules in train mode\n",
      "0         Modules in eval mode\n"
     ]
    },
    {
     "name": "stdout",
     "output_type": "stream",
     "text": [
      "Sanity Checking: |          | 0/? [00:00<?, ?it/s]"
     ]
    },
    {
     "name": "stderr",
     "output_type": "stream",
     "text": [
      "e:\\programowanie\\studia\\sem6\\WB2\\.venv\\Lib\\site-packages\\pytorch_lightning\\trainer\\connectors\\data_connector.py:420: Consider setting `persistent_workers=True` in 'val_dataloader' to speed up the dataloader worker initialization.\n"
     ]
    },
    {
     "name": "stdout",
     "output_type": "stream",
     "text": [
      "                                                                           \r"
     ]
    },
    {
     "name": "stderr",
     "output_type": "stream",
     "text": [
      "e:\\programowanie\\studia\\sem6\\WB2\\.venv\\Lib\\site-packages\\pytorch_lightning\\trainer\\connectors\\data_connector.py:420: Consider setting `persistent_workers=True` in 'train_dataloader' to speed up the dataloader worker initialization.\n"
     ]
    },
    {
     "name": "stdout",
     "output_type": "stream",
     "text": [
      "Epoch 9: 100%|██████████| 351/351 [03:41<00:00,  1.59it/s, v_num=1, train_loss=-0.297, val_loss=-1.28, val_ari=0.136, val_nmi=0.226, train_ari=0.106, train_nmi=0.176]    Zapisano model po epoce 9: checkpoints/byol_cifar10_pretrained_0.001_0.98\\model_epoch_9.ckpt\n",
      "Epoch 14: 100%|██████████| 351/351 [03:55<00:00,  1.49it/s, v_num=1, train_loss=-0.608, val_loss=-1.60, val_ari=0.172, val_nmi=0.268, train_ari=0.128, train_nmi=0.205]Zapisano model po epoce 14: checkpoints/byol_cifar10_pretrained_0.001_0.98\\model_epoch_14.ckpt\n",
      "Epoch 19: 100%|██████████| 351/351 [04:23<00:00,  1.33it/s, v_num=1, train_loss=-0.844, val_loss=-1.70, val_ari=0.164, val_nmi=0.261, train_ari=0.134, train_nmi=0.216]Zapisano model po epoce 19: checkpoints/byol_cifar10_pretrained_0.001_0.98\\model_epoch_19.ckpt\n",
      "Epoch 19: 100%|██████████| 351/351 [04:26<00:00,  1.32it/s, v_num=1, train_loss=-0.844, val_loss=-1.70, val_ari=0.164, val_nmi=0.261, train_ari=0.134, train_nmi=0.216]"
     ]
    },
    {
     "name": "stderr",
     "output_type": "stream",
     "text": [
      "`Trainer.fit` stopped: `max_epochs=20` reached.\n"
     ]
    },
    {
     "name": "stdout",
     "output_type": "stream",
     "text": [
      "Epoch 19: 100%|██████████| 351/351 [04:30<00:00,  1.30it/s, v_num=1, train_loss=-0.844, val_loss=-1.70, val_ari=0.164, val_nmi=0.261, train_ari=0.134, train_nmi=0.216]\n"
     ]
    },
    {
     "name": "stderr",
     "output_type": "stream",
     "text": [
      "e:\\programowanie\\studia\\sem6\\WB2\\.venv\\Lib\\site-packages\\torchvision\\models\\_utils.py:208: UserWarning: The parameter 'pretrained' is deprecated since 0.13 and may be removed in the future, please use 'weights' instead.\n",
      "  warnings.warn(\n",
      "e:\\programowanie\\studia\\sem6\\WB2\\.venv\\Lib\\site-packages\\torchvision\\models\\_utils.py:223: UserWarning: Arguments other than a weight enum or `None` for 'weights' are deprecated since 0.13 and may be removed in the future. The current behavior is equivalent to passing `weights=ResNet18_Weights.IMAGENET1K_V1`. You can also use `weights=ResNet18_Weights.DEFAULT` to get the most up-to-date weights.\n",
      "  warnings.warn(msg)\n",
      "Using default `ModelCheckpoint`. Consider installing `litmodels` package to enable `LitModelCheckpoint` for automatic upload to the Lightning model registry.\n",
      "GPU available: True (cuda), used: True\n",
      "TPU available: False, using: 0 TPU cores\n",
      "HPU available: False, using: 0 HPUs\n",
      "LOCAL_RANK: 0 - CUDA_VISIBLE_DEVICES: [0]\n",
      "\n",
      "  | Name              | Type                 | Params | Mode \n",
      "-------------------------------------------------------------------\n",
      "0 | online_backbone   | Sequential           | 11.2 M | train\n",
      "1 | online_projection | SimCLRProjectionHead | 328 K  | train\n",
      "2 | online_predictor  | Sequential           | 16.7 K | train\n",
      "3 | target_backbone   | Sequential           | 11.2 M | train\n",
      "4 | target_projection | SimCLRProjectionHead | 328 K  | train\n",
      "-------------------------------------------------------------------\n",
      "11.5 M    Trainable params\n",
      "11.5 M    Non-trainable params\n",
      "23.0 M    Total params\n",
      "92.111    Total estimated model params size (MB)\n",
      "153       Modules in train mode\n",
      "0         Modules in eval mode\n"
     ]
    },
    {
     "name": "stdout",
     "output_type": "stream",
     "text": [
      "Sanity Checking: |          | 0/? [00:00<?, ?it/s]"
     ]
    },
    {
     "name": "stderr",
     "output_type": "stream",
     "text": [
      "e:\\programowanie\\studia\\sem6\\WB2\\.venv\\Lib\\site-packages\\pytorch_lightning\\trainer\\connectors\\data_connector.py:420: Consider setting `persistent_workers=True` in 'val_dataloader' to speed up the dataloader worker initialization.\n"
     ]
    },
    {
     "name": "stdout",
     "output_type": "stream",
     "text": [
      "                                                                           \r"
     ]
    },
    {
     "name": "stderr",
     "output_type": "stream",
     "text": [
      "e:\\programowanie\\studia\\sem6\\WB2\\.venv\\Lib\\site-packages\\pytorch_lightning\\trainer\\connectors\\data_connector.py:420: Consider setting `persistent_workers=True` in 'train_dataloader' to speed up the dataloader worker initialization.\n"
     ]
    },
    {
     "name": "stdout",
     "output_type": "stream",
     "text": [
      "Epoch 9: 100%|██████████| 351/351 [04:22<00:00,  1.34it/s, v_num=0, train_loss=1.160, val_loss=0.819, val_ari=0.177, val_nmi=0.266, train_ari=0.116, train_nmi=0.182]  Zapisano model po epoce 9: checkpoints/byol_cifar10_pretrained_0.001_0.996\\model_epoch_9.ckpt\n",
      "Epoch 14: 100%|██████████| 351/351 [04:51<00:00,  1.20it/s, v_num=0, train_loss=0.713, val_loss=0.251, val_ari=0.176, val_nmi=0.269, train_ari=0.131, train_nmi=0.202]Zapisano model po epoce 14: checkpoints/byol_cifar10_pretrained_0.001_0.996\\model_epoch_14.ckpt\n",
      "Epoch 19: 100%|██████████| 351/351 [04:38<00:00,  1.26it/s, v_num=0, train_loss=0.209, val_loss=-0.195, val_ari=0.173, val_nmi=0.265, train_ari=0.134, train_nmi=0.209] Zapisano model po epoce 19: checkpoints/byol_cifar10_pretrained_0.001_0.996\\model_epoch_19.ckpt\n",
      "Epoch 19: 100%|██████████| 351/351 [04:40<00:00,  1.25it/s, v_num=0, train_loss=0.209, val_loss=-0.195, val_ari=0.173, val_nmi=0.265, train_ari=0.134, train_nmi=0.209]"
     ]
    },
    {
     "name": "stderr",
     "output_type": "stream",
     "text": [
      "`Trainer.fit` stopped: `max_epochs=20` reached.\n"
     ]
    },
    {
     "name": "stdout",
     "output_type": "stream",
     "text": [
      "Epoch 19: 100%|██████████| 351/351 [04:42<00:00,  1.24it/s, v_num=0, train_loss=0.209, val_loss=-0.195, val_ari=0.173, val_nmi=0.265, train_ari=0.134, train_nmi=0.209]\n"
     ]
    },
    {
     "name": "stderr",
     "output_type": "stream",
     "text": [
      "e:\\programowanie\\studia\\sem6\\WB2\\.venv\\Lib\\site-packages\\torchvision\\models\\_utils.py:208: UserWarning: The parameter 'pretrained' is deprecated since 0.13 and may be removed in the future, please use 'weights' instead.\n",
      "  warnings.warn(\n",
      "e:\\programowanie\\studia\\sem6\\WB2\\.venv\\Lib\\site-packages\\torchvision\\models\\_utils.py:223: UserWarning: Arguments other than a weight enum or `None` for 'weights' are deprecated since 0.13 and may be removed in the future. The current behavior is equivalent to passing `weights=None`.\n",
      "  warnings.warn(msg)\n",
      "Using default `ModelCheckpoint`. Consider installing `litmodels` package to enable `LitModelCheckpoint` for automatic upload to the Lightning model registry.\n",
      "GPU available: True (cuda), used: True\n",
      "TPU available: False, using: 0 TPU cores\n",
      "HPU available: False, using: 0 HPUs\n",
      "LOCAL_RANK: 0 - CUDA_VISIBLE_DEVICES: [0]\n",
      "\n",
      "  | Name              | Type                 | Params | Mode \n",
      "-------------------------------------------------------------------\n",
      "0 | online_backbone   | Sequential           | 11.2 M | train\n",
      "1 | online_projection | SimCLRProjectionHead | 328 K  | train\n",
      "2 | online_predictor  | Sequential           | 16.7 K | train\n",
      "3 | target_backbone   | Sequential           | 11.2 M | train\n",
      "4 | target_projection | SimCLRProjectionHead | 328 K  | train\n",
      "-------------------------------------------------------------------\n",
      "11.5 M    Trainable params\n",
      "11.5 M    Non-trainable params\n",
      "23.0 M    Total params\n",
      "92.111    Total estimated model params size (MB)\n",
      "153       Modules in train mode\n",
      "0         Modules in eval mode\n"
     ]
    },
    {
     "name": "stdout",
     "output_type": "stream",
     "text": [
      "Sanity Checking: |          | 0/? [00:00<?, ?it/s]"
     ]
    },
    {
     "name": "stderr",
     "output_type": "stream",
     "text": [
      "e:\\programowanie\\studia\\sem6\\WB2\\.venv\\Lib\\site-packages\\pytorch_lightning\\trainer\\connectors\\data_connector.py:420: Consider setting `persistent_workers=True` in 'val_dataloader' to speed up the dataloader worker initialization.\n"
     ]
    },
    {
     "name": "stdout",
     "output_type": "stream",
     "text": [
      "                                                                           \r"
     ]
    },
    {
     "name": "stderr",
     "output_type": "stream",
     "text": [
      "e:\\programowanie\\studia\\sem6\\WB2\\.venv\\Lib\\site-packages\\pytorch_lightning\\trainer\\connectors\\data_connector.py:420: Consider setting `persistent_workers=True` in 'train_dataloader' to speed up the dataloader worker initialization.\n"
     ]
    },
    {
     "name": "stdout",
     "output_type": "stream",
     "text": [
      "Epoch 9: 100%|██████████| 351/351 [04:16<00:00,  1.37it/s, v_num=0, train_loss=0.514, val_loss=-1.04, val_ari=0.0544, val_nmi=0.118, train_ari=0.0185, train_nmi=0.0409]   Zapisano model po epoce 9: checkpoints/byol_cifar10_random_0.001_0.98\\model_epoch_9.ckpt\n",
      "Epoch 14: 100%|██████████| 351/351 [07:04<00:00,  0.83it/s, v_num=0, train_loss=0.249, val_loss=-1.38, val_ari=0.0635, val_nmi=0.131, train_ari=0.0325, train_nmi=0.0697]    Zapisano model po epoce 14: checkpoints/byol_cifar10_random_0.001_0.98\\model_epoch_14.ckpt\n",
      "Epoch 19: 100%|██████████| 351/351 [05:58<00:00,  0.98it/s, v_num=0, train_loss=0.120, val_loss=-1.51, val_ari=0.0645, val_nmi=0.132, train_ari=0.0344, train_nmi=0.0786]   Zapisano model po epoce 19: checkpoints/byol_cifar10_random_0.001_0.98\\model_epoch_19.ckpt\n",
      "Epoch 19: 100%|██████████| 351/351 [06:03<00:00,  0.96it/s, v_num=0, train_loss=0.120, val_loss=-1.51, val_ari=0.0645, val_nmi=0.132, train_ari=0.0344, train_nmi=0.0786]"
     ]
    },
    {
     "name": "stderr",
     "output_type": "stream",
     "text": [
      "`Trainer.fit` stopped: `max_epochs=20` reached.\n"
     ]
    },
    {
     "name": "stdout",
     "output_type": "stream",
     "text": [
      "Epoch 19: 100%|██████████| 351/351 [06:07<00:00,  0.96it/s, v_num=0, train_loss=0.120, val_loss=-1.51, val_ari=0.0645, val_nmi=0.132, train_ari=0.0344, train_nmi=0.0786]\n"
     ]
    },
    {
     "name": "stderr",
     "output_type": "stream",
     "text": [
      "e:\\programowanie\\studia\\sem6\\WB2\\.venv\\Lib\\site-packages\\torchvision\\models\\_utils.py:208: UserWarning: The parameter 'pretrained' is deprecated since 0.13 and may be removed in the future, please use 'weights' instead.\n",
      "  warnings.warn(\n",
      "e:\\programowanie\\studia\\sem6\\WB2\\.venv\\Lib\\site-packages\\torchvision\\models\\_utils.py:223: UserWarning: Arguments other than a weight enum or `None` for 'weights' are deprecated since 0.13 and may be removed in the future. The current behavior is equivalent to passing `weights=None`.\n",
      "  warnings.warn(msg)\n",
      "Using default `ModelCheckpoint`. Consider installing `litmodels` package to enable `LitModelCheckpoint` for automatic upload to the Lightning model registry.\n",
      "GPU available: True (cuda), used: True\n",
      "TPU available: False, using: 0 TPU cores\n",
      "HPU available: False, using: 0 HPUs\n",
      "LOCAL_RANK: 0 - CUDA_VISIBLE_DEVICES: [0]\n",
      "\n",
      "  | Name              | Type                 | Params | Mode \n",
      "-------------------------------------------------------------------\n",
      "0 | online_backbone   | Sequential           | 11.2 M | train\n",
      "1 | online_projection | SimCLRProjectionHead | 328 K  | train\n",
      "2 | online_predictor  | Sequential           | 16.7 K | train\n",
      "3 | target_backbone   | Sequential           | 11.2 M | train\n",
      "4 | target_projection | SimCLRProjectionHead | 328 K  | train\n",
      "-------------------------------------------------------------------\n",
      "11.5 M    Trainable params\n",
      "11.5 M    Non-trainable params\n",
      "23.0 M    Total params\n",
      "92.111    Total estimated model params size (MB)\n",
      "153       Modules in train mode\n",
      "0         Modules in eval mode\n"
     ]
    },
    {
     "name": "stdout",
     "output_type": "stream",
     "text": [
      "Sanity Checking: |          | 0/? [00:00<?, ?it/s]"
     ]
    },
    {
     "name": "stderr",
     "output_type": "stream",
     "text": [
      "e:\\programowanie\\studia\\sem6\\WB2\\.venv\\Lib\\site-packages\\pytorch_lightning\\trainer\\connectors\\data_connector.py:420: Consider setting `persistent_workers=True` in 'val_dataloader' to speed up the dataloader worker initialization.\n"
     ]
    },
    {
     "name": "stdout",
     "output_type": "stream",
     "text": [
      "                                                                           \r"
     ]
    },
    {
     "name": "stderr",
     "output_type": "stream",
     "text": [
      "e:\\programowanie\\studia\\sem6\\WB2\\.venv\\Lib\\site-packages\\pytorch_lightning\\trainer\\connectors\\data_connector.py:420: Consider setting `persistent_workers=True` in 'train_dataloader' to speed up the dataloader worker initialization.\n"
     ]
    },
    {
     "name": "stdout",
     "output_type": "stream",
     "text": [
      "Epoch 9: 100%|██████████| 351/351 [03:58<00:00,  1.47it/s, v_num=0, train_loss=1.300, val_loss=-0.298, val_ari=0.0524, val_nmi=0.103, train_ari=0.0256, train_nmi=0.0437] Zapisano model po epoce 9: checkpoints/byol_cifar10_random_0.001_0.996\\model_epoch_9.ckpt\n",
      "Epoch 14: 100%|██████████| 351/351 [03:59<00:00,  1.47it/s, v_num=0, train_loss=0.955, val_loss=-0.873, val_ari=0.0625, val_nmi=0.109, train_ari=0.0314, train_nmi=0.0524]Zapisano model po epoce 14: checkpoints/byol_cifar10_random_0.001_0.996\\model_epoch_14.ckpt\n",
      "Epoch 19: 100%|██████████| 351/351 [10:50<00:00,  0.54it/s, v_num=0, train_loss=0.579, val_loss=-1.08, val_ari=0.0656, val_nmi=0.115, train_ari=0.0383, train_nmi=0.0634] Zapisano model po epoce 19: checkpoints/byol_cifar10_random_0.001_0.996\\model_epoch_19.ckpt\n",
      "Epoch 19: 100%|██████████| 351/351 [10:52<00:00,  0.54it/s, v_num=0, train_loss=0.579, val_loss=-1.08, val_ari=0.0656, val_nmi=0.115, train_ari=0.0383, train_nmi=0.0634]"
     ]
    },
    {
     "name": "stderr",
     "output_type": "stream",
     "text": [
      "`Trainer.fit` stopped: `max_epochs=20` reached.\n"
     ]
    },
    {
     "name": "stdout",
     "output_type": "stream",
     "text": [
      "Epoch 19: 100%|██████████| 351/351 [10:55<00:00,  0.54it/s, v_num=0, train_loss=0.579, val_loss=-1.08, val_ari=0.0656, val_nmi=0.115, train_ari=0.0383, train_nmi=0.0634]\n"
     ]
    },
    {
     "name": "stderr",
     "output_type": "stream",
     "text": [
      "e:\\programowanie\\studia\\sem6\\WB2\\.venv\\Lib\\site-packages\\torchvision\\models\\_utils.py:208: UserWarning: The parameter 'pretrained' is deprecated since 0.13 and may be removed in the future, please use 'weights' instead.\n",
      "  warnings.warn(\n",
      "e:\\programowanie\\studia\\sem6\\WB2\\.venv\\Lib\\site-packages\\torchvision\\models\\_utils.py:223: UserWarning: Arguments other than a weight enum or `None` for 'weights' are deprecated since 0.13 and may be removed in the future. The current behavior is equivalent to passing `weights=ResNet18_Weights.IMAGENET1K_V1`. You can also use `weights=ResNet18_Weights.DEFAULT` to get the most up-to-date weights.\n",
      "  warnings.warn(msg)\n",
      "Using default `ModelCheckpoint`. Consider installing `litmodels` package to enable `LitModelCheckpoint` for automatic upload to the Lightning model registry.\n",
      "GPU available: True (cuda), used: True\n",
      "TPU available: False, using: 0 TPU cores\n",
      "HPU available: False, using: 0 HPUs\n",
      "LOCAL_RANK: 0 - CUDA_VISIBLE_DEVICES: [0]\n",
      "\n",
      "  | Name              | Type                 | Params | Mode \n",
      "-------------------------------------------------------------------\n",
      "0 | online_backbone   | Sequential           | 11.2 M | train\n",
      "1 | online_projection | SimCLRProjectionHead | 328 K  | train\n",
      "2 | online_predictor  | Sequential           | 16.7 K | train\n",
      "3 | target_backbone   | Sequential           | 11.2 M | train\n",
      "4 | target_projection | SimCLRProjectionHead | 328 K  | train\n",
      "-------------------------------------------------------------------\n",
      "11.5 M    Trainable params\n",
      "11.5 M    Non-trainable params\n",
      "23.0 M    Total params\n",
      "92.111    Total estimated model params size (MB)\n",
      "153       Modules in train mode\n",
      "0         Modules in eval mode\n"
     ]
    },
    {
     "name": "stdout",
     "output_type": "stream",
     "text": [
      "Sanity Checking: |          | 0/? [00:00<?, ?it/s]"
     ]
    },
    {
     "name": "stderr",
     "output_type": "stream",
     "text": [
      "e:\\programowanie\\studia\\sem6\\WB2\\.venv\\Lib\\site-packages\\pytorch_lightning\\trainer\\connectors\\data_connector.py:420: Consider setting `persistent_workers=True` in 'val_dataloader' to speed up the dataloader worker initialization.\n"
     ]
    },
    {
     "name": "stdout",
     "output_type": "stream",
     "text": [
      "                                                                           \r"
     ]
    },
    {
     "name": "stderr",
     "output_type": "stream",
     "text": [
      "e:\\programowanie\\studia\\sem6\\WB2\\.venv\\Lib\\site-packages\\pytorch_lightning\\trainer\\connectors\\data_connector.py:420: Consider setting `persistent_workers=True` in 'train_dataloader' to speed up the dataloader worker initialization.\n"
     ]
    },
    {
     "name": "stdout",
     "output_type": "stream",
     "text": [
      "Epoch 9: 100%|██████████| 351/351 [03:54<00:00,  1.49it/s, v_num=0, train_loss=0.144, val_loss=-1.25, val_ari=0.0698, val_nmi=0.118, train_ari=0.0322, train_nmi=0.067]     Zapisano model po epoce 9: checkpoints/byol_cifar10_pretrained_0.01_0.98\\model_epoch_9.ckpt\n",
      "Epoch 14: 100%|██████████| 351/351 [04:46<00:00,  1.22it/s, v_num=0, train_loss=-0.127, val_loss=-1.55, val_ari=0.0752, val_nmi=0.134, train_ari=0.0381, train_nmi=0.0776]   Zapisano model po epoce 14: checkpoints/byol_cifar10_pretrained_0.01_0.98\\model_epoch_14.ckpt\n",
      "Epoch 19: 100%|██████████| 351/351 [03:34<00:00,  1.64it/s, v_num=0, train_loss=-0.0492, val_loss=-1.61, val_ari=0.0732, val_nmi=0.134, train_ari=0.0411, train_nmi=0.0818]  Zapisano model po epoce 19: checkpoints/byol_cifar10_pretrained_0.01_0.98\\model_epoch_19.ckpt\n",
      "Epoch 19: 100%|██████████| 351/351 [03:35<00:00,  1.63it/s, v_num=0, train_loss=-0.0492, val_loss=-1.61, val_ari=0.0732, val_nmi=0.134, train_ari=0.0411, train_nmi=0.0818]"
     ]
    },
    {
     "name": "stderr",
     "output_type": "stream",
     "text": [
      "`Trainer.fit` stopped: `max_epochs=20` reached.\n"
     ]
    },
    {
     "name": "stdout",
     "output_type": "stream",
     "text": [
      "Epoch 19: 100%|██████████| 351/351 [03:38<00:00,  1.61it/s, v_num=0, train_loss=-0.0492, val_loss=-1.61, val_ari=0.0732, val_nmi=0.134, train_ari=0.0411, train_nmi=0.0818]\n"
     ]
    },
    {
     "name": "stderr",
     "output_type": "stream",
     "text": [
      "e:\\programowanie\\studia\\sem6\\WB2\\.venv\\Lib\\site-packages\\torchvision\\models\\_utils.py:208: UserWarning: The parameter 'pretrained' is deprecated since 0.13 and may be removed in the future, please use 'weights' instead.\n",
      "  warnings.warn(\n",
      "e:\\programowanie\\studia\\sem6\\WB2\\.venv\\Lib\\site-packages\\torchvision\\models\\_utils.py:223: UserWarning: Arguments other than a weight enum or `None` for 'weights' are deprecated since 0.13 and may be removed in the future. The current behavior is equivalent to passing `weights=ResNet18_Weights.IMAGENET1K_V1`. You can also use `weights=ResNet18_Weights.DEFAULT` to get the most up-to-date weights.\n",
      "  warnings.warn(msg)\n",
      "Using default `ModelCheckpoint`. Consider installing `litmodels` package to enable `LitModelCheckpoint` for automatic upload to the Lightning model registry.\n",
      "GPU available: True (cuda), used: True\n",
      "TPU available: False, using: 0 TPU cores\n",
      "HPU available: False, using: 0 HPUs\n",
      "LOCAL_RANK: 0 - CUDA_VISIBLE_DEVICES: [0]\n",
      "\n",
      "  | Name              | Type                 | Params | Mode \n",
      "-------------------------------------------------------------------\n",
      "0 | online_backbone   | Sequential           | 11.2 M | train\n",
      "1 | online_projection | SimCLRProjectionHead | 328 K  | train\n",
      "2 | online_predictor  | Sequential           | 16.7 K | train\n",
      "3 | target_backbone   | Sequential           | 11.2 M | train\n",
      "4 | target_projection | SimCLRProjectionHead | 328 K  | train\n",
      "-------------------------------------------------------------------\n",
      "11.5 M    Trainable params\n",
      "11.5 M    Non-trainable params\n",
      "23.0 M    Total params\n",
      "92.111    Total estimated model params size (MB)\n",
      "153       Modules in train mode\n",
      "0         Modules in eval mode\n"
     ]
    },
    {
     "name": "stdout",
     "output_type": "stream",
     "text": [
      "Sanity Checking: |          | 0/? [00:00<?, ?it/s]"
     ]
    },
    {
     "name": "stderr",
     "output_type": "stream",
     "text": [
      "e:\\programowanie\\studia\\sem6\\WB2\\.venv\\Lib\\site-packages\\pytorch_lightning\\trainer\\connectors\\data_connector.py:420: Consider setting `persistent_workers=True` in 'val_dataloader' to speed up the dataloader worker initialization.\n"
     ]
    },
    {
     "name": "stdout",
     "output_type": "stream",
     "text": [
      "                                                                           \r"
     ]
    },
    {
     "name": "stderr",
     "output_type": "stream",
     "text": [
      "e:\\programowanie\\studia\\sem6\\WB2\\.venv\\Lib\\site-packages\\pytorch_lightning\\trainer\\connectors\\data_connector.py:420: Consider setting `persistent_workers=True` in 'train_dataloader' to speed up the dataloader worker initialization.\n"
     ]
    },
    {
     "name": "stdout",
     "output_type": "stream",
     "text": [
      "Epoch 9: 100%|██████████| 351/351 [03:29<00:00,  1.68it/s, v_num=0, train_loss=0.781, val_loss=-0.809, val_ari=0.0739, val_nmi=0.135, train_ari=0.0364, train_nmi=0.0657]Zapisano model po epoce 9: checkpoints/byol_cifar10_pretrained_0.01_0.996\\model_epoch_9.ckpt\n",
      "Epoch 14: 100%|██████████| 351/351 [03:30<00:00,  1.67it/s, v_num=0, train_loss=0.382, val_loss=-1.25, val_ari=0.0768, val_nmi=0.131, train_ari=0.046, train_nmi=0.0811]  Zapisano model po epoce 14: checkpoints/byol_cifar10_pretrained_0.01_0.996\\model_epoch_14.ckpt\n",
      "Epoch 19: 100%|██████████| 351/351 [04:38<00:00,  1.26it/s, v_num=0, train_loss=0.0758, val_loss=-1.24, val_ari=0.0765, val_nmi=0.133, train_ari=0.0476, train_nmi=0.0855]  Zapisano model po epoce 19: checkpoints/byol_cifar10_pretrained_0.01_0.996\\model_epoch_19.ckpt\n",
      "Epoch 19: 100%|██████████| 351/351 [04:40<00:00,  1.25it/s, v_num=0, train_loss=0.0758, val_loss=-1.24, val_ari=0.0765, val_nmi=0.133, train_ari=0.0476, train_nmi=0.0855]"
     ]
    },
    {
     "name": "stderr",
     "output_type": "stream",
     "text": [
      "`Trainer.fit` stopped: `max_epochs=20` reached.\n"
     ]
    },
    {
     "name": "stdout",
     "output_type": "stream",
     "text": [
      "Epoch 19: 100%|██████████| 351/351 [04:43<00:00,  1.24it/s, v_num=0, train_loss=0.0758, val_loss=-1.24, val_ari=0.0765, val_nmi=0.133, train_ari=0.0476, train_nmi=0.0855]\n"
     ]
    },
    {
     "name": "stderr",
     "output_type": "stream",
     "text": [
      "e:\\programowanie\\studia\\sem6\\WB2\\.venv\\Lib\\site-packages\\torchvision\\models\\_utils.py:208: UserWarning: The parameter 'pretrained' is deprecated since 0.13 and may be removed in the future, please use 'weights' instead.\n",
      "  warnings.warn(\n",
      "e:\\programowanie\\studia\\sem6\\WB2\\.venv\\Lib\\site-packages\\torchvision\\models\\_utils.py:223: UserWarning: Arguments other than a weight enum or `None` for 'weights' are deprecated since 0.13 and may be removed in the future. The current behavior is equivalent to passing `weights=None`.\n",
      "  warnings.warn(msg)\n",
      "Using default `ModelCheckpoint`. Consider installing `litmodels` package to enable `LitModelCheckpoint` for automatic upload to the Lightning model registry.\n",
      "GPU available: True (cuda), used: True\n",
      "TPU available: False, using: 0 TPU cores\n",
      "HPU available: False, using: 0 HPUs\n",
      "LOCAL_RANK: 0 - CUDA_VISIBLE_DEVICES: [0]\n",
      "\n",
      "  | Name              | Type                 | Params | Mode \n",
      "-------------------------------------------------------------------\n",
      "0 | online_backbone   | Sequential           | 11.2 M | train\n",
      "1 | online_projection | SimCLRProjectionHead | 328 K  | train\n",
      "2 | online_predictor  | Sequential           | 16.7 K | train\n",
      "3 | target_backbone   | Sequential           | 11.2 M | train\n",
      "4 | target_projection | SimCLRProjectionHead | 328 K  | train\n",
      "-------------------------------------------------------------------\n",
      "11.5 M    Trainable params\n",
      "11.5 M    Non-trainable params\n",
      "23.0 M    Total params\n",
      "92.111    Total estimated model params size (MB)\n",
      "153       Modules in train mode\n",
      "0         Modules in eval mode\n"
     ]
    },
    {
     "name": "stdout",
     "output_type": "stream",
     "text": [
      "Sanity Checking: |          | 0/? [00:00<?, ?it/s]"
     ]
    },
    {
     "name": "stderr",
     "output_type": "stream",
     "text": [
      "e:\\programowanie\\studia\\sem6\\WB2\\.venv\\Lib\\site-packages\\pytorch_lightning\\trainer\\connectors\\data_connector.py:420: Consider setting `persistent_workers=True` in 'val_dataloader' to speed up the dataloader worker initialization.\n"
     ]
    },
    {
     "name": "stdout",
     "output_type": "stream",
     "text": [
      "                                                                           \r"
     ]
    },
    {
     "name": "stderr",
     "output_type": "stream",
     "text": [
      "e:\\programowanie\\studia\\sem6\\WB2\\.venv\\Lib\\site-packages\\pytorch_lightning\\trainer\\connectors\\data_connector.py:420: Consider setting `persistent_workers=True` in 'train_dataloader' to speed up the dataloader worker initialization.\n"
     ]
    },
    {
     "name": "stdout",
     "output_type": "stream",
     "text": [
      "Epoch 9: 100%|██████████| 351/351 [03:43<00:00,  1.57it/s, v_num=0, train_loss=0.108, val_loss=-1.33, val_ari=0.0573, val_nmi=0.115, train_ari=0.0253, train_nmi=0.0518]   Zapisano model po epoce 9: checkpoints/byol_cifar10_random_0.01_0.98\\model_epoch_9.ckpt\n",
      "Epoch 14: 100%|██████████| 351/351 [03:45<00:00,  1.56it/s, v_num=0, train_loss=-0.111, val_loss=-1.47, val_ari=0.0619, val_nmi=0.124, train_ari=0.0303, train_nmi=0.0595]   Zapisano model po epoce 14: checkpoints/byol_cifar10_random_0.01_0.98\\model_epoch_14.ckpt\n",
      "Epoch 19: 100%|██████████| 351/351 [03:43<00:00,  1.57it/s, v_num=0, train_loss=0.0705, val_loss=-1.54, val_ari=0.0611, val_nmi=0.110, train_ari=0.0364, train_nmi=0.0673]   Zapisano model po epoce 19: checkpoints/byol_cifar10_random_0.01_0.98\\model_epoch_19.ckpt\n",
      "Epoch 19: 100%|██████████| 351/351 [03:44<00:00,  1.56it/s, v_num=0, train_loss=0.0705, val_loss=-1.54, val_ari=0.0611, val_nmi=0.110, train_ari=0.0364, train_nmi=0.0673]"
     ]
    },
    {
     "name": "stderr",
     "output_type": "stream",
     "text": [
      "`Trainer.fit` stopped: `max_epochs=20` reached.\n"
     ]
    },
    {
     "name": "stdout",
     "output_type": "stream",
     "text": [
      "Epoch 19: 100%|██████████| 351/351 [03:46<00:00,  1.55it/s, v_num=0, train_loss=0.0705, val_loss=-1.54, val_ari=0.0611, val_nmi=0.110, train_ari=0.0364, train_nmi=0.0673]\n"
     ]
    },
    {
     "name": "stderr",
     "output_type": "stream",
     "text": [
      "e:\\programowanie\\studia\\sem6\\WB2\\.venv\\Lib\\site-packages\\torchvision\\models\\_utils.py:208: UserWarning: The parameter 'pretrained' is deprecated since 0.13 and may be removed in the future, please use 'weights' instead.\n",
      "  warnings.warn(\n",
      "e:\\programowanie\\studia\\sem6\\WB2\\.venv\\Lib\\site-packages\\torchvision\\models\\_utils.py:223: UserWarning: Arguments other than a weight enum or `None` for 'weights' are deprecated since 0.13 and may be removed in the future. The current behavior is equivalent to passing `weights=None`.\n",
      "  warnings.warn(msg)\n",
      "Using default `ModelCheckpoint`. Consider installing `litmodels` package to enable `LitModelCheckpoint` for automatic upload to the Lightning model registry.\n",
      "GPU available: True (cuda), used: True\n",
      "TPU available: False, using: 0 TPU cores\n",
      "HPU available: False, using: 0 HPUs\n",
      "LOCAL_RANK: 0 - CUDA_VISIBLE_DEVICES: [0]\n",
      "\n",
      "  | Name              | Type                 | Params | Mode \n",
      "-------------------------------------------------------------------\n",
      "0 | online_backbone   | Sequential           | 11.2 M | train\n",
      "1 | online_projection | SimCLRProjectionHead | 328 K  | train\n",
      "2 | online_predictor  | Sequential           | 16.7 K | train\n",
      "3 | target_backbone   | Sequential           | 11.2 M | train\n",
      "4 | target_projection | SimCLRProjectionHead | 328 K  | train\n",
      "-------------------------------------------------------------------\n",
      "11.5 M    Trainable params\n",
      "11.5 M    Non-trainable params\n",
      "23.0 M    Total params\n",
      "92.111    Total estimated model params size (MB)\n",
      "153       Modules in train mode\n",
      "0         Modules in eval mode\n"
     ]
    },
    {
     "name": "stdout",
     "output_type": "stream",
     "text": [
      "Sanity Checking: |          | 0/? [00:00<?, ?it/s]"
     ]
    },
    {
     "name": "stderr",
     "output_type": "stream",
     "text": [
      "e:\\programowanie\\studia\\sem6\\WB2\\.venv\\Lib\\site-packages\\pytorch_lightning\\trainer\\connectors\\data_connector.py:420: Consider setting `persistent_workers=True` in 'val_dataloader' to speed up the dataloader worker initialization.\n"
     ]
    },
    {
     "name": "stdout",
     "output_type": "stream",
     "text": [
      "                                                                           \r"
     ]
    },
    {
     "name": "stderr",
     "output_type": "stream",
     "text": [
      "e:\\programowanie\\studia\\sem6\\WB2\\.venv\\Lib\\site-packages\\pytorch_lightning\\trainer\\connectors\\data_connector.py:420: Consider setting `persistent_workers=True` in 'train_dataloader' to speed up the dataloader worker initialization.\n"
     ]
    },
    {
     "name": "stdout",
     "output_type": "stream",
     "text": [
      "Epoch 9: 100%|██████████| 351/351 [03:41<00:00,  1.59it/s, v_num=0, train_loss=0.709, val_loss=-0.812, val_ari=0.0551, val_nmi=0.114, train_ari=0.028, train_nmi=0.0592]   Zapisano model po epoce 9: checkpoints/byol_cifar10_random_0.01_0.996\\model_epoch_9.ckpt\n",
      "Epoch 14: 100%|██████████| 351/351 [03:41<00:00,  1.58it/s, v_num=0, train_loss=0.566, val_loss=-1.14, val_ari=0.059, val_nmi=0.108, train_ari=0.0299, train_nmi=0.065]   Zapisano model po epoce 14: checkpoints/byol_cifar10_random_0.01_0.996\\model_epoch_14.ckpt\n",
      "Epoch 19: 100%|██████████| 351/351 [03:45<00:00,  1.56it/s, v_num=0, train_loss=0.504, val_loss=-1.26, val_ari=0.0597, val_nmi=0.110, train_ari=0.0301, train_nmi=0.066] Zapisano model po epoce 19: checkpoints/byol_cifar10_random_0.01_0.996\\model_epoch_19.ckpt\n",
      "Epoch 19: 100%|██████████| 351/351 [03:45<00:00,  1.55it/s, v_num=0, train_loss=0.504, val_loss=-1.26, val_ari=0.0597, val_nmi=0.110, train_ari=0.0301, train_nmi=0.066]"
     ]
    },
    {
     "name": "stderr",
     "output_type": "stream",
     "text": [
      "`Trainer.fit` stopped: `max_epochs=20` reached.\n"
     ]
    },
    {
     "name": "stdout",
     "output_type": "stream",
     "text": [
      "Epoch 19: 100%|██████████| 351/351 [03:48<00:00,  1.53it/s, v_num=0, train_loss=0.504, val_loss=-1.26, val_ari=0.0597, val_nmi=0.110, train_ari=0.0301, train_nmi=0.066]\n"
     ]
    }
   ],
   "source": [
    "for lr, backbone_type, tau in product(LEARNING_RATE, BACKBONE_TYPE, TAU):\n",
    "    torch.cuda.empty_cache()\n",
    "    gc.collect()\n",
    "\n",
    "    byol_model = BYOLModel(\n",
    "        backbone_type=backbone_type + '_resnet18',\n",
    "        lr=lr,\n",
    "        max_epochs=NUM_EPOCHS,\n",
    "        tau=tau,\n",
    "    )\n",
    "\n",
    "    dirpath = f\"checkpoints/byol_cifar10_{backbone_type}_{lr}_{tau}\"\n",
    "\n",
    "    checkpoint_callback = SaveAtEpochsCallback(\n",
    "        save_epochs=[10, 15, 20],\n",
    "        dirpath=dirpath\n",
    "    )\n",
    "\n",
    "    trainer = pl.Trainer(\n",
    "        accelerator='gpu',\n",
    "        devices=1,\n",
    "        max_epochs=NUM_EPOCHS,\n",
    "        log_every_n_steps=1,\n",
    "        callbacks=[checkpoint_callback],\n",
    "        default_root_dir=dirpath,\n",
    "    )\n",
    "\n",
    "    trainer.fit(byol_model, dl_train_cifar10_byol, dl_valid_cifar10_byol)\n"
   ]
  },
  {
   "cell_type": "markdown",
   "id": "e1750605",
   "metadata": {},
   "source": [
    "# CIFAR100"
   ]
  },
  {
   "cell_type": "code",
   "execution_count": 16,
   "id": "cf86c1ea",
   "metadata": {},
   "outputs": [],
   "source": [
    "dl_train_cifar100_byol = create_stratified_bootstrap_dataloader(\n",
    "    train_ssl_cifar100_byol, \n",
    "    labels=labels_cifar100,\n",
    "    batch_size=BATCH_SIZE, \n",
    "    num_workers=NUM_WORKERS, \n",
    "    random_state=SEED,\n",
    "    drop_last=True,\n",
    "    pin_memory=True,\n",
    ")\n",
    "\n",
    "dl_valid_cifar100_byol = torch.utils.data.DataLoader(\n",
    "    test_cifar100_byol, \n",
    "    batch_size=BATCH_SIZE, \n",
    "    num_workers=NUM_WORKERS, \n",
    "    shuffle=False, \n",
    ")"
   ]
  },
  {
   "cell_type": "code",
   "execution_count": 17,
   "id": "ba6c664a",
   "metadata": {},
   "outputs": [],
   "source": [
    "from pytorch_lightning.callbacks import Callback\n",
    "import os\n",
    "\n",
    "class SaveAtEpochsCallback(Callback):\n",
    "    def __init__(self, save_epochs, dirpath=\"checkpoints\"):\n",
    "        super().__init__()\n",
    "        self.save_epochs = set(save_epochs)\n",
    "        self.dirpath = dirpath\n",
    "        os.makedirs(self.dirpath, exist_ok=True)\n",
    "\n",
    "    def on_train_epoch_end(self, trainer, pl_module):\n",
    "        current_epoch = trainer.current_epoch  # epoka 0-based\n",
    "        if current_epoch + 1 in self.save_epochs:\n",
    "            filename = f\"model_epoch_{current_epoch}.ckpt\"\n",
    "            path = os.path.join(self.dirpath, filename)\n",
    "            trainer.save_checkpoint(path)\n",
    "            print(f\"Zapisano model po epoce {current_epoch}: {path}\")"
   ]
  },
  {
   "cell_type": "code",
   "execution_count": 18,
   "id": "73ae304c",
   "metadata": {},
   "outputs": [
    {
     "name": "stderr",
     "output_type": "stream",
     "text": [
      "e:\\programowanie\\studia\\sem6\\WB2\\.venv\\Lib\\site-packages\\torchvision\\models\\_utils.py:208: UserWarning: The parameter 'pretrained' is deprecated since 0.13 and may be removed in the future, please use 'weights' instead.\n",
      "  warnings.warn(\n",
      "e:\\programowanie\\studia\\sem6\\WB2\\.venv\\Lib\\site-packages\\torchvision\\models\\_utils.py:223: UserWarning: Arguments other than a weight enum or `None` for 'weights' are deprecated since 0.13 and may be removed in the future. The current behavior is equivalent to passing `weights=ResNet18_Weights.IMAGENET1K_V1`. You can also use `weights=ResNet18_Weights.DEFAULT` to get the most up-to-date weights.\n",
      "  warnings.warn(msg)\n",
      "Using default `ModelCheckpoint`. Consider installing `litmodels` package to enable `LitModelCheckpoint` for automatic upload to the Lightning model registry.\n",
      "GPU available: True (cuda), used: True\n",
      "TPU available: False, using: 0 TPU cores\n",
      "HPU available: False, using: 0 HPUs\n",
      "LOCAL_RANK: 0 - CUDA_VISIBLE_DEVICES: [0]\n",
      "\n",
      "  | Name              | Type                 | Params | Mode \n",
      "-------------------------------------------------------------------\n",
      "0 | online_backbone   | Sequential           | 11.2 M | train\n",
      "1 | online_projection | SimCLRProjectionHead | 328 K  | train\n",
      "2 | online_predictor  | Sequential           | 16.7 K | train\n",
      "3 | target_backbone   | Sequential           | 11.2 M | train\n",
      "4 | target_projection | SimCLRProjectionHead | 328 K  | train\n",
      "-------------------------------------------------------------------\n",
      "11.5 M    Trainable params\n",
      "11.5 M    Non-trainable params\n",
      "23.0 M    Total params\n",
      "92.111    Total estimated model params size (MB)\n",
      "153       Modules in train mode\n",
      "0         Modules in eval mode\n"
     ]
    },
    {
     "name": "stdout",
     "output_type": "stream",
     "text": [
      "Sanity Checking: |          | 0/? [00:00<?, ?it/s]"
     ]
    },
    {
     "name": "stderr",
     "output_type": "stream",
     "text": [
      "e:\\programowanie\\studia\\sem6\\WB2\\.venv\\Lib\\site-packages\\pytorch_lightning\\trainer\\connectors\\data_connector.py:420: Consider setting `persistent_workers=True` in 'val_dataloader' to speed up the dataloader worker initialization.\n"
     ]
    },
    {
     "name": "stdout",
     "output_type": "stream",
     "text": [
      "                                                                           \r"
     ]
    },
    {
     "name": "stderr",
     "output_type": "stream",
     "text": [
      "e:\\programowanie\\studia\\sem6\\WB2\\.venv\\Lib\\site-packages\\pytorch_lightning\\trainer\\connectors\\data_connector.py:420: Consider setting `persistent_workers=True` in 'train_dataloader' to speed up the dataloader worker initialization.\n"
     ]
    },
    {
     "name": "stdout",
     "output_type": "stream",
     "text": [
      "Epoch 9: 100%|██████████| 351/351 [03:38<00:00,  1.61it/s, v_num=0, train_loss=-0.30, val_loss=-1.39, val_ari=0.0148, val_nmi=0.147, train_ari=0.012, train_nmi=0.106]       Zapisano model po epoce 9: checkpoints/byol_cifar100_pretrained_0.001_0.98\\model_epoch_9.ckpt\n",
      "Epoch 14: 100%|██████████| 351/351 [03:37<00:00,  1.61it/s, v_num=0, train_loss=-0.614, val_loss=-1.64, val_ari=0.0159, val_nmi=0.142, train_ari=0.0124, train_nmi=0.109]Zapisano model po epoce 14: checkpoints/byol_cifar100_pretrained_0.001_0.98\\model_epoch_14.ckpt\n",
      "Epoch 19: 100%|██████████| 351/351 [03:39<00:00,  1.60it/s, v_num=0, train_loss=-0.718, val_loss=-1.69, val_ari=0.0164, val_nmi=0.143, train_ari=0.0123, train_nmi=0.110]Zapisano model po epoce 19: checkpoints/byol_cifar100_pretrained_0.001_0.98\\model_epoch_19.ckpt\n",
      "Epoch 19: 100%|██████████| 351/351 [03:41<00:00,  1.59it/s, v_num=0, train_loss=-0.718, val_loss=-1.69, val_ari=0.0164, val_nmi=0.143, train_ari=0.0123, train_nmi=0.110]"
     ]
    },
    {
     "name": "stderr",
     "output_type": "stream",
     "text": [
      "`Trainer.fit` stopped: `max_epochs=20` reached.\n"
     ]
    },
    {
     "name": "stdout",
     "output_type": "stream",
     "text": [
      "Epoch 19: 100%|██████████| 351/351 [03:43<00:00,  1.57it/s, v_num=0, train_loss=-0.718, val_loss=-1.69, val_ari=0.0164, val_nmi=0.143, train_ari=0.0123, train_nmi=0.110]\n"
     ]
    },
    {
     "name": "stderr",
     "output_type": "stream",
     "text": [
      "e:\\programowanie\\studia\\sem6\\WB2\\.venv\\Lib\\site-packages\\torchvision\\models\\_utils.py:208: UserWarning: The parameter 'pretrained' is deprecated since 0.13 and may be removed in the future, please use 'weights' instead.\n",
      "  warnings.warn(\n",
      "e:\\programowanie\\studia\\sem6\\WB2\\.venv\\Lib\\site-packages\\torchvision\\models\\_utils.py:223: UserWarning: Arguments other than a weight enum or `None` for 'weights' are deprecated since 0.13 and may be removed in the future. The current behavior is equivalent to passing `weights=ResNet18_Weights.IMAGENET1K_V1`. You can also use `weights=ResNet18_Weights.DEFAULT` to get the most up-to-date weights.\n",
      "  warnings.warn(msg)\n",
      "Using default `ModelCheckpoint`. Consider installing `litmodels` package to enable `LitModelCheckpoint` for automatic upload to the Lightning model registry.\n",
      "GPU available: True (cuda), used: True\n",
      "TPU available: False, using: 0 TPU cores\n",
      "HPU available: False, using: 0 HPUs\n",
      "LOCAL_RANK: 0 - CUDA_VISIBLE_DEVICES: [0]\n",
      "\n",
      "  | Name              | Type                 | Params | Mode \n",
      "-------------------------------------------------------------------\n",
      "0 | online_backbone   | Sequential           | 11.2 M | train\n",
      "1 | online_projection | SimCLRProjectionHead | 328 K  | train\n",
      "2 | online_predictor  | Sequential           | 16.7 K | train\n",
      "3 | target_backbone   | Sequential           | 11.2 M | train\n",
      "4 | target_projection | SimCLRProjectionHead | 328 K  | train\n",
      "-------------------------------------------------------------------\n",
      "11.5 M    Trainable params\n",
      "11.5 M    Non-trainable params\n",
      "23.0 M    Total params\n",
      "92.111    Total estimated model params size (MB)\n",
      "153       Modules in train mode\n",
      "0         Modules in eval mode\n"
     ]
    },
    {
     "name": "stdout",
     "output_type": "stream",
     "text": [
      "Sanity Checking: |          | 0/? [00:00<?, ?it/s]"
     ]
    },
    {
     "name": "stderr",
     "output_type": "stream",
     "text": [
      "e:\\programowanie\\studia\\sem6\\WB2\\.venv\\Lib\\site-packages\\pytorch_lightning\\trainer\\connectors\\data_connector.py:420: Consider setting `persistent_workers=True` in 'val_dataloader' to speed up the dataloader worker initialization.\n"
     ]
    },
    {
     "name": "stdout",
     "output_type": "stream",
     "text": [
      "                                                                           \r"
     ]
    },
    {
     "name": "stderr",
     "output_type": "stream",
     "text": [
      "e:\\programowanie\\studia\\sem6\\WB2\\.venv\\Lib\\site-packages\\pytorch_lightning\\trainer\\connectors\\data_connector.py:420: Consider setting `persistent_workers=True` in 'train_dataloader' to speed up the dataloader worker initialization.\n"
     ]
    },
    {
     "name": "stdout",
     "output_type": "stream",
     "text": [
      "Epoch 9: 100%|██████████| 351/351 [03:37<00:00,  1.61it/s, v_num=0, train_loss=0.940, val_loss=0.554, val_ari=0.012, val_nmi=0.120, train_ari=0.0108, train_nmi=0.0922]  Zapisano model po epoce 9: checkpoints/byol_cifar100_pretrained_0.001_0.996\\model_epoch_9.ckpt\n",
      "Epoch 14: 100%|██████████| 351/351 [03:39<00:00,  1.60it/s, v_num=0, train_loss=0.575, val_loss=-0.0103, val_ari=0.0133, val_nmi=0.124, train_ari=0.0114, train_nmi=0.102]Zapisano model po epoce 14: checkpoints/byol_cifar100_pretrained_0.001_0.996\\model_epoch_14.ckpt\n",
      "Epoch 19: 100%|██████████| 351/351 [04:33<00:00,  1.28it/s, v_num=0, train_loss=0.310, val_loss=-0.464, val_ari=0.0144, val_nmi=0.130, train_ari=0.0119, train_nmi=0.108] Zapisano model po epoce 19: checkpoints/byol_cifar100_pretrained_0.001_0.996\\model_epoch_19.ckpt\n",
      "Epoch 19: 100%|██████████| 351/351 [04:35<00:00,  1.27it/s, v_num=0, train_loss=0.310, val_loss=-0.464, val_ari=0.0144, val_nmi=0.130, train_ari=0.0119, train_nmi=0.108]"
     ]
    },
    {
     "name": "stderr",
     "output_type": "stream",
     "text": [
      "`Trainer.fit` stopped: `max_epochs=20` reached.\n"
     ]
    },
    {
     "name": "stdout",
     "output_type": "stream",
     "text": [
      "Epoch 19: 100%|██████████| 351/351 [04:40<00:00,  1.25it/s, v_num=0, train_loss=0.310, val_loss=-0.464, val_ari=0.0144, val_nmi=0.130, train_ari=0.0119, train_nmi=0.108]\n"
     ]
    },
    {
     "name": "stderr",
     "output_type": "stream",
     "text": [
      "e:\\programowanie\\studia\\sem6\\WB2\\.venv\\Lib\\site-packages\\torchvision\\models\\_utils.py:208: UserWarning: The parameter 'pretrained' is deprecated since 0.13 and may be removed in the future, please use 'weights' instead.\n",
      "  warnings.warn(\n",
      "e:\\programowanie\\studia\\sem6\\WB2\\.venv\\Lib\\site-packages\\torchvision\\models\\_utils.py:223: UserWarning: Arguments other than a weight enum or `None` for 'weights' are deprecated since 0.13 and may be removed in the future. The current behavior is equivalent to passing `weights=None`.\n",
      "  warnings.warn(msg)\n",
      "Using default `ModelCheckpoint`. Consider installing `litmodels` package to enable `LitModelCheckpoint` for automatic upload to the Lightning model registry.\n",
      "GPU available: True (cuda), used: True\n",
      "TPU available: False, using: 0 TPU cores\n",
      "HPU available: False, using: 0 HPUs\n",
      "LOCAL_RANK: 0 - CUDA_VISIBLE_DEVICES: [0]\n",
      "\n",
      "  | Name              | Type                 | Params | Mode \n",
      "-------------------------------------------------------------------\n",
      "0 | online_backbone   | Sequential           | 11.2 M | train\n",
      "1 | online_projection | SimCLRProjectionHead | 328 K  | train\n",
      "2 | online_predictor  | Sequential           | 16.7 K | train\n",
      "3 | target_backbone   | Sequential           | 11.2 M | train\n",
      "4 | target_projection | SimCLRProjectionHead | 328 K  | train\n",
      "-------------------------------------------------------------------\n",
      "11.5 M    Trainable params\n",
      "11.5 M    Non-trainable params\n",
      "23.0 M    Total params\n",
      "92.111    Total estimated model params size (MB)\n",
      "153       Modules in train mode\n",
      "0         Modules in eval mode\n"
     ]
    },
    {
     "name": "stdout",
     "output_type": "stream",
     "text": [
      "Sanity Checking: |          | 0/? [00:00<?, ?it/s]"
     ]
    },
    {
     "name": "stderr",
     "output_type": "stream",
     "text": [
      "e:\\programowanie\\studia\\sem6\\WB2\\.venv\\Lib\\site-packages\\pytorch_lightning\\trainer\\connectors\\data_connector.py:420: Consider setting `persistent_workers=True` in 'val_dataloader' to speed up the dataloader worker initialization.\n"
     ]
    },
    {
     "name": "stdout",
     "output_type": "stream",
     "text": [
      "                                                                           \r"
     ]
    },
    {
     "name": "stderr",
     "output_type": "stream",
     "text": [
      "e:\\programowanie\\studia\\sem6\\WB2\\.venv\\Lib\\site-packages\\pytorch_lightning\\trainer\\connectors\\data_connector.py:420: Consider setting `persistent_workers=True` in 'train_dataloader' to speed up the dataloader worker initialization.\n"
     ]
    },
    {
     "name": "stdout",
     "output_type": "stream",
     "text": [
      "Epoch 9: 100%|██████████| 351/351 [03:37<00:00,  1.62it/s, v_num=0, train_loss=0.266, val_loss=-1.05, val_ari=0.00379, val_nmi=0.0653, train_ari=0.00177, train_nmi=0.0386]    Zapisano model po epoce 9: checkpoints/byol_cifar100_random_0.001_0.98\\model_epoch_9.ckpt\n",
      "Epoch 14: 100%|██████████| 351/351 [03:37<00:00,  1.61it/s, v_num=0, train_loss=-0.0074, val_loss=-1.32, val_ari=0.00706, val_nmi=0.0821, train_ari=0.00275, train_nmi=0.0437]  Zapisano model po epoce 14: checkpoints/byol_cifar100_random_0.001_0.98\\model_epoch_14.ckpt\n",
      "Epoch 19: 100%|██████████| 351/351 [03:37<00:00,  1.61it/s, v_num=0, train_loss=-0.223, val_loss=-1.44, val_ari=0.00518, val_nmi=0.0771, train_ari=0.00393, train_nmi=0.0519]   Zapisano model po epoce 19: checkpoints/byol_cifar100_random_0.001_0.98\\model_epoch_19.ckpt\n",
      "Epoch 19: 100%|██████████| 351/351 [03:39<00:00,  1.60it/s, v_num=0, train_loss=-0.223, val_loss=-1.44, val_ari=0.00518, val_nmi=0.0771, train_ari=0.00393, train_nmi=0.0519]"
     ]
    },
    {
     "name": "stderr",
     "output_type": "stream",
     "text": [
      "`Trainer.fit` stopped: `max_epochs=20` reached.\n"
     ]
    },
    {
     "name": "stdout",
     "output_type": "stream",
     "text": [
      "Epoch 19: 100%|██████████| 351/351 [03:42<00:00,  1.58it/s, v_num=0, train_loss=-0.223, val_loss=-1.44, val_ari=0.00518, val_nmi=0.0771, train_ari=0.00393, train_nmi=0.0519]\n"
     ]
    },
    {
     "name": "stderr",
     "output_type": "stream",
     "text": [
      "e:\\programowanie\\studia\\sem6\\WB2\\.venv\\Lib\\site-packages\\torchvision\\models\\_utils.py:208: UserWarning: The parameter 'pretrained' is deprecated since 0.13 and may be removed in the future, please use 'weights' instead.\n",
      "  warnings.warn(\n",
      "e:\\programowanie\\studia\\sem6\\WB2\\.venv\\Lib\\site-packages\\torchvision\\models\\_utils.py:223: UserWarning: Arguments other than a weight enum or `None` for 'weights' are deprecated since 0.13 and may be removed in the future. The current behavior is equivalent to passing `weights=None`.\n",
      "  warnings.warn(msg)\n",
      "Using default `ModelCheckpoint`. Consider installing `litmodels` package to enable `LitModelCheckpoint` for automatic upload to the Lightning model registry.\n",
      "GPU available: True (cuda), used: True\n",
      "TPU available: False, using: 0 TPU cores\n",
      "HPU available: False, using: 0 HPUs\n",
      "LOCAL_RANK: 0 - CUDA_VISIBLE_DEVICES: [0]\n",
      "\n",
      "  | Name              | Type                 | Params | Mode \n",
      "-------------------------------------------------------------------\n",
      "0 | online_backbone   | Sequential           | 11.2 M | train\n",
      "1 | online_projection | SimCLRProjectionHead | 328 K  | train\n",
      "2 | online_predictor  | Sequential           | 16.7 K | train\n",
      "3 | target_backbone   | Sequential           | 11.2 M | train\n",
      "4 | target_projection | SimCLRProjectionHead | 328 K  | train\n",
      "-------------------------------------------------------------------\n",
      "11.5 M    Trainable params\n",
      "11.5 M    Non-trainable params\n",
      "23.0 M    Total params\n",
      "92.111    Total estimated model params size (MB)\n",
      "153       Modules in train mode\n",
      "0         Modules in eval mode\n"
     ]
    },
    {
     "name": "stdout",
     "output_type": "stream",
     "text": [
      "Sanity Checking: |          | 0/? [00:00<?, ?it/s]"
     ]
    },
    {
     "name": "stderr",
     "output_type": "stream",
     "text": [
      "e:\\programowanie\\studia\\sem6\\WB2\\.venv\\Lib\\site-packages\\pytorch_lightning\\trainer\\connectors\\data_connector.py:420: Consider setting `persistent_workers=True` in 'val_dataloader' to speed up the dataloader worker initialization.\n"
     ]
    },
    {
     "name": "stdout",
     "output_type": "stream",
     "text": [
      "                                                                           \r"
     ]
    },
    {
     "name": "stderr",
     "output_type": "stream",
     "text": [
      "e:\\programowanie\\studia\\sem6\\WB2\\.venv\\Lib\\site-packages\\pytorch_lightning\\trainer\\connectors\\data_connector.py:420: Consider setting `persistent_workers=True` in 'train_dataloader' to speed up the dataloader worker initialization.\n"
     ]
    },
    {
     "name": "stdout",
     "output_type": "stream",
     "text": [
      "Epoch 9: 100%|██████████| 351/351 [03:43<00:00,  1.57it/s, v_num=0, train_loss=0.717, val_loss=-0.132, val_ari=0.00349, val_nmi=0.0702, train_ari=0.00155, train_nmi=0.0301]  Zapisano model po epoce 9: checkpoints/byol_cifar100_random_0.001_0.996\\model_epoch_9.ckpt\n",
      "Epoch 14: 100%|██████████| 351/351 [03:38<00:00,  1.61it/s, v_num=0, train_loss=0.623, val_loss=-0.389, val_ari=0.00429, val_nmi=0.0702, train_ari=0.00206, train_nmi=0.0369]Zapisano model po epoce 14: checkpoints/byol_cifar100_random_0.001_0.996\\model_epoch_14.ckpt\n",
      "Epoch 19: 100%|██████████| 351/351 [03:37<00:00,  1.62it/s, v_num=0, train_loss=0.306, val_loss=-0.724, val_ari=0.00526, val_nmi=0.0764, train_ari=0.00266, train_nmi=0.0419]Zapisano model po epoce 19: checkpoints/byol_cifar100_random_0.001_0.996\\model_epoch_19.ckpt\n",
      "Epoch 19: 100%|██████████| 351/351 [03:38<00:00,  1.61it/s, v_num=0, train_loss=0.306, val_loss=-0.724, val_ari=0.00526, val_nmi=0.0764, train_ari=0.00266, train_nmi=0.0419]"
     ]
    },
    {
     "name": "stderr",
     "output_type": "stream",
     "text": [
      "`Trainer.fit` stopped: `max_epochs=20` reached.\n"
     ]
    },
    {
     "name": "stdout",
     "output_type": "stream",
     "text": [
      "Epoch 19: 100%|██████████| 351/351 [03:40<00:00,  1.59it/s, v_num=0, train_loss=0.306, val_loss=-0.724, val_ari=0.00526, val_nmi=0.0764, train_ari=0.00266, train_nmi=0.0419]\n"
     ]
    },
    {
     "name": "stderr",
     "output_type": "stream",
     "text": [
      "e:\\programowanie\\studia\\sem6\\WB2\\.venv\\Lib\\site-packages\\torchvision\\models\\_utils.py:208: UserWarning: The parameter 'pretrained' is deprecated since 0.13 and may be removed in the future, please use 'weights' instead.\n",
      "  warnings.warn(\n",
      "e:\\programowanie\\studia\\sem6\\WB2\\.venv\\Lib\\site-packages\\torchvision\\models\\_utils.py:223: UserWarning: Arguments other than a weight enum or `None` for 'weights' are deprecated since 0.13 and may be removed in the future. The current behavior is equivalent to passing `weights=ResNet18_Weights.IMAGENET1K_V1`. You can also use `weights=ResNet18_Weights.DEFAULT` to get the most up-to-date weights.\n",
      "  warnings.warn(msg)\n",
      "Using default `ModelCheckpoint`. Consider installing `litmodels` package to enable `LitModelCheckpoint` for automatic upload to the Lightning model registry.\n",
      "GPU available: True (cuda), used: True\n",
      "TPU available: False, using: 0 TPU cores\n",
      "HPU available: False, using: 0 HPUs\n",
      "LOCAL_RANK: 0 - CUDA_VISIBLE_DEVICES: [0]\n",
      "\n",
      "  | Name              | Type                 | Params | Mode \n",
      "-------------------------------------------------------------------\n",
      "0 | online_backbone   | Sequential           | 11.2 M | train\n",
      "1 | online_projection | SimCLRProjectionHead | 328 K  | train\n",
      "2 | online_predictor  | Sequential           | 16.7 K | train\n",
      "3 | target_backbone   | Sequential           | 11.2 M | train\n",
      "4 | target_projection | SimCLRProjectionHead | 328 K  | train\n",
      "-------------------------------------------------------------------\n",
      "11.5 M    Trainable params\n",
      "11.5 M    Non-trainable params\n",
      "23.0 M    Total params\n",
      "92.111    Total estimated model params size (MB)\n",
      "153       Modules in train mode\n",
      "0         Modules in eval mode\n"
     ]
    },
    {
     "name": "stdout",
     "output_type": "stream",
     "text": [
      "Sanity Checking: |          | 0/? [00:00<?, ?it/s]"
     ]
    },
    {
     "name": "stderr",
     "output_type": "stream",
     "text": [
      "e:\\programowanie\\studia\\sem6\\WB2\\.venv\\Lib\\site-packages\\pytorch_lightning\\trainer\\connectors\\data_connector.py:420: Consider setting `persistent_workers=True` in 'val_dataloader' to speed up the dataloader worker initialization.\n"
     ]
    },
    {
     "name": "stdout",
     "output_type": "stream",
     "text": [
      "                                                                           \r"
     ]
    },
    {
     "name": "stderr",
     "output_type": "stream",
     "text": [
      "e:\\programowanie\\studia\\sem6\\WB2\\.venv\\Lib\\site-packages\\pytorch_lightning\\trainer\\connectors\\data_connector.py:420: Consider setting `persistent_workers=True` in 'train_dataloader' to speed up the dataloader worker initialization.\n"
     ]
    },
    {
     "name": "stdout",
     "output_type": "stream",
     "text": [
      "Epoch 9: 100%|██████████| 351/351 [03:41<00:00,  1.59it/s, v_num=0, train_loss=0.431, val_loss=-1.25, val_ari=0.00955, val_nmi=0.0927, train_ari=0.00472, train_nmi=0.0486]  Zapisano model po epoce 9: checkpoints/byol_cifar100_pretrained_0.01_0.98\\model_epoch_9.ckpt\n",
      "Epoch 14: 100%|██████████| 351/351 [03:39<00:00,  1.60it/s, v_num=0, train_loss=0.284, val_loss=-1.45, val_ari=0.0101, val_nmi=0.0909, train_ari=0.0053, train_nmi=0.0537]     Zapisano model po epoce 14: checkpoints/byol_cifar100_pretrained_0.01_0.98\\model_epoch_14.ckpt\n",
      "Epoch 19: 100%|██████████| 351/351 [03:42<00:00,  1.58it/s, v_num=0, train_loss=0.661, val_loss=-1.60, val_ari=0.00961, val_nmi=0.0894, train_ari=0.00582, train_nmi=0.0551]    Zapisano model po epoce 19: checkpoints/byol_cifar100_pretrained_0.01_0.98\\model_epoch_19.ckpt\n",
      "Epoch 19: 100%|██████████| 351/351 [03:44<00:00,  1.56it/s, v_num=0, train_loss=0.661, val_loss=-1.60, val_ari=0.00961, val_nmi=0.0894, train_ari=0.00582, train_nmi=0.0551]"
     ]
    },
    {
     "name": "stderr",
     "output_type": "stream",
     "text": [
      "`Trainer.fit` stopped: `max_epochs=20` reached.\n"
     ]
    },
    {
     "name": "stdout",
     "output_type": "stream",
     "text": [
      "Epoch 19: 100%|██████████| 351/351 [03:46<00:00,  1.55it/s, v_num=0, train_loss=0.661, val_loss=-1.60, val_ari=0.00961, val_nmi=0.0894, train_ari=0.00582, train_nmi=0.0551]\n"
     ]
    },
    {
     "name": "stderr",
     "output_type": "stream",
     "text": [
      "e:\\programowanie\\studia\\sem6\\WB2\\.venv\\Lib\\site-packages\\torchvision\\models\\_utils.py:208: UserWarning: The parameter 'pretrained' is deprecated since 0.13 and may be removed in the future, please use 'weights' instead.\n",
      "  warnings.warn(\n",
      "e:\\programowanie\\studia\\sem6\\WB2\\.venv\\Lib\\site-packages\\torchvision\\models\\_utils.py:223: UserWarning: Arguments other than a weight enum or `None` for 'weights' are deprecated since 0.13 and may be removed in the future. The current behavior is equivalent to passing `weights=ResNet18_Weights.IMAGENET1K_V1`. You can also use `weights=ResNet18_Weights.DEFAULT` to get the most up-to-date weights.\n",
      "  warnings.warn(msg)\n",
      "Using default `ModelCheckpoint`. Consider installing `litmodels` package to enable `LitModelCheckpoint` for automatic upload to the Lightning model registry.\n",
      "GPU available: True (cuda), used: True\n",
      "TPU available: False, using: 0 TPU cores\n",
      "HPU available: False, using: 0 HPUs\n",
      "LOCAL_RANK: 0 - CUDA_VISIBLE_DEVICES: [0]\n",
      "\n",
      "  | Name              | Type                 | Params | Mode \n",
      "-------------------------------------------------------------------\n",
      "0 | online_backbone   | Sequential           | 11.2 M | train\n",
      "1 | online_projection | SimCLRProjectionHead | 328 K  | train\n",
      "2 | online_predictor  | Sequential           | 16.7 K | train\n",
      "3 | target_backbone   | Sequential           | 11.2 M | train\n",
      "4 | target_projection | SimCLRProjectionHead | 328 K  | train\n",
      "-------------------------------------------------------------------\n",
      "11.5 M    Trainable params\n",
      "11.5 M    Non-trainable params\n",
      "23.0 M    Total params\n",
      "92.111    Total estimated model params size (MB)\n",
      "153       Modules in train mode\n",
      "0         Modules in eval mode\n"
     ]
    },
    {
     "name": "stdout",
     "output_type": "stream",
     "text": [
      "Sanity Checking: |          | 0/? [00:00<?, ?it/s]"
     ]
    },
    {
     "name": "stderr",
     "output_type": "stream",
     "text": [
      "e:\\programowanie\\studia\\sem6\\WB2\\.venv\\Lib\\site-packages\\pytorch_lightning\\trainer\\connectors\\data_connector.py:420: Consider setting `persistent_workers=True` in 'val_dataloader' to speed up the dataloader worker initialization.\n"
     ]
    },
    {
     "name": "stdout",
     "output_type": "stream",
     "text": [
      "                                                                           \r"
     ]
    },
    {
     "name": "stderr",
     "output_type": "stream",
     "text": [
      "e:\\programowanie\\studia\\sem6\\WB2\\.venv\\Lib\\site-packages\\pytorch_lightning\\trainer\\connectors\\data_connector.py:420: Consider setting `persistent_workers=True` in 'train_dataloader' to speed up the dataloader worker initialization.\n"
     ]
    },
    {
     "name": "stdout",
     "output_type": "stream",
     "text": [
      "Epoch 9: 100%|██████████| 351/351 [03:41<00:00,  1.59it/s, v_num=0, train_loss=0.849, val_loss=-0.259, val_ari=0.00915, val_nmi=0.0941, train_ari=0.0051, train_nmi=0.0475] Zapisano model po epoce 9: checkpoints/byol_cifar100_pretrained_0.01_0.996\\model_epoch_9.ckpt\n",
      "Epoch 14: 100%|██████████| 351/351 [03:40<00:00,  1.59it/s, v_num=0, train_loss=0.644, val_loss=-0.732, val_ari=0.0102, val_nmi=0.0935, train_ari=0.00565, train_nmi=0.0529] Zapisano model po epoce 14: checkpoints/byol_cifar100_pretrained_0.01_0.996\\model_epoch_14.ckpt\n",
      "Epoch 19: 100%|██████████| 351/351 [03:41<00:00,  1.59it/s, v_num=0, train_loss=0.234, val_loss=-1.11, val_ari=0.0109, val_nmi=0.0969, train_ari=0.00617, train_nmi=0.0546]  Zapisano model po epoce 19: checkpoints/byol_cifar100_pretrained_0.01_0.996\\model_epoch_19.ckpt\n",
      "Epoch 19: 100%|██████████| 351/351 [03:42<00:00,  1.58it/s, v_num=0, train_loss=0.234, val_loss=-1.11, val_ari=0.0109, val_nmi=0.0969, train_ari=0.00617, train_nmi=0.0546]"
     ]
    },
    {
     "name": "stderr",
     "output_type": "stream",
     "text": [
      "`Trainer.fit` stopped: `max_epochs=20` reached.\n"
     ]
    },
    {
     "name": "stdout",
     "output_type": "stream",
     "text": [
      "Epoch 19: 100%|██████████| 351/351 [03:45<00:00,  1.56it/s, v_num=0, train_loss=0.234, val_loss=-1.11, val_ari=0.0109, val_nmi=0.0969, train_ari=0.00617, train_nmi=0.0546]\n"
     ]
    },
    {
     "name": "stderr",
     "output_type": "stream",
     "text": [
      "e:\\programowanie\\studia\\sem6\\WB2\\.venv\\Lib\\site-packages\\torchvision\\models\\_utils.py:208: UserWarning: The parameter 'pretrained' is deprecated since 0.13 and may be removed in the future, please use 'weights' instead.\n",
      "  warnings.warn(\n",
      "e:\\programowanie\\studia\\sem6\\WB2\\.venv\\Lib\\site-packages\\torchvision\\models\\_utils.py:223: UserWarning: Arguments other than a weight enum or `None` for 'weights' are deprecated since 0.13 and may be removed in the future. The current behavior is equivalent to passing `weights=None`.\n",
      "  warnings.warn(msg)\n",
      "Using default `ModelCheckpoint`. Consider installing `litmodels` package to enable `LitModelCheckpoint` for automatic upload to the Lightning model registry.\n",
      "GPU available: True (cuda), used: True\n",
      "TPU available: False, using: 0 TPU cores\n",
      "HPU available: False, using: 0 HPUs\n",
      "LOCAL_RANK: 0 - CUDA_VISIBLE_DEVICES: [0]\n",
      "\n",
      "  | Name              | Type                 | Params | Mode \n",
      "-------------------------------------------------------------------\n",
      "0 | online_backbone   | Sequential           | 11.2 M | train\n",
      "1 | online_projection | SimCLRProjectionHead | 328 K  | train\n",
      "2 | online_predictor  | Sequential           | 16.7 K | train\n",
      "3 | target_backbone   | Sequential           | 11.2 M | train\n",
      "4 | target_projection | SimCLRProjectionHead | 328 K  | train\n",
      "-------------------------------------------------------------------\n",
      "11.5 M    Trainable params\n",
      "11.5 M    Non-trainable params\n",
      "23.0 M    Total params\n",
      "92.111    Total estimated model params size (MB)\n",
      "153       Modules in train mode\n",
      "0         Modules in eval mode\n"
     ]
    },
    {
     "name": "stdout",
     "output_type": "stream",
     "text": [
      "Sanity Checking: |          | 0/? [00:00<?, ?it/s]"
     ]
    },
    {
     "name": "stderr",
     "output_type": "stream",
     "text": [
      "e:\\programowanie\\studia\\sem6\\WB2\\.venv\\Lib\\site-packages\\pytorch_lightning\\trainer\\connectors\\data_connector.py:420: Consider setting `persistent_workers=True` in 'val_dataloader' to speed up the dataloader worker initialization.\n"
     ]
    },
    {
     "name": "stdout",
     "output_type": "stream",
     "text": [
      "                                                                           \r"
     ]
    },
    {
     "name": "stderr",
     "output_type": "stream",
     "text": [
      "e:\\programowanie\\studia\\sem6\\WB2\\.venv\\Lib\\site-packages\\pytorch_lightning\\trainer\\connectors\\data_connector.py:420: Consider setting `persistent_workers=True` in 'train_dataloader' to speed up the dataloader worker initialization.\n"
     ]
    },
    {
     "name": "stdout",
     "output_type": "stream",
     "text": [
      "Epoch 9: 100%|██████████| 351/351 [03:40<00:00,  1.59it/s, v_num=0, train_loss=0.458, val_loss=-0.974, val_ari=0.00776, val_nmi=0.0819, train_ari=0.0027, train_nmi=0.0371]   Zapisano model po epoce 9: checkpoints/byol_cifar100_random_0.01_0.98\\model_epoch_9.ckpt\n",
      "Epoch 14: 100%|██████████| 351/351 [03:41<00:00,  1.59it/s, v_num=0, train_loss=0.175, val_loss=-1.27, val_ari=0.00857, val_nmi=0.0862, train_ari=0.00345, train_nmi=0.0391]   Zapisano model po epoce 14: checkpoints/byol_cifar100_random_0.01_0.98\\model_epoch_14.ckpt\n",
      "Epoch 19: 100%|██████████| 351/351 [03:42<00:00,  1.58it/s, v_num=0, train_loss=0.324, val_loss=-1.49, val_ari=0.00747, val_nmi=0.075, train_ari=0.00407, train_nmi=0.0419]     Zapisano model po epoce 19: checkpoints/byol_cifar100_random_0.01_0.98\\model_epoch_19.ckpt\n",
      "Epoch 19: 100%|██████████| 351/351 [03:44<00:00,  1.56it/s, v_num=0, train_loss=0.324, val_loss=-1.49, val_ari=0.00747, val_nmi=0.075, train_ari=0.00407, train_nmi=0.0419]"
     ]
    },
    {
     "name": "stderr",
     "output_type": "stream",
     "text": [
      "`Trainer.fit` stopped: `max_epochs=20` reached.\n"
     ]
    },
    {
     "name": "stdout",
     "output_type": "stream",
     "text": [
      "Epoch 19: 100%|██████████| 351/351 [03:47<00:00,  1.54it/s, v_num=0, train_loss=0.324, val_loss=-1.49, val_ari=0.00747, val_nmi=0.075, train_ari=0.00407, train_nmi=0.0419]\n"
     ]
    },
    {
     "name": "stderr",
     "output_type": "stream",
     "text": [
      "e:\\programowanie\\studia\\sem6\\WB2\\.venv\\Lib\\site-packages\\torchvision\\models\\_utils.py:208: UserWarning: The parameter 'pretrained' is deprecated since 0.13 and may be removed in the future, please use 'weights' instead.\n",
      "  warnings.warn(\n",
      "e:\\programowanie\\studia\\sem6\\WB2\\.venv\\Lib\\site-packages\\torchvision\\models\\_utils.py:223: UserWarning: Arguments other than a weight enum or `None` for 'weights' are deprecated since 0.13 and may be removed in the future. The current behavior is equivalent to passing `weights=None`.\n",
      "  warnings.warn(msg)\n",
      "Using default `ModelCheckpoint`. Consider installing `litmodels` package to enable `LitModelCheckpoint` for automatic upload to the Lightning model registry.\n",
      "GPU available: True (cuda), used: True\n",
      "TPU available: False, using: 0 TPU cores\n",
      "HPU available: False, using: 0 HPUs\n",
      "LOCAL_RANK: 0 - CUDA_VISIBLE_DEVICES: [0]\n",
      "\n",
      "  | Name              | Type                 | Params | Mode \n",
      "-------------------------------------------------------------------\n",
      "0 | online_backbone   | Sequential           | 11.2 M | train\n",
      "1 | online_projection | SimCLRProjectionHead | 328 K  | train\n",
      "2 | online_predictor  | Sequential           | 16.7 K | train\n",
      "3 | target_backbone   | Sequential           | 11.2 M | train\n",
      "4 | target_projection | SimCLRProjectionHead | 328 K  | train\n",
      "-------------------------------------------------------------------\n",
      "11.5 M    Trainable params\n",
      "11.5 M    Non-trainable params\n",
      "23.0 M    Total params\n",
      "92.111    Total estimated model params size (MB)\n",
      "153       Modules in train mode\n",
      "0         Modules in eval mode\n"
     ]
    },
    {
     "name": "stdout",
     "output_type": "stream",
     "text": [
      "Sanity Checking: |          | 0/? [00:00<?, ?it/s]"
     ]
    },
    {
     "name": "stderr",
     "output_type": "stream",
     "text": [
      "e:\\programowanie\\studia\\sem6\\WB2\\.venv\\Lib\\site-packages\\pytorch_lightning\\trainer\\connectors\\data_connector.py:420: Consider setting `persistent_workers=True` in 'val_dataloader' to speed up the dataloader worker initialization.\n"
     ]
    },
    {
     "name": "stdout",
     "output_type": "stream",
     "text": [
      "                                                                           \r"
     ]
    },
    {
     "name": "stderr",
     "output_type": "stream",
     "text": [
      "e:\\programowanie\\studia\\sem6\\WB2\\.venv\\Lib\\site-packages\\pytorch_lightning\\trainer\\connectors\\data_connector.py:420: Consider setting `persistent_workers=True` in 'train_dataloader' to speed up the dataloader worker initialization.\n"
     ]
    },
    {
     "name": "stdout",
     "output_type": "stream",
     "text": [
      "Epoch 9: 100%|██████████| 351/351 [03:40<00:00,  1.59it/s, v_num=0, train_loss=0.258, val_loss=-0.148, val_ari=0.00532, val_nmi=0.0824, train_ari=0.00176, train_nmi=0.040]  Zapisano model po epoce 9: checkpoints/byol_cifar100_random_0.01_0.996\\model_epoch_9.ckpt\n",
      "Epoch 14: 100%|██████████| 351/351 [03:39<00:00,  1.60it/s, v_num=0, train_loss=0.157, val_loss=-0.631, val_ari=0.00707, val_nmi=0.0827, train_ari=0.00251, train_nmi=0.0445]   Zapisano model po epoce 14: checkpoints/byol_cifar100_random_0.01_0.996\\model_epoch_14.ckpt\n",
      "Epoch 19: 100%|██████████| 351/351 [03:31<00:00,  1.66it/s, v_num=0, train_loss=0.207, val_loss=-0.609, val_ari=0.00728, val_nmi=0.0764, train_ari=0.00282, train_nmi=0.0448]    Zapisano model po epoce 19: checkpoints/byol_cifar100_random_0.01_0.996\\model_epoch_19.ckpt\n",
      "Epoch 19: 100%|██████████| 351/351 [03:32<00:00,  1.65it/s, v_num=0, train_loss=0.207, val_loss=-0.609, val_ari=0.00728, val_nmi=0.0764, train_ari=0.00282, train_nmi=0.0448]"
     ]
    },
    {
     "name": "stderr",
     "output_type": "stream",
     "text": [
      "`Trainer.fit` stopped: `max_epochs=20` reached.\n"
     ]
    },
    {
     "name": "stdout",
     "output_type": "stream",
     "text": [
      "Epoch 19: 100%|██████████| 351/351 [03:35<00:00,  1.63it/s, v_num=0, train_loss=0.207, val_loss=-0.609, val_ari=0.00728, val_nmi=0.0764, train_ari=0.00282, train_nmi=0.0448]\n"
     ]
    }
   ],
   "source": [
    "for lr, backbone_type, tau in product(LEARNING_RATE, BACKBONE_TYPE, TAU):\n",
    "    torch.cuda.empty_cache()\n",
    "    gc.collect()\n",
    "\n",
    "    byol_model = BYOLModel(\n",
    "        backbone_type=backbone_type + '_resnet18',\n",
    "        lr=lr,\n",
    "        max_epochs=NUM_EPOCHS,\n",
    "        tau=tau,\n",
    "    )\n",
    "\n",
    "    dirpath = f\"checkpoints/byol_cifar100_{backbone_type}_{lr}_{tau}\"\n",
    "\n",
    "    checkpoint_callback = SaveAtEpochsCallback(\n",
    "        save_epochs=[10, 15, 20],\n",
    "        dirpath=dirpath\n",
    "    )\n",
    "\n",
    "    trainer = pl.Trainer(\n",
    "        accelerator='gpu',\n",
    "        devices=1,\n",
    "        max_epochs=NUM_EPOCHS,\n",
    "        log_every_n_steps=1,\n",
    "        callbacks=[checkpoint_callback],\n",
    "        default_root_dir=dirpath,\n",
    "    )\n",
    "\n",
    "    trainer.fit(byol_model, dl_train_cifar100_byol, dl_valid_cifar100_byol)\n"
   ]
  },
  {
   "cell_type": "code",
   "execution_count": null,
   "id": "3a1189b4",
   "metadata": {},
   "outputs": [],
   "source": []
  }
 ],
 "metadata": {
  "kernelspec": {
   "display_name": ".venv",
   "language": "python",
   "name": "python3"
  },
  "language_info": {
   "codemirror_mode": {
    "name": "ipython",
    "version": 3
   },
   "file_extension": ".py",
   "mimetype": "text/x-python",
   "name": "python",
   "nbconvert_exporter": "python",
   "pygments_lexer": "ipython3",
   "version": "3.12.3"
  }
 },
 "nbformat": 4,
 "nbformat_minor": 5
}
