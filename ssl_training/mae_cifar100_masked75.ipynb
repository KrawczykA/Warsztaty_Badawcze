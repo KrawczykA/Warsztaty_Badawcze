{
 "cells": [
  {
   "cell_type": "markdown",
   "id": "ff67f79f",
   "metadata": {},
   "source": [
    "# PREP"
   ]
  },
  {
   "cell_type": "code",
   "execution_count": 1,
   "id": "c8803641",
   "metadata": {},
   "outputs": [
    {
     "name": "stderr",
     "output_type": "stream",
     "text": [
      "d:\\aaaaaaaaaaaaaaaaaaaaaaaaaaaaa\\Warsztaty_Badawcze\\.conda\\lib\\site-packages\\torchvision\\transforms\\v2\\_deprecated.py:42: UserWarning: The transform `ToTensor()` is deprecated and will be removed in a future release. Instead, please use `v2.Compose([v2.ToImage(), v2.ToDtype(torch.float32, scale=True)])`.Output is equivalent up to float precision.\n",
      "  warnings.warn(\n",
      "d:\\aaaaaaaaaaaaaaaaaaaaaaaaaaaaa\\Warsztaty_Badawcze\\.conda\\lib\\site-packages\\tqdm\\auto.py:21: TqdmWarning: IProgress not found. Please update jupyter and ipywidgets. See https://ipywidgets.readthedocs.io/en/stable/user_install.html\n",
      "  from .autonotebook import tqdm as notebook_tqdm\n"
     ]
    }
   ],
   "source": [
    "import torch\n",
    "from torchvision import transforms as T\n",
    "from lightly.transforms import SimCLRTransform, DINOTransform, MAETransform, MoCoV2Transform, utils\n",
    "from datasets import create_dataset\n",
    "from models import MAEModel\n",
    "import pytorch_lightning as pl\n",
    "import os\n",
    "import copy\n",
    "import gc\n",
    "import matplotlib.pyplot as plt\n",
    "from torch.utils.data import DataLoader\n"
   ]
  },
  {
   "cell_type": "code",
   "execution_count": 2,
   "id": "a4b600f3",
   "metadata": {},
   "outputs": [],
   "source": [
    "\n",
    "from torchvision import transforms as T\n",
    "from lightly.transforms import SimCLRTransform, DINOTransform, MAETransform, MoCoV2Transform, utils\n",
    "from datasets import create_dataset\n",
    "from models import MAEModel\n",
    "import pytorch_lightning as pl\n",
    "import os\n",
    "import copy\n",
    "import gc\n",
    "import matplotlib.pyplot as plt\n",
    "from torch.utils.data import DataLoader\n"
   ]
  },
  {
   "cell_type": "code",
   "execution_count": 3,
   "id": "fd6aa8ca",
   "metadata": {},
   "outputs": [],
   "source": [
    "from pytorch_lightning.callbacks import Callback\n",
    "import os\n",
    "\n",
    "class SaveAtEpochsCallback(Callback):\n",
    "    def __init__(self, save_epochs, dirpath=\"checkpoints\"):\n",
    "        super().__init__()\n",
    "        self.save_epochs = set(save_epochs)\n",
    "        self.dirpath = dirpath\n",
    "        os.makedirs(self.dirpath, exist_ok=True)\n",
    "\n",
    "    def on_train_epoch_end(self, trainer, pl_module):\n",
    "        current_epoch = trainer.current_epoch + 1  # epoka 0-based\n",
    "        if current_epoch in self.save_epochs:\n",
    "            filename = f\"model_epoch_{current_epoch}.ckpt\"\n",
    "            path = os.path.join(self.dirpath, filename)\n",
    "            trainer.save_checkpoint(path)\n",
    "            print(f\"Zapisano model po epoce {current_epoch}: {path}\")\n"
   ]
  },
  {
   "cell_type": "code",
   "execution_count": 4,
   "id": "ceb96675",
   "metadata": {},
   "outputs": [
    {
     "name": "stderr",
     "output_type": "stream",
     "text": [
      "Seed set to 42\n"
     ]
    }
   ],
   "source": [
    "SEED = 42\n",
    "\n",
    "def seed_everything(seed: int=42):\n",
    "    pl.seed_everything(seed)\n",
    "    os.environ['PYTHONHASHSEED'] = str(seed)\n",
    "    ####### Normaly you would also need to seed those generators but `pytorch_lightning` does it in one func\n",
    "    # random.seed(seed)\n",
    "    # np.random.seed(seed)\n",
    "    # torch.manual_seed(seed)\n",
    "    ######\n",
    "    torch.cuda.manual_seed(seed) # Don't know if pytorch lightning does this\n",
    "    torch.cuda.manual_seed_all(seed) # Don't know if pytorch lightning does this\n",
    "    torch.backends.cudnn.deterministic = True\n",
    "    torch.backends.cudnn.benchmark = False\n",
    "\n",
    "\n",
    "seed_everything(SEED)"
   ]
  },
  {
   "cell_type": "code",
   "execution_count": 5,
   "id": "815d7f55",
   "metadata": {},
   "outputs": [
    {
     "name": "stderr",
     "output_type": "stream",
     "text": [
      "d:\\aaaaaaaaaaaaaaaaaaaaaaaaaaaaa\\Warsztaty_Badawcze\\.conda\\lib\\site-packages\\torchvision\\transforms\\v2\\_deprecated.py:42: UserWarning: The transform `ToTensor()` is deprecated and will be removed in a future release. Instead, please use `v2.Compose([v2.ToImage(), v2.ToDtype(torch.float32, scale=True)])`.Output is equivalent up to float precision.\n",
      "  warnings.warn(\n"
     ]
    }
   ],
   "source": [
    "from lightly.transforms import MAETransform\n",
    "\n",
    "mae_transform = MAETransform(\n",
    "    input_size=224,\n",
    "    normalize={\n",
    "        \"mean\": utils.IMAGENET_NORMALIZE[\"mean\"],\n",
    "        \"std\": utils.IMAGENET_NORMALIZE[\"std\"]\n",
    "    }\n",
    ")\n",
    "# dla supervised treningu\n",
    "scratch_transform = T.v2.Compose([\n",
    "    T.RandomResizedCrop((224, 224)),\n",
    "    T.RandomHorizontalFlip(),\n",
    "    T.v2.ToImage(),\n",
    "    T.v2.ToDtype(torch.float32, scale=True),\n",
    "    T.Normalize(\n",
    "        mean=utils.IMAGENET_NORMALIZE[\"mean\"],\n",
    "        std=utils.IMAGENET_NORMALIZE[\"std\"],\n",
    "    )\n",
    "])\n",
    "\n",
    "# dla testu/ewaluacji\n",
    "test_transform = T.v2.Compose([\n",
    "    T.Resize((224, 224)),\n",
    "    T.v2.ToImage(),\n",
    "    T.v2.ToDtype(torch.float32, scale=True),\n",
    "    T.Normalize(\n",
    "        mean=utils.IMAGENET_NORMALIZE[\"mean\"],\n",
    "        std=utils.IMAGENET_NORMALIZE[\"std\"],\n",
    "    )\n",
    "])"
   ]
  },
  {
   "cell_type": "code",
   "execution_count": 6,
   "id": "e76fde1a",
   "metadata": {},
   "outputs": [
    {
     "name": "stderr",
     "output_type": "stream",
     "text": [
      "100%|██████████| 169M/169M [02:00<00:00, 1.40MB/s] \n"
     ]
    },
    {
     "name": "stdout",
     "output_type": "stream",
     "text": [
      "Length of entire train dataset:  50000\n",
      "Length of SSL train dataset:  45000\n",
      "Length of classification train dataset:  5000\n",
      "Length of test dataset:  10000\n"
     ]
    }
   ],
   "source": [
    "from_path = \"./data\"\n",
    "SSL_proportion = 0.9\n",
    "\n",
    "train_full_dataset_MAE, train_ssl_dataset_MAE, train_dataset_MAE, test_dataset_MAE = create_dataset(\n",
    "    set_name='CIFAR100',\n",
    "    SSL_proportion=SSL_proportion,\n",
    "    train_transform=scratch_transform,              \n",
    "    train_full_transform=mae_transform.transform,    \n",
    "    test_transform=test_transform,\n",
    "    path_to_data=from_path,\n",
    "    seed=42,\n",
    "    download=True\n",
    ")\n"
   ]
  },
  {
   "cell_type": "code",
   "execution_count": 7,
   "id": "afc1f041",
   "metadata": {},
   "outputs": [
    {
     "name": "stdout",
     "output_type": "stream",
     "text": [
      "Using device: cuda\n"
     ]
    }
   ],
   "source": [
    "BATCH_SIZE = 128\n",
    "NUM_EPOCHS = 20\n",
    "LEARNING_RATE = 0.001\n",
    "NUM_WORKERS = 4\n",
    "device = \"cuda\" if torch.cuda.is_available() else \"cpu\"\n",
    "print(f\"Using device: {device}\")\n",
    "#GARBAGE COLLECTOR FAJNA SPRAWA - BEZ NIEGO VRAMu BRAKUJE\n",
    "if device == \"gpu\":\n",
    "    torch.cuda.empty_cache()\n",
    "    gc.collect()"
   ]
  },
  {
   "cell_type": "code",
   "execution_count": 8,
   "id": "e99ac0c6",
   "metadata": {},
   "outputs": [],
   "source": [
    "train_loader = DataLoader(train_ssl_dataset_MAE, batch_size=BATCH_SIZE, shuffle=True, num_workers=NUM_WORKERS, persistent_workers=True)\n",
    "val_loader = DataLoader(test_dataset_MAE, batch_size=BATCH_SIZE, shuffle=False, num_workers=NUM_WORKERS, persistent_workers=True)"
   ]
  },
  {
   "cell_type": "code",
   "execution_count": 9,
   "id": "b9c59753",
   "metadata": {},
   "outputs": [
    {
     "name": "stderr",
     "output_type": "stream",
     "text": [
      "d:\\aaaaaaaaaaaaaaaaaaaaaaaaaaaaa\\Warsztaty_Badawcze\\.conda\\lib\\site-packages\\torchvision\\models\\_utils.py:208: UserWarning: The parameter 'pretrained' is deprecated since 0.13 and may be removed in the future, please use 'weights' instead.\n",
      "  warnings.warn(\n",
      "d:\\aaaaaaaaaaaaaaaaaaaaaaaaaaaaa\\Warsztaty_Badawcze\\.conda\\lib\\site-packages\\torchvision\\models\\_utils.py:223: UserWarning: Arguments other than a weight enum or `None` for 'weights' are deprecated since 0.13 and may be removed in the future. The current behavior is equivalent to passing `weights=ResNet18_Weights.IMAGENET1K_V1`. You can also use `weights=ResNet18_Weights.DEFAULT` to get the most up-to-date weights.\n",
      "  warnings.warn(msg)\n"
     ]
    }
   ],
   "source": [
    "model1 = MAEModel(\n",
    "    lr=LEARNING_RATE,\n",
    "    weight_decay=1e-4,\n",
    "    max_epochs=50,\n",
    "    backbone_type=\"pretrained_resnet18\", \n",
    "    input_dim=3 * 224 * 224, \n",
    "    mask_ratio=0.75\n",
    ")\n"
   ]
  },
  {
   "cell_type": "code",
   "execution_count": 10,
   "id": "ab0d2b08",
   "metadata": {},
   "outputs": [
    {
     "name": "stderr",
     "output_type": "stream",
     "text": [
      "d:\\aaaaaaaaaaaaaaaaaaaaaaaaaaaaa\\Warsztaty_Badawcze\\.conda\\lib\\site-packages\\torchvision\\models\\_utils.py:223: UserWarning: Arguments other than a weight enum or `None` for 'weights' are deprecated since 0.13 and may be removed in the future. The current behavior is equivalent to passing `weights=None`.\n",
      "  warnings.warn(msg)\n"
     ]
    }
   ],
   "source": [
    "\n",
    "model2 = MAEModel(\n",
    "    lr=LEARNING_RATE,\n",
    "    weight_decay=1e-4,\n",
    "    max_epochs=50,\n",
    "    backbone_type=\"random_resnet18\", \n",
    "    input_dim=3 * 224 * 224, \n",
    "    mask_ratio=0.75\n",
    ")\n"
   ]
  },
  {
   "cell_type": "code",
   "execution_count": 11,
   "id": "5603b48e",
   "metadata": {},
   "outputs": [],
   "source": [
    "LEARNING_RATE = 0.01"
   ]
  },
  {
   "cell_type": "code",
   "execution_count": 12,
   "id": "08c00bf6",
   "metadata": {},
   "outputs": [],
   "source": [
    "\n",
    "model3 = MAEModel(\n",
    "    lr=LEARNING_RATE,\n",
    "    weight_decay=1e-4,\n",
    "    max_epochs=50,\n",
    "    backbone_type=\"pretrained_resnet18\", \n",
    "    input_dim=3 * 224 * 224, \n",
    "    mask_ratio=0.75\n",
    ")\n"
   ]
  },
  {
   "cell_type": "code",
   "execution_count": 13,
   "id": "c2d66c5e",
   "metadata": {},
   "outputs": [],
   "source": [
    "model4 = MAEModel(\n",
    "    lr=LEARNING_RATE,\n",
    "    weight_decay=1e-4,\n",
    "    max_epochs=50,\n",
    "    backbone_type=\"random_resnet18\", \n",
    "    input_dim=3 * 224 * 224, \n",
    "    mask_ratio=0.75\n",
    ")"
   ]
  },
  {
   "cell_type": "code",
   "execution_count": 14,
   "id": "be3b88ad",
   "metadata": {},
   "outputs": [
    {
     "name": "stderr",
     "output_type": "stream",
     "text": [
      "Using default `ModelCheckpoint`. Consider installing `litmodels` package to enable `LitModelCheckpoint` for automatic upload to the Lightning model registry.\n",
      "GPU available: True (cuda), used: True\n",
      "TPU available: False, using: 0 TPU cores\n",
      "HPU available: False, using: 0 HPUs\n",
      "d:\\aaaaaaaaaaaaaaaaaaaaaaaaaaaaa\\Warsztaty_Badawcze\\.conda\\lib\\site-packages\\pytorch_lightning\\trainer\\connectors\\logger_connector\\logger_connector.py:76: Starting from v1.9.0, `tensorboardX` has been removed as a dependency of the `pytorch_lightning` package, due to potential conflicts with other packages in the ML ecosystem. For this reason, `logger=True` will use `CSVLogger` as the default logger, unless the `tensorboard` or `tensorboardX` packages are found. Please `pip install lightning[extra]` or one of them to enable TensorBoard support by default\n"
     ]
    }
   ],
   "source": [
    "checkpoint_callback_1 = SaveAtEpochsCallback(save_epochs=[10, 15, 20], dirpath=\"checkpoints/lr_0.001_mae_cifar100\")\n",
    "\n",
    "trainer1 = pl.Trainer(\n",
    "    max_epochs=20,\n",
    "    callbacks=[checkpoint_callback_1],\n",
    "    accelerator='auto',\n",
    "    devices=1,\n",
    "    log_every_n_steps=10\n",
    ")\n"
   ]
  },
  {
   "cell_type": "code",
   "execution_count": 15,
   "id": "160e2a48",
   "metadata": {},
   "outputs": [
    {
     "name": "stderr",
     "output_type": "stream",
     "text": [
      "Using default `ModelCheckpoint`. Consider installing `litmodels` package to enable `LitModelCheckpoint` for automatic upload to the Lightning model registry.\n",
      "GPU available: True (cuda), used: True\n",
      "TPU available: False, using: 0 TPU cores\n",
      "HPU available: False, using: 0 HPUs\n"
     ]
    }
   ],
   "source": [
    "\n",
    "checkpoint_callback_2 = SaveAtEpochsCallback(save_epochs=[10, 15, 20], dirpath=\"checkpoints/lr_0.001_mae_cifar100_random\")\n",
    "\n",
    "trainer2 = pl.Trainer(\n",
    "    max_epochs=20,\n",
    "    callbacks=[checkpoint_callback_2],\n",
    "    accelerator='auto',\n",
    "    devices=1,\n",
    "    log_every_n_steps=10\n",
    ")"
   ]
  },
  {
   "cell_type": "code",
   "execution_count": 16,
   "id": "51958299",
   "metadata": {},
   "outputs": [
    {
     "name": "stderr",
     "output_type": "stream",
     "text": [
      "Using default `ModelCheckpoint`. Consider installing `litmodels` package to enable `LitModelCheckpoint` for automatic upload to the Lightning model registry.\n",
      "GPU available: True (cuda), used: True\n",
      "TPU available: False, using: 0 TPU cores\n",
      "HPU available: False, using: 0 HPUs\n"
     ]
    }
   ],
   "source": [
    "\n",
    "checkpoint_callback_3 = SaveAtEpochsCallback(save_epochs=[10, 15, 20], dirpath=\"checkpoints/lr_0.01_mae_cifar100\")\n",
    "\n",
    "trainer3 = pl.Trainer(\n",
    "    max_epochs=20,\n",
    "    callbacks=[checkpoint_callback_3],\n",
    "    accelerator='auto',\n",
    "    devices=1,\n",
    "    log_every_n_steps=10\n",
    ")"
   ]
  },
  {
   "cell_type": "code",
   "execution_count": 17,
   "id": "01e6b6e4",
   "metadata": {},
   "outputs": [
    {
     "name": "stderr",
     "output_type": "stream",
     "text": [
      "Using default `ModelCheckpoint`. Consider installing `litmodels` package to enable `LitModelCheckpoint` for automatic upload to the Lightning model registry.\n",
      "GPU available: True (cuda), used: True\n",
      "TPU available: False, using: 0 TPU cores\n",
      "HPU available: False, using: 0 HPUs\n"
     ]
    }
   ],
   "source": [
    "\n",
    "checkpoint_callback_4 = SaveAtEpochsCallback(save_epochs=[10, 15, 20], dirpath=\"checkpoints/lr_0.01_mae_cifar100_random\")\n",
    "\n",
    "trainer4 = pl.Trainer(\n",
    "    max_epochs=20,\n",
    "    callbacks=[checkpoint_callback_4],\n",
    "    accelerator='auto',\n",
    "    devices=1,\n",
    "    log_every_n_steps=10\n",
    ")"
   ]
  },
  {
   "cell_type": "markdown",
   "id": "3b92dcf8",
   "metadata": {},
   "source": [
    "# TRAIN"
   ]
  },
  {
   "cell_type": "code",
   "execution_count": 18,
   "id": "dd5cd6af",
   "metadata": {},
   "outputs": [
    {
     "name": "stderr",
     "output_type": "stream",
     "text": [
      "LOCAL_RANK: 0 - CUDA_VISIBLE_DEVICES: [0]\n",
      "\n",
      "  | Name    | Type       | Params | Mode \n",
      "-----------------------------------------------\n",
      "0 | encoder | MAEEncoder | 11.2 M | train\n",
      "1 | decoder | MAEDecoder | 787 K  | train\n",
      "-----------------------------------------------\n",
      "12.0 M    Trainable params\n",
      "0         Non-trainable params\n",
      "12.0 M    Total params\n",
      "47.858    Total estimated model params size (MB)\n",
      "75        Modules in train mode\n",
      "0         Modules in eval mode\n"
     ]
    },
    {
     "name": "stdout",
     "output_type": "stream",
     "text": [
      "Epoch 9: 100%|██████████| 352/352 [18:52<00:00,  0.31it/s, v_num=4, train_loss=5.16e-6, val_loss=0.00529, val_ari=0.000352, val_nmi=0.00949, train_ari=4.18e-6, train_nmi=0.00115]Zapisano model po epoce 10: checkpoints/lr_0.001_mae_cifar100\\model_epoch_10.ckpt\n",
      "Epoch 14: 100%|██████████| 352/352 [19:21<00:00,  0.30it/s, v_num=4, train_loss=9.49e-7, val_loss=0.00169, val_ari=0.000952, val_nmi=0.0159, train_ari=-6.8e-6, train_nmi=0.00112] Zapisano model po epoce 15: checkpoints/lr_0.001_mae_cifar100\\model_epoch_15.ckpt\n",
      "Epoch 19: 100%|██████████| 352/352 [19:17<00:00,  0.30it/s, v_num=4, train_loss=2.52e-6, val_loss=9.66e-5, val_ari=0.000415, val_nmi=0.00945, train_ari=-1.44e-6, train_nmi=0.00122]Zapisano model po epoce 20: checkpoints/lr_0.001_mae_cifar100\\model_epoch_20.ckpt\n",
      "Epoch 19: 100%|██████████| 352/352 [19:18<00:00,  0.30it/s, v_num=4, train_loss=2.52e-6, val_loss=9.66e-5, val_ari=0.000415, val_nmi=0.00945, train_ari=-1.44e-6, train_nmi=0.00122]"
     ]
    },
    {
     "name": "stderr",
     "output_type": "stream",
     "text": [
      "`Trainer.fit` stopped: `max_epochs=20` reached.\n"
     ]
    },
    {
     "name": "stdout",
     "output_type": "stream",
     "text": [
      "Epoch 19: 100%|██████████| 352/352 [19:27<00:00,  0.30it/s, v_num=4, train_loss=2.52e-6, val_loss=9.66e-5, val_ari=0.000415, val_nmi=0.00945, train_ari=-1.44e-6, train_nmi=0.00122]\n"
     ]
    },
    {
     "name": "stderr",
     "output_type": "stream",
     "text": [
      "LOCAL_RANK: 0 - CUDA_VISIBLE_DEVICES: [0]\n",
      "\n",
      "  | Name    | Type       | Params | Mode \n",
      "-----------------------------------------------\n",
      "0 | encoder | MAEEncoder | 11.2 M | train\n",
      "1 | decoder | MAEDecoder | 787 K  | train\n",
      "-----------------------------------------------\n",
      "12.0 M    Trainable params\n",
      "0         Non-trainable params\n",
      "12.0 M    Total params\n",
      "47.858    Total estimated model params size (MB)\n",
      "75        Modules in train mode\n",
      "0         Modules in eval mode\n"
     ]
    },
    {
     "name": "stdout",
     "output_type": "stream",
     "text": [
      "Epoch 9: 100%|██████████| 352/352 [27:51<00:00,  0.21it/s, v_num=5, train_loss=6.44e-6, val_loss=6.5e-6, val_ari=0.000168, val_nmi=0.0213, train_ari=0.000136, train_nmi=0.00396] Zapisano model po epoce 10: checkpoints/lr_0.01_mae_cifar100_random\\model_epoch_10.ckpt\n",
      "Epoch 14: 100%|██████████| 352/352 [27:41<00:00,  0.21it/s, v_num=5, train_loss=4.62e-8, val_loss=3.18e-7, val_ari=5.74e-5, val_nmi=0.0131, train_ari=5.38e-5, train_nmi=0.00485] Zapisano model po epoce 15: checkpoints/lr_0.01_mae_cifar100_random\\model_epoch_15.ckpt\n",
      "Epoch 19: 100%|██████████| 352/352 [28:06<00:00,  0.21it/s, v_num=5, train_loss=1.76e-8, val_loss=5.38e-8, val_ari=3.2e-5, val_nmi=0.0105, train_ari=6.62e-6, train_nmi=0.002]    Zapisano model po epoce 20: checkpoints/lr_0.01_mae_cifar100_random\\model_epoch_20.ckpt\n",
      "Epoch 19: 100%|██████████| 352/352 [28:07<00:00,  0.21it/s, v_num=5, train_loss=1.76e-8, val_loss=5.38e-8, val_ari=3.2e-5, val_nmi=0.0105, train_ari=6.62e-6, train_nmi=0.002]"
     ]
    },
    {
     "name": "stderr",
     "output_type": "stream",
     "text": [
      "`Trainer.fit` stopped: `max_epochs=20` reached.\n"
     ]
    },
    {
     "name": "stdout",
     "output_type": "stream",
     "text": [
      "Epoch 19: 100%|██████████| 352/352 [28:14<00:00,  0.21it/s, v_num=5, train_loss=1.76e-8, val_loss=5.38e-8, val_ari=3.2e-5, val_nmi=0.0105, train_ari=6.62e-6, train_nmi=0.002]\n"
     ]
    }
   ],
   "source": [
    "trainer1.fit(model1, train_dataloaders=train_loader, val_dataloaders=val_loader)\n",
    "trainer4.fit(model4, train_dataloaders=train_loader, val_dataloaders=val_loader)"
   ]
  },
  {
   "cell_type": "code",
   "execution_count": null,
   "id": "8cfe24f4",
   "metadata": {},
   "outputs": [],
   "source": [
    "\n",
    "trainer3.fit(model3, train_dataloaders=train_loader, val_dataloaders=val_loader)\n",
    "trainer2.fit(model2, train_dataloaders=train_loader, val_dataloaders=val_loader)\n"
   ]
  }
 ],
 "metadata": {
  "kernelspec": {
   "display_name": "Python 3",
   "language": "python",
   "name": "python3"
  },
  "language_info": {
   "codemirror_mode": {
    "name": "ipython",
    "version": 3
   },
   "file_extension": ".py",
   "mimetype": "text/x-python",
   "name": "python",
   "nbconvert_exporter": "python",
   "pygments_lexer": "ipython3",
   "version": "3.10.16"
  }
 },
 "nbformat": 4,
 "nbformat_minor": 5
}
