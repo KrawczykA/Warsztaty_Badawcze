{
 "cells": [
  {
   "metadata": {
    "ExecuteTime": {
     "end_time": "2025-06-02T10:57:29.604365Z",
     "start_time": "2025-06-02T10:57:29.602170Z"
    }
   },
   "cell_type": "code",
   "source": [
    "import torch\n",
    "from torchvision import transforms as T\n",
    "from lightly.transforms import SimCLRTransform, DINOTransform, MAETransform, MoCoV2Transform, utils\n",
    "from datasets import create_dataset\n",
    "from models import DINOModel, ClassifierModel\n",
    "import pytorch_lightning as pl\n",
    "import os\n",
    "import copy\n",
    "import gc\n",
    "import matplotlib.pyplot as plt"
   ],
   "id": "94a8a4e725e7f404",
   "outputs": [],
   "execution_count": 13
  },
  {
   "metadata": {},
   "cell_type": "markdown",
   "source": "# Losowość",
   "id": "f16a3c1947b9dd2e"
  },
  {
   "metadata": {
    "ExecuteTime": {
     "end_time": "2025-06-02T09:35:34.767820Z",
     "start_time": "2025-06-02T09:35:34.763717Z"
    }
   },
   "cell_type": "code",
   "source": [
    "SEED = 42\n",
    "\n",
    "def seed_everything(seed: int=42):\n",
    "    pl.seed_everything(seed)\n",
    "    os.environ['PYTHONHASHSEED'] = str(seed)\n",
    "    ####### Normaly you would also need to seed those generators but `pytorch_lightning` does it in one func\n",
    "    # random.seed(seed)\n",
    "    # np.random.seed(seed)\n",
    "    # torch.manual_seed(seed)\n",
    "    ######\n",
    "    torch.cuda.manual_seed(seed) # Don't know if pytorch lightning does this\n",
    "    torch.cuda.manual_seed_all(seed) # Don't know if pytorch lightning does this\n",
    "    torch.backends.cudnn.deterministic = True\n",
    "    torch.backends.cudnn.benchmark = False\n",
    "\n",
    "\n",
    "seed_everything(SEED)"
   ],
   "id": "e74d1dcc95b05439",
   "outputs": [
    {
     "name": "stderr",
     "output_type": "stream",
     "text": [
      "Seed set to 42\n"
     ]
    }
   ],
   "execution_count": 2
  },
  {
   "metadata": {},
   "cell_type": "markdown",
   "source": "# Transformacje (test i scratch różnią sie co najwyżej rozmiarami w zaleznosci od dataseta)",
   "id": "a7b406400406b389"
  },
  {
   "cell_type": "code",
   "id": "initial_id",
   "metadata": {
    "collapsed": true,
    "ExecuteTime": {
     "end_time": "2025-06-02T09:35:34.826043Z",
     "start_time": "2025-06-02T09:35:34.822932Z"
    }
   },
   "source": [
    "test_transform = T.v2.Compose(\n",
    "    [\n",
    "        T.Resize((224, 224)),\n",
    "        T.v2.ToImage(),\n",
    "        T.v2.ToDtype(torch.float32, scale=True),\n",
    "        T.Normalize(\n",
    "            mean=utils.IMAGENET_NORMALIZE[\"mean\"],\n",
    "            std=utils.IMAGENET_NORMALIZE[\"std\"],\n",
    "        )\n",
    "    ]\n",
    ")\n",
    "scratch_transform = T.v2.Compose(\n",
    "    [\n",
    "        T.RandomResizedCrop((224, 224)),\n",
    "        T.RandomHorizontalFlip(),\n",
    "        T.v2.ToImage(),\n",
    "        T.v2.ToDtype(torch.float32, scale=True),\n",
    "        T.Normalize(\n",
    "            mean=utils.IMAGENET_NORMALIZE[\"mean\"],\n",
    "            std=utils.IMAGENET_NORMALIZE[\"std\"],\n",
    "        )\n",
    "    ]\n",
    ")\n",
    "\n",
    "dino_transform = DINOTransform(global_crop_size=224, local_crop_size=112,  # dopasowanie do mniejszych obrazków\n",
    "                               global_crop_scale=(0.5, 1.0), local_crop_scale=(0.2, 0.5))"
   ],
   "outputs": [
    {
     "name": "stderr",
     "output_type": "stream",
     "text": [
      "/home/hussein/pytoniec/lib/python3.13/site-packages/torchvision/transforms/v2/_deprecated.py:42: UserWarning: The transform `ToTensor()` is deprecated and will be removed in a future release. Instead, please use `v2.Compose([v2.ToImage(), v2.ToDtype(torch.float32, scale=True)])`.Output is equivalent up to float precision.\n",
      "  warnings.warn(\n"
     ]
    }
   ],
   "execution_count": 3
  },
  {
   "metadata": {},
   "cell_type": "markdown",
   "source": "# Datasety",
   "id": "22bda11809bddd4e"
  },
  {
   "metadata": {
    "ExecuteTime": {
     "end_time": "2025-06-02T09:35:59.785426Z",
     "start_time": "2025-06-02T09:35:34.889495Z"
    }
   },
   "cell_type": "code",
   "source": "train_full_cifar100_DINO, train_ssl_cifar100_DINO, train_cifar100_DINO, test_cifar100_DINO = create_dataset(\"CIFAR100\", 0.9, dino_transform, scratch_transform, test_transform, \"data\", False)",
   "id": "dbeb342d9268aa11",
   "outputs": [
    {
     "name": "stdout",
     "output_type": "stream",
     "text": [
      "Length of entire train dataset:  50000\n",
      "Length of SSL train dataset:  45000\n",
      "Length of classification train dataset:  5000\n",
      "Length of test dataset:  10000\n"
     ]
    }
   ],
   "execution_count": 4
  },
  {
   "metadata": {},
   "cell_type": "markdown",
   "source": "# Hiperparametry uczenia i czyszczenie pamięci",
   "id": "ae38c0ea8759175e"
  },
  {
   "metadata": {
    "ExecuteTime": {
     "end_time": "2025-06-02T09:35:59.833567Z",
     "start_time": "2025-06-02T09:35:59.790974Z"
    }
   },
   "cell_type": "code",
   "source": [
    "### PARAMETERS ###\n",
    "BATCH_SIZE = 128\n",
    "NUM_EPOCHS = 20\n",
    "LEARNING_RATE = 0.001\n",
    "NUM_WORKERS = 3\n",
    "device = \"cuda\" if torch.cuda.is_available() else \"cpu\"\n",
    "print(f\"Using device: {device}\")\n",
    "#GARBAGE COLLECTOR FAJNA SPRAWA - BEZ NIEGO VRAMu BRAKUJE\n",
    "if device == \"gpu\":\n",
    "    torch.cuda.empty_cache()\n",
    "    gc.collect()"
   ],
   "id": "f925ac5907c274ec",
   "outputs": [
    {
     "name": "stdout",
     "output_type": "stream",
     "text": [
      "Using device: cuda\n"
     ]
    }
   ],
   "execution_count": 5
  },
  {
   "metadata": {},
   "cell_type": "markdown",
   "source": "# Dataloadery i trening",
   "id": "47b99ec58c3f5cf3"
  },
  {
   "metadata": {
    "ExecuteTime": {
     "end_time": "2025-06-02T10:41:11.116011Z",
     "start_time": "2025-06-02T09:35:59.875939Z"
    }
   },
   "cell_type": "code",
   "source": [
    "dl_train_cifar100_DINO = torch.utils.data.DataLoader(\n",
    "    train_ssl_cifar100_DINO,\n",
    "    batch_size=BATCH_SIZE,\n",
    "    shuffle=True,\n",
    "    num_workers=NUM_WORKERS,\n",
    "    pin_memory=True,\n",
    "    drop_last=True\n",
    ")\n",
    "dl_val_cifar100_DINO = torch.utils.data.DataLoader(\n",
    "    test_cifar100_DINO,\n",
    "    batch_size=BATCH_SIZE,\n",
    "    shuffle=False,\n",
    "    num_workers=NUM_WORKERS\n",
    ")\n",
    "\n",
    "#brak argumentu backbone_type - domyślnie używany jest wyuczony resnet18\n",
    "dino_model = DINOModel(lr=LEARNING_RATE, max_epochs=NUM_EPOCHS)\n",
    "\n",
    "trainer = pl.Trainer(accelerator='cuda', devices=1, max_epochs=NUM_EPOCHS, precision=\"16-mixed\", log_every_n_steps=1)\n",
    "\n",
    "trainer.fit(dino_model, dl_train_cifar100_DINO, dl_val_cifar100_DINO)"
   ],
   "id": "57eaa3143607412d",
   "outputs": [
    {
     "name": "stderr",
     "output_type": "stream",
     "text": [
      "/home/hussein/pytoniec/lib/python3.13/site-packages/torchvision/models/_utils.py:208: UserWarning: The parameter 'pretrained' is deprecated since 0.13 and may be removed in the future, please use 'weights' instead.\n",
      "  warnings.warn(\n",
      "/home/hussein/pytoniec/lib/python3.13/site-packages/torchvision/models/_utils.py:223: UserWarning: Arguments other than a weight enum or `None` for 'weights' are deprecated since 0.13 and may be removed in the future. The current behavior is equivalent to passing `weights=None`.\n",
      "  warnings.warn(msg)\n",
      "Using 16bit Automatic Mixed Precision (AMP)\n",
      "Using default `ModelCheckpoint`. Consider installing `litmodels` package to enable `LitModelCheckpoint` for automatic upload to the Lightning model registry.\n",
      "GPU available: True (cuda), used: True\n",
      "TPU available: False, using: 0 TPU cores\n",
      "HPU available: False, using: 0 HPUs\n",
      "/home/hussein/pytoniec/lib/python3.13/site-packages/pytorch_lightning/trainer/connectors/logger_connector/logger_connector.py:76: Starting from v1.9.0, `tensorboardX` has been removed as a dependency of the `pytorch_lightning` package, due to potential conflicts with other packages in the ML ecosystem. For this reason, `logger=True` will use `CSVLogger` as the default logger, unless the `tensorboard` or `tensorboardX` packages are found. Please `pip install lightning[extra]` or one of them to enable TensorBoard support by default\n",
      "You are using a CUDA device ('NVIDIA GeForce RTX 4070 SUPER') that has Tensor Cores. To properly utilize them, you should set `torch.set_float32_matmul_precision('medium' | 'high')` which will trade-off precision for performance. For more details, read https://pytorch.org/docs/stable/generated/torch.set_float32_matmul_precision.html#torch.set_float32_matmul_precision\n",
      "LOCAL_RANK: 0 - CUDA_VISIBLE_DEVICES: [0]\n",
      "\n",
      "  | Name               | Type                 | Params | Mode \n",
      "--------------------------------------------------------------------\n",
      "0 | student_backbone   | Sequential           | 11.2 M | train\n",
      "1 | student_projection | SimCLRProjectionHead | 328 K  | train\n",
      "2 | teacher_backbone   | Sequential           | 11.2 M | train\n",
      "3 | teacher_projection | SimCLRProjectionHead | 328 K  | train\n",
      "--------------------------------------------------------------------\n",
      "11.5 M    Trainable params\n",
      "11.5 M    Non-trainable params\n",
      "23.0 M    Total params\n",
      "92.044    Total estimated model params size (MB)\n",
      "148       Modules in train mode\n",
      "0         Modules in eval mode\n"
     ]
    },
    {
     "data": {
      "text/plain": [
       "Sanity Checking: |          | 0/? [00:00<?, ?it/s]"
      ],
      "application/vnd.jupyter.widget-view+json": {
       "version_major": 2,
       "version_minor": 0,
       "model_id": "d99b6273e9a141b19f8881aa1237dfe3"
      }
     },
     "metadata": {},
     "output_type": "display_data"
    },
    {
     "data": {
      "text/plain": [
       "Training: |          | 0/? [00:00<?, ?it/s]"
      ],
      "application/vnd.jupyter.widget-view+json": {
       "version_major": 2,
       "version_minor": 0,
       "model_id": "ec3f5d6aa48241fabe01ab60486c57b8"
      }
     },
     "metadata": {},
     "output_type": "display_data"
    },
    {
     "data": {
      "text/plain": [
       "Validation: |          | 0/? [00:00<?, ?it/s]"
      ],
      "application/vnd.jupyter.widget-view+json": {
       "version_major": 2,
       "version_minor": 0,
       "model_id": "e164f0617329412d913dde601e716131"
      }
     },
     "metadata": {},
     "output_type": "display_data"
    },
    {
     "data": {
      "text/plain": [
       "Validation: |          | 0/? [00:00<?, ?it/s]"
      ],
      "application/vnd.jupyter.widget-view+json": {
       "version_major": 2,
       "version_minor": 0,
       "model_id": "d864091fe86b4dd2b4232b20c94bf863"
      }
     },
     "metadata": {},
     "output_type": "display_data"
    },
    {
     "data": {
      "text/plain": [
       "Validation: |          | 0/? [00:00<?, ?it/s]"
      ],
      "application/vnd.jupyter.widget-view+json": {
       "version_major": 2,
       "version_minor": 0,
       "model_id": "31fba86e86034a5aa7fd084fba11d3ac"
      }
     },
     "metadata": {},
     "output_type": "display_data"
    },
    {
     "data": {
      "text/plain": [
       "Validation: |          | 0/? [00:00<?, ?it/s]"
      ],
      "application/vnd.jupyter.widget-view+json": {
       "version_major": 2,
       "version_minor": 0,
       "model_id": "6b343957f7084ff895bbbbda7a47cfaf"
      }
     },
     "metadata": {},
     "output_type": "display_data"
    },
    {
     "data": {
      "text/plain": [
       "Validation: |          | 0/? [00:00<?, ?it/s]"
      ],
      "application/vnd.jupyter.widget-view+json": {
       "version_major": 2,
       "version_minor": 0,
       "model_id": "9b70a13af694408d9e2e6bccc35ae8ba"
      }
     },
     "metadata": {},
     "output_type": "display_data"
    },
    {
     "data": {
      "text/plain": [
       "Validation: |          | 0/? [00:00<?, ?it/s]"
      ],
      "application/vnd.jupyter.widget-view+json": {
       "version_major": 2,
       "version_minor": 0,
       "model_id": "ac39ec1d0ae9427f947e8e94612926f4"
      }
     },
     "metadata": {},
     "output_type": "display_data"
    },
    {
     "data": {
      "text/plain": [
       "Validation: |          | 0/? [00:00<?, ?it/s]"
      ],
      "application/vnd.jupyter.widget-view+json": {
       "version_major": 2,
       "version_minor": 0,
       "model_id": "0d998e341b7e43c8bda7fa9858416511"
      }
     },
     "metadata": {},
     "output_type": "display_data"
    },
    {
     "data": {
      "text/plain": [
       "Validation: |          | 0/? [00:00<?, ?it/s]"
      ],
      "application/vnd.jupyter.widget-view+json": {
       "version_major": 2,
       "version_minor": 0,
       "model_id": "31958cf5af0a4bd3b69c6e754e20fc7d"
      }
     },
     "metadata": {},
     "output_type": "display_data"
    },
    {
     "data": {
      "text/plain": [
       "Validation: |          | 0/? [00:00<?, ?it/s]"
      ],
      "application/vnd.jupyter.widget-view+json": {
       "version_major": 2,
       "version_minor": 0,
       "model_id": "b5f33b7b3da24b18a7bc2077de238922"
      }
     },
     "metadata": {},
     "output_type": "display_data"
    },
    {
     "data": {
      "text/plain": [
       "Validation: |          | 0/? [00:00<?, ?it/s]"
      ],
      "application/vnd.jupyter.widget-view+json": {
       "version_major": 2,
       "version_minor": 0,
       "model_id": "be98b13b6b084eb4bfe12fbb2e053bb8"
      }
     },
     "metadata": {},
     "output_type": "display_data"
    },
    {
     "data": {
      "text/plain": [
       "Validation: |          | 0/? [00:00<?, ?it/s]"
      ],
      "application/vnd.jupyter.widget-view+json": {
       "version_major": 2,
       "version_minor": 0,
       "model_id": "dc03195dd1af4c4788542c990ab46245"
      }
     },
     "metadata": {},
     "output_type": "display_data"
    },
    {
     "data": {
      "text/plain": [
       "Validation: |          | 0/? [00:00<?, ?it/s]"
      ],
      "application/vnd.jupyter.widget-view+json": {
       "version_major": 2,
       "version_minor": 0,
       "model_id": "2801a4732acc4007993e67cac80841c3"
      }
     },
     "metadata": {},
     "output_type": "display_data"
    },
    {
     "data": {
      "text/plain": [
       "Validation: |          | 0/? [00:00<?, ?it/s]"
      ],
      "application/vnd.jupyter.widget-view+json": {
       "version_major": 2,
       "version_minor": 0,
       "model_id": "1345abca4aa54d6798cd955a37c36cbf"
      }
     },
     "metadata": {},
     "output_type": "display_data"
    },
    {
     "data": {
      "text/plain": [
       "Validation: |          | 0/? [00:00<?, ?it/s]"
      ],
      "application/vnd.jupyter.widget-view+json": {
       "version_major": 2,
       "version_minor": 0,
       "model_id": "2a4becd275ea43e5a00719d489b4273a"
      }
     },
     "metadata": {},
     "output_type": "display_data"
    },
    {
     "data": {
      "text/plain": [
       "Validation: |          | 0/? [00:00<?, ?it/s]"
      ],
      "application/vnd.jupyter.widget-view+json": {
       "version_major": 2,
       "version_minor": 0,
       "model_id": "aa9dceca0d544ec5a3e4876bb690a418"
      }
     },
     "metadata": {},
     "output_type": "display_data"
    },
    {
     "data": {
      "text/plain": [
       "Validation: |          | 0/? [00:00<?, ?it/s]"
      ],
      "application/vnd.jupyter.widget-view+json": {
       "version_major": 2,
       "version_minor": 0,
       "model_id": "9c99a4028511403fa8d3f8d788cf1488"
      }
     },
     "metadata": {},
     "output_type": "display_data"
    },
    {
     "data": {
      "text/plain": [
       "Validation: |          | 0/? [00:00<?, ?it/s]"
      ],
      "application/vnd.jupyter.widget-view+json": {
       "version_major": 2,
       "version_minor": 0,
       "model_id": "46ce8848bb6941bd929b8407ced5ef26"
      }
     },
     "metadata": {},
     "output_type": "display_data"
    },
    {
     "data": {
      "text/plain": [
       "Validation: |          | 0/? [00:00<?, ?it/s]"
      ],
      "application/vnd.jupyter.widget-view+json": {
       "version_major": 2,
       "version_minor": 0,
       "model_id": "42100a7141fe4f0db538b015f901cdaf"
      }
     },
     "metadata": {},
     "output_type": "display_data"
    },
    {
     "data": {
      "text/plain": [
       "Validation: |          | 0/? [00:00<?, ?it/s]"
      ],
      "application/vnd.jupyter.widget-view+json": {
       "version_major": 2,
       "version_minor": 0,
       "model_id": "fbe34b78c4664eafba7093dfae454995"
      }
     },
     "metadata": {},
     "output_type": "display_data"
    },
    {
     "data": {
      "text/plain": [
       "Validation: |          | 0/? [00:00<?, ?it/s]"
      ],
      "application/vnd.jupyter.widget-view+json": {
       "version_major": 2,
       "version_minor": 0,
       "model_id": "616aeaaa53c544fab8b609f8431d4a4e"
      }
     },
     "metadata": {},
     "output_type": "display_data"
    },
    {
     "name": "stderr",
     "output_type": "stream",
     "text": [
      "`Trainer.fit` stopped: `max_epochs=20` reached.\n"
     ]
    }
   ],
   "execution_count": 6
  },
  {
   "metadata": {},
   "cell_type": "markdown",
   "source": "# historia uczenia mi się zapisuje do folderów w lightning_logs o generycznych nazwach wypada śledzić, który numer odpowiada któremu modelowi, ewentualnie nie obchodzą nas metryki przy uczeniu",
   "id": "683dddffab41caf4"
  },
  {
   "metadata": {},
   "cell_type": "markdown",
   "source": "# scory coś się zwaliły ale loss w logach sprawdzić można spada",
   "id": "adae24d92c21bb38"
  },
  {
   "metadata": {
    "ExecuteTime": {
     "end_time": "2025-06-02T10:42:25.610099Z",
     "start_time": "2025-06-02T10:42:25.537542Z"
    }
   },
   "cell_type": "code",
   "source": [
    "plt.plot(dino_model.train_ari_scores, color = \"blue\", label = \"train_loss\")\n",
    "plt.plot(dino_model.val_ari_scores, color = \"red\", label = \"val_loss\")\n",
    "plt.title('ari scores for DINO model')\n",
    "plt.xlabel('Epoch')\n",
    "plt.ylabel('score')"
   ],
   "id": "40911eae09fd3888",
   "outputs": [
    {
     "data": {
      "text/plain": [
       "Text(0, 0.5, 'score')"
      ]
     },
     "execution_count": 9,
     "metadata": {},
     "output_type": "execute_result"
    },
    {
     "data": {
      "text/plain": [
       "<Figure size 640x480 with 1 Axes>"
      ],
      "image/png": "[encoded data removed]"
     },
     "metadata": {},
     "output_type": "display_data"
    }
   ],
   "execution_count": 9
  },
  {
   "metadata": {
    "ExecuteTime": {
     "end_time": "2025-06-02T10:43:25.605183Z",
     "start_time": "2025-06-02T10:43:25.550144Z"
    }
   },
   "cell_type": "code",
   "source": [
    "plt.plot(dino_model.train_nmi_scores, color = \"blue\", label = \"train_loss\")\n",
    "plt.plot(dino_model.val_nmi_scores, color = \"red\", label = \"val_loss\")\n",
    "plt.title('nmi scores for DINO model')\n",
    "plt.xlabel('Epoch')\n",
    "plt.ylabel('score')"
   ],
   "id": "cf52f39cfa0c9d64",
   "outputs": [
    {
     "data": {
      "text/plain": [
       "Text(0, 0.5, 'score')"
      ]
     },
     "execution_count": 10,
     "metadata": {},
     "output_type": "execute_result"
    },
    {
     "data": {
      "text/plain": [
       "<Figure size 640x480 with 1 Axes>"
      ],
      "image/png": "[encoded data removed]"
     },
     "metadata": {},
     "output_type": "display_data"
    }
   ],
   "execution_count": 10
  },
  {
   "metadata": {},
   "cell_type": "markdown",
   "source": "# Linear probing",
   "id": "30a0b9c61e7fdde2"
  },
  {
   "metadata": {
    "ExecuteTime": {
     "end_time": "2025-06-02T11:10:24.592286Z",
     "start_time": "2025-06-02T11:10:24.590160Z"
    }
   },
   "cell_type": "code",
   "source": [
    "### PARAMETERS ###\n",
    "BATCH_SIZE = 64\n",
    "NUM_EPOCHS = 5\n",
    "LEARNING_RATE = 0.001\n",
    "NUM_WORKERS = 3\n",
    "NUMBER_OF_CLASSES = 100\n",
    "device = \"cuda\"\n",
    "print(f\"Using device: {device}\")"
   ],
   "id": "2ce6b6dd330aa1a",
   "outputs": [
    {
     "name": "stdout",
     "output_type": "stream",
     "text": [
      "Using device: cuda\n"
     ]
    }
   ],
   "execution_count": 18
  },
  {
   "metadata": {
    "ExecuteTime": {
     "end_time": "2025-06-02T11:11:00.493956Z",
     "start_time": "2025-06-02T11:10:25.124904Z"
    }
   },
   "cell_type": "code",
   "source": [
    "dl_train = torch.utils.data.DataLoader(\n",
    "    train_cifar100_DINO,\n",
    "    batch_size=BATCH_SIZE,\n",
    "    shuffle=True,\n",
    "    num_workers=NUM_WORKERS,\n",
    ")\n",
    "dl_eval = torch.utils.data.DataLoader(\n",
    "    test_cifar100_DINO,\n",
    "    batch_size=BATCH_SIZE,\n",
    "    shuffle=False,\n",
    "    num_workers=NUM_WORKERS,\n",
    ")\n",
    "\n",
    "dino_model_backbone = dino_model.student_backbone\n",
    "model = copy.deepcopy(dino_model_backbone)\n",
    "\n",
    "#linear probing\n",
    "for param in model.parameters():\n",
    "    param.requires_grad = False\n",
    "\n",
    "#tyle jest dla resneta na prostej MLP będzie tyle ile dla niej ustawisz\n",
    "BACKBONE_OUTPUT_DIM = 512\n",
    "\n",
    "model = torch.nn.Sequential(\n",
    "    model,\n",
    "    torch.nn.Flatten(),\n",
    "    torch.nn.Linear(BACKBONE_OUTPUT_DIM, NUMBER_OF_CLASSES)\n",
    ")\n",
    "\n",
    "# Prepare the model\n",
    "model = ClassifierModel(model=model, num_classes=NUMBER_OF_CLASSES,  lr=LEARNING_RATE, max_epochs=NUM_EPOCHS)\n",
    "\n",
    "# Prepare the trainer for pytorch lightning\n",
    "trainer = pl.Trainer(max_epochs=NUM_EPOCHS, devices=-1, accelerator=device)\n",
    "\n",
    "# Train the model\n",
    "trainer.fit(model, dl_train, dl_eval)\n"
   ],
   "id": "220ba5630f23a2f",
   "outputs": [
    {
     "name": "stderr",
     "output_type": "stream",
     "text": [
      "Using default `ModelCheckpoint`. Consider installing `litmodels` package to enable `LitModelCheckpoint` for automatic upload to the Lightning model registry.\n",
      "GPU available: True (cuda), used: True\n",
      "TPU available: False, using: 0 TPU cores\n",
      "HPU available: False, using: 0 HPUs\n",
      "LOCAL_RANK: 0 - CUDA_VISIBLE_DEVICES: [0]\n",
      "\n",
      "  | Name         | Type               | Params | Mode \n",
      "------------------------------------------------------------\n",
      "0 | model        | Sequential         | 11.2 M | train\n",
      "1 | criterion    | CrossEntropyLoss   | 0      | train\n",
      "2 | train_metric | MulticlassAccuracy | 0      | train\n",
      "3 | val_metric   | MulticlassAccuracy | 0      | train\n",
      "4 | test_metric  | MulticlassAccuracy | 0      | train\n",
      "------------------------------------------------------------\n",
      "51.3 K    Trainable params\n",
      "11.2 M    Non-trainable params\n",
      "11.2 M    Total params\n",
      "44.911    Total estimated model params size (MB)\n",
      "74        Modules in train mode\n",
      "0         Modules in eval mode\n"
     ]
    },
    {
     "data": {
      "text/plain": [
       "Sanity Checking: |          | 0/? [00:00<?, ?it/s]"
      ],
      "application/vnd.jupyter.widget-view+json": {
       "version_major": 2,
       "version_minor": 0,
       "model_id": "fc3349c8003143c687ceb4a85ba09e14"
      }
     },
     "metadata": {},
     "output_type": "display_data"
    },
    {
     "data": {
      "text/plain": [
       "Training: |          | 0/? [00:00<?, ?it/s]"
      ],
      "application/vnd.jupyter.widget-view+json": {
       "version_major": 2,
       "version_minor": 0,
       "model_id": "bc1a62ed04ec416fb75d83f169a7f332"
      }
     },
     "metadata": {},
     "output_type": "display_data"
    },
    {
     "data": {
      "text/plain": [
       "Validation: |          | 0/? [00:00<?, ?it/s]"
      ],
      "application/vnd.jupyter.widget-view+json": {
       "version_major": 2,
       "version_minor": 0,
       "model_id": "9361344682e74e75b63a7f3f30ffe03a"
      }
     },
     "metadata": {},
     "output_type": "display_data"
    },
    {
     "data": {
      "text/plain": [
       "Validation: |          | 0/? [00:00<?, ?it/s]"
      ],
      "application/vnd.jupyter.widget-view+json": {
       "version_major": 2,
       "version_minor": 0,
       "model_id": "bc24036e6f9d4ea692d5aae32e80066a"
      }
     },
     "metadata": {},
     "output_type": "display_data"
    },
    {
     "data": {
      "text/plain": [
       "Validation: |          | 0/? [00:00<?, ?it/s]"
      ],
      "application/vnd.jupyter.widget-view+json": {
       "version_major": 2,
       "version_minor": 0,
       "model_id": "e2ed210584f44843b835064bbb8faab8"
      }
     },
     "metadata": {},
     "output_type": "display_data"
    },
    {
     "data": {
      "text/plain": [
       "Validation: |          | 0/? [00:00<?, ?it/s]"
      ],
      "application/vnd.jupyter.widget-view+json": {
       "version_major": 2,
       "version_minor": 0,
       "model_id": "9483e84da1af493883b39c0149d0f74a"
      }
     },
     "metadata": {},
     "output_type": "display_data"
    },
    {
     "data": {
      "text/plain": [
       "Validation: |          | 0/? [00:00<?, ?it/s]"
      ],
      "application/vnd.jupyter.widget-view+json": {
       "version_major": 2,
       "version_minor": 0,
       "model_id": "2d52b63e54c744c283d9f2400c184c42"
      }
     },
     "metadata": {},
     "output_type": "display_data"
    },
    {
     "name": "stderr",
     "output_type": "stream",
     "text": [
      "`Trainer.fit` stopped: `max_epochs=5` reached.\n"
     ]
    }
   ],
   "execution_count": 19
  },
  {
   "metadata": {
    "ExecuteTime": {
     "end_time": "2025-06-02T11:11:07.959654Z",
     "start_time": "2025-06-02T11:11:07.871015Z"
    }
   },
   "cell_type": "code",
   "source": [
    "fig, ax = model.train_metric.plot(model.train_acc)\n",
    "fig.suptitle('Training Accuracy on Rotation Dataset')\n",
    "fig, ax = model.val_metric.plot(model.val_acc)\n",
    "fig.suptitle('Validation Accuracy on Rotation Dataset')\n",
    "plt.show()"
   ],
   "id": "7f22ec642ce13697",
   "outputs": [
    {
     "data": {
      "text/plain": [
       "<Figure size 640x480 with 1 Axes>"
      ],
      "image/png": "[encoded data removed]"
     },
     "metadata": {},
     "output_type": "display_data"
    },
    {
     "data": {
      "text/plain": [
       "<Figure size 640x480 with 1 Axes>"
      ],
      "image/png": "[encoded data removed]"
     },
     "metadata": {},
     "output_type": "display_data"
    }
   ],
   "execution_count": 20
  },
  {
   "metadata": {},
   "cell_type": "markdown",
   "source": "## Fine Tuning",
   "id": "cbe1bf289909c190"
  },
  {
   "metadata": {
    "ExecuteTime": {
     "end_time": "2025-06-02T11:12:39.476667Z",
     "start_time": "2025-06-02T11:11:45.560475Z"
    }
   },
   "cell_type": "code",
   "source": [
    "dino_model_backbone = dino_model.student_backbone\n",
    "model = copy.deepcopy(dino_model_backbone)\n",
    "\n",
    "\n",
    "\n",
    "#tyle jest dla resneta na prostej MLP będzie tyle ile dla niej ustawisz\n",
    "BACKBONE_OUTPUT_DIM = 512\n",
    "\n",
    "model = torch.nn.Sequential(\n",
    "    model,\n",
    "    torch.nn.Flatten(),\n",
    "    torch.nn.Linear(BACKBONE_OUTPUT_DIM, NUMBER_OF_CLASSES)\n",
    ")\n",
    "\n",
    "# Prepare the model\n",
    "model = ClassifierModel(model=model, num_classes=NUMBER_OF_CLASSES,  lr=LEARNING_RATE, max_epochs=NUM_EPOCHS)\n",
    "\n",
    "# Prepare the trainer for pytorch lightning\n",
    "trainer = pl.Trainer(max_epochs=NUM_EPOCHS, devices=-1, accelerator=device)\n",
    "\n",
    "# Train the model\n",
    "trainer.fit(model, dl_train, dl_eval)"
   ],
   "id": "feec05291cb43c47",
   "outputs": [
    {
     "name": "stderr",
     "output_type": "stream",
     "text": [
      "Using default `ModelCheckpoint`. Consider installing `litmodels` package to enable `LitModelCheckpoint` for automatic upload to the Lightning model registry.\n",
      "GPU available: True (cuda), used: True\n",
      "TPU available: False, using: 0 TPU cores\n",
      "HPU available: False, using: 0 HPUs\n",
      "LOCAL_RANK: 0 - CUDA_VISIBLE_DEVICES: [0]\n",
      "\n",
      "  | Name         | Type               | Params | Mode \n",
      "------------------------------------------------------------\n",
      "0 | model        | Sequential         | 11.2 M | train\n",
      "1 | criterion    | CrossEntropyLoss   | 0      | train\n",
      "2 | train_metric | MulticlassAccuracy | 0      | train\n",
      "3 | val_metric   | MulticlassAccuracy | 0      | train\n",
      "4 | test_metric  | MulticlassAccuracy | 0      | train\n",
      "------------------------------------------------------------\n",
      "11.2 M    Trainable params\n",
      "0         Non-trainable params\n",
      "11.2 M    Total params\n",
      "44.911    Total estimated model params size (MB)\n",
      "74        Modules in train mode\n",
      "0         Modules in eval mode\n"
     ]
    },
    {
     "data": {
      "text/plain": [
       "Sanity Checking: |          | 0/? [00:00<?, ?it/s]"
      ],
      "application/vnd.jupyter.widget-view+json": {
       "version_major": 2,
       "version_minor": 0,
       "model_id": "16f76376788b4a96a2c45b95c7619eec"
      }
     },
     "metadata": {},
     "output_type": "display_data"
    },
    {
     "name": "stderr",
     "output_type": "stream",
     "text": [
      "/home/hussein/pytoniec/lib/python3.13/site-packages/torchmetrics/utilities/prints.py:43: UserWarning: The ``compute`` method of metric MulticlassAccuracy was called before the ``update`` method which may lead to errors, as metric states have not yet been updated.\n",
      "  warnings.warn(*args, **kwargs)\n"
     ]
    },
    {
     "data": {
      "text/plain": [
       "Training: |          | 0/? [00:00<?, ?it/s]"
      ],
      "application/vnd.jupyter.widget-view+json": {
       "version_major": 2,
       "version_minor": 0,
       "model_id": "f1f23c18b79345a4b18d989e38ae78fc"
      }
     },
     "metadata": {},
     "output_type": "display_data"
    },
    {
     "data": {
      "text/plain": [
       "Validation: |          | 0/? [00:00<?, ?it/s]"
      ],
      "application/vnd.jupyter.widget-view+json": {
       "version_major": 2,
       "version_minor": 0,
       "model_id": "ef7644b6e83346fb8b7532ddf21437ec"
      }
     },
     "metadata": {},
     "output_type": "display_data"
    },
    {
     "data": {
      "text/plain": [
       "Validation: |          | 0/? [00:00<?, ?it/s]"
      ],
      "application/vnd.jupyter.widget-view+json": {
       "version_major": 2,
       "version_minor": 0,
       "model_id": "867683fdbfcf4f9bb8ce52c0c663111a"
      }
     },
     "metadata": {},
     "output_type": "display_data"
    },
    {
     "data": {
      "text/plain": [
       "Validation: |          | 0/? [00:00<?, ?it/s]"
      ],
      "application/vnd.jupyter.widget-view+json": {
       "version_major": 2,
       "version_minor": 0,
       "model_id": "6fdc4b4661004c62b0c810ea53ecf8ad"
      }
     },
     "metadata": {},
     "output_type": "display_data"
    },
    {
     "data": {
      "text/plain": [
       "Validation: |          | 0/? [00:00<?, ?it/s]"
      ],
      "application/vnd.jupyter.widget-view+json": {
       "version_major": 2,
       "version_minor": 0,
       "model_id": "0c306ca4812f42ea974318054a3c6a2e"
      }
     },
     "metadata": {},
     "output_type": "display_data"
    },
    {
     "data": {
      "text/plain": [
       "Validation: |          | 0/? [00:00<?, ?it/s]"
      ],
      "application/vnd.jupyter.widget-view+json": {
       "version_major": 2,
       "version_minor": 0,
       "model_id": "f65e0b382c8042b0829afbb5221b5d09"
      }
     },
     "metadata": {},
     "output_type": "display_data"
    },
    {
     "name": "stderr",
     "output_type": "stream",
     "text": [
      "`Trainer.fit` stopped: `max_epochs=5` reached.\n"
     ]
    }
   ],
   "execution_count": 21
  },
  {
   "metadata": {
    "ExecuteTime": {
     "end_time": "2025-06-02T11:12:41.007218Z",
     "start_time": "2025-06-02T11:12:40.921959Z"
    }
   },
   "cell_type": "code",
   "source": [
    "fig, ax = model.train_metric.plot(model.train_acc)\n",
    "fig.suptitle('Training Accuracy on Rotation Dataset')\n",
    "fig, ax = model.val_metric.plot(model.val_acc)\n",
    "fig.suptitle('Validation Accuracy on Rotation Dataset')\n",
    "plt.show()"
   ],
   "id": "4cc17b72d566ef28",
   "outputs": [
    {
     "data": {
      "text/plain": [
       "<Figure size 640x480 with 1 Axes>"
      ],
      "image/png": "[encoded data removed]"
     },
     "metadata": {},
     "output_type": "display_data"
    },
    {
     "data": {
      "text/plain": [
       "<Figure size 640x480 with 1 Axes>"
      ],
      "image/png": "[encoded data removed]"
     },
     "metadata": {},
     "output_type": "display_data"
    }
   ],
   "execution_count": 22
  },
  {
   "metadata": {},
   "cell_type": "code",
   "outputs": [],
   "execution_count": null,
   "source": "",
   "id": "b0e4663faf7532a4"
  }
 ],
 "metadata": {
  "kernelspec": {
   "display_name": "Python 3",
   "language": "python",
   "name": "python3"
  },
  "language_info": {
   "codemirror_mode": {
    "name": "ipython",
    "version": 2
   },
   "file_extension": ".py",
   "mimetype": "text/x-python",
   "name": "python",
   "nbconvert_exporter": "python",
   "pygments_lexer": "ipython2",
   "version": "2.7.6"
  }
 },
 "nbformat": 4,
 "nbformat_minor": 5
}
