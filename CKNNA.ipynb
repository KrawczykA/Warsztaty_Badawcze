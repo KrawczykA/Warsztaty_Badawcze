{
 "cells": [
  {
   "cell_type": "code",
   "id": "initial_id",
   "metadata": {
    "collapsed": true,
    "ExecuteTime": {
     "end_time": "2025-06-10T10:55:32.696410Z",
     "start_time": "2025-06-10T10:55:29.487023Z"
    }
   },
   "source": [
    "import numpy as np\n",
    "import torch\n",
    "import matplotlib.pyplot as plt\n",
    "import seaborn as sns\n",
    "from sklearn.metrics.pairwise import cosine_similarity\n",
    "from sklearn.manifold import MDS, TSNE\n",
    "from sklearn.decomposition import PCA\n",
    "from scipy.spatial.distance import squareform\n",
    "import plotly.graph_objects as go\n",
    "import plotly.express as px\n",
    "from tqdm import tqdm\n",
    "from matplotlib.colors import LogNorm\n",
    "from models import *\n",
    "\n",
    "class ModelSimilarityAnalyzer:\n",
    "    def __init__(self, models, model_names=None):\n",
    "        self.models = models\n",
    "        self.model_names = model_names or [f\"Model_{i}\" for i in range(len(models))]\n",
    "        self.n_models = len(models)\n",
    "        self.similarity_matrix = None\n",
    "        self.distance_matrix = None\n",
    "        self.embeddings_2d = None\n",
    "\n",
    "    def extract_features(self, model, dataloader, device='cuda'):\n",
    "        \"\"\"Extract features from a model\"\"\"\n",
    "        features = []\n",
    "        model.eval()\n",
    "        with torch.no_grad():\n",
    "            for batch in dataloader:\n",
    "                if isinstance(batch, (list, tuple)):\n",
    "                    inputs = batch[0].to(device)\n",
    "                else:\n",
    "                    inputs = batch.to(device)\n",
    "\n",
    "                # Try to get features from penultimate layer\n",
    "                # Adjust this based on your model architecture\n",
    "                try:\n",
    "                    # Option 1: If model has feature_extractor method\n",
    "                    representations = model.feature_extractor(inputs)\n",
    "                except AttributeError:\n",
    "                    try:\n",
    "                        # Option 2: If model has features attribute\n",
    "                        representations = model.features(inputs)\n",
    "                        representations = representations.view(representations.size(0), -1)\n",
    "                    except AttributeError:\n",
    "                        # Option 3: Forward pass and get second-to-last layer\n",
    "                        representations = model(inputs)\n",
    "                        if len(representations.shape) > 2:\n",
    "                            representations = representations.view(representations.size(0), -1)\n",
    "\n",
    "                features.append(representations.cpu().numpy())\n",
    "\n",
    "        return np.concatenate(features, axis=0)\n",
    "\n",
    "    def center_kernel(self, K):\n",
    "        \"\"\"Center a kernel matrix\"\"\"\n",
    "        n = K.shape[0]\n",
    "        H = np.eye(n) - np.ones((n, n)) / n\n",
    "        return H @ K @ H\n",
    "\n",
    "    def get_knn_structure(self, kernel_matrix, k):\n",
    "        \"\"\"Extract k-nearest neighbor structure\"\"\"\n",
    "        knn_indices = np.argsort(-kernel_matrix, axis=1)[:, 1:k+1]\n",
    "        return knn_indices\n",
    "\n",
    "    def compute_cknna(self, knn_A, knn_B, k):\n",
    "        \"\"\"Compute CKNNA between two k-NN structures\"\"\"\n",
    "        n_samples = knn_A.shape[0]\n",
    "        alignment_scores = []\n",
    "\n",
    "        for i in range(n_samples):\n",
    "            neighbors_A = set(knn_A[i])\n",
    "            neighbors_B = set(knn_B[i])\n",
    "            intersection = len(neighbors_A.intersection(neighbors_B))\n",
    "            overlap_ratio = intersection / k\n",
    "            alignment_scores.append(overlap_ratio)\n",
    "\n",
    "        return np.mean(alignment_scores)\n",
    "\n",
    "    def compute_similarity_matrix(self, dataloader, k=10, device='cuda', kernel_type='cosine',\n",
    "                                 memory_mode='low', batch_size=None, save_features=False,\n",
    "                                 features_dir='./model_features'):\n",
    "        \"\"\"\n",
    "        Compute CKNNA similarity matrix between all model pairs with memory management\n",
    "\n",
    "        Args:\n",
    "            memory_mode: 'low', 'medium', 'high' - controls memory vs speed tradeoff\n",
    "            batch_size: For chunked processing in low memory mode\n",
    "            save_features: Whether to save features to disk to avoid recomputation\n",
    "            features_dir: Directory to save/load features\n",
    "        \"\"\"\n",
    "        import os\n",
    "        import gc\n",
    "\n",
    "        if save_features:\n",
    "            os.makedirs(features_dir, exist_ok=True)\n",
    "\n",
    "        print(\"Computing pairwise CKNNA similarities...\")\n",
    "        similarity_matrix = np.zeros((self.n_models, self.n_models))\n",
    "\n",
    "        if memory_mode == 'high':\n",
    "            # Original approach - keep everything in memory\n",
    "            return self._compute_high_memory(dataloader, k, device, kernel_type)\n",
    "\n",
    "        elif memory_mode == 'medium':\n",
    "            # Keep features, compute kernels on-demand\n",
    "            return self._compute_medium_memory(dataloader, k, device, kernel_type,\n",
    "                                             save_features, features_dir)\n",
    "\n",
    "        else:  # low memory mode\n",
    "            # Process in batches, minimal memory footprint\n",
    "            batch_size = batch_size or max(1, self.n_models // 10)  # Default to 10% batches\n",
    "            return self._compute_low_memory(dataloader, k, device, kernel_type,\n",
    "                                          batch_size, save_features, features_dir)\n",
    "\n",
    "    def _compute_high_memory(self, dataloader, k, device, kernel_type):\n",
    "        \"\"\"Original high-memory approach\"\"\"\n",
    "        # Extract features from all models\n",
    "        all_features = []\n",
    "        for i, model in enumerate(tqdm(self.models, desc=\"Extracting features\")):\n",
    "            features = self.extract_features(model, dataloader, device)\n",
    "            all_features.append(features)\n",
    "\n",
    "        # Compute kernel matrices for all models\n",
    "        all_kernels = []\n",
    "        for features in tqdm(all_features, desc=\"Computing kernels\"):\n",
    "            K = self._compute_kernel(features, kernel_type)\n",
    "            K_centered = self.center_kernel(K)\n",
    "            all_kernels.append(K_centered)\n",
    "\n",
    "        # Compute k-NN structures\n",
    "        all_knn = []\n",
    "        for K in tqdm(all_kernels, desc=\"Computing k-NN structures\"):\n",
    "            knn = self.get_knn_structure(K, k)\n",
    "            all_knn.append(knn)\n",
    "\n",
    "        return self._compute_pairwise_scores(all_knn, k)\n",
    "\n",
    "    def _compute_medium_memory(self, dataloader, k, device, kernel_type, save_features, features_dir):\n",
    "        \"\"\"Medium memory approach - keep features, compute kernels on demand\"\"\"\n",
    "        import gc\n",
    "\n",
    "        # Extract or load features\n",
    "        all_features = []\n",
    "        for i, model in enumerate(tqdm(self.models, desc=\"Extracting/Loading features\")):\n",
    "            feature_path = os.path.join(features_dir, f\"model_{i}_features.npy\") if save_features else None\n",
    "\n",
    "            if save_features and os.path.exists(feature_path):\n",
    "                features = np.load(feature_path)\n",
    "            else:\n",
    "                features = self.extract_features(model, dataloader, device)\n",
    "                if save_features:\n",
    "                    np.save(feature_path, features)\n",
    "\n",
    "            all_features.append(features)\n",
    "\n",
    "        # Compute k-NN structures on demand\n",
    "        all_knn = []\n",
    "        for i, features in enumerate(tqdm(all_features, desc=\"Computing k-NN structures\")):\n",
    "            K = self._compute_kernel(features, kernel_type)\n",
    "            K_centered = self.center_kernel(K)\n",
    "            knn = self.get_knn_structure(K_centered, k)\n",
    "            all_knn.append(knn)\n",
    "\n",
    "            # Clean up large matrices\n",
    "            del K, K_centered\n",
    "            gc.collect()\n",
    "\n",
    "        return self._compute_pairwise_scores(all_knn, k)\n",
    "\n",
    "    def _compute_low_memory(self, dataloader, k, device, kernel_type, batch_size, save_features, features_dir):\n",
    "        \"\"\"Low memory approach - process in batches\"\"\"\n",
    "        import gc\n",
    "\n",
    "        similarity_matrix = np.zeros((self.n_models, self.n_models))\n",
    "\n",
    "        # Process models in batches\n",
    "        for batch_start in tqdm(range(0, self.n_models, batch_size), desc=\"Processing batches\"):\n",
    "            batch_end = min(batch_start + batch_size, self.n_models)\n",
    "            batch_indices = list(range(batch_start, batch_end))\n",
    "\n",
    "            # Load batch features and compute k-NN structures\n",
    "            batch_knn = []\n",
    "            for i in batch_indices:\n",
    "                feature_path = os.path.join(features_dir, f\"model_{i}_features.npy\") if save_features else None\n",
    "\n",
    "                if save_features and os.path.exists(feature_path):\n",
    "                    features = np.load(feature_path)\n",
    "                else:\n",
    "                    features = self.extract_features(self.models[i], dataloader, device)\n",
    "                    if save_features:\n",
    "                        os.makedirs(features_dir, exist_ok=True)\n",
    "                        np.save(feature_path, features)\n",
    "\n",
    "                K = self._compute_kernel(features, kernel_type)\n",
    "                K_centered = self.center_kernel(K)\n",
    "                knn = self.get_knn_structure(K_centered, k)\n",
    "                batch_knn.append(knn)\n",
    "\n",
    "                # Clean up\n",
    "                del features, K, K_centered\n",
    "                gc.collect()\n",
    "\n",
    "            # Compare with all other models (including other batches)\n",
    "            for other_start in range(batch_start, self.n_models, batch_size):\n",
    "                other_end = min(other_start + batch_size, self.n_models)\n",
    "                other_indices = list(range(other_start, other_end))\n",
    "\n",
    "                if other_start == batch_start:\n",
    "                    # Same batch - use already computed k-NN structures\n",
    "                    other_knn = batch_knn\n",
    "                else:\n",
    "                    # Different batch - compute k-NN structures\n",
    "                    other_knn = []\n",
    "                    for j in other_indices:\n",
    "                        feature_path = os.path.join(features_dir, f\"model_{j}_features.npy\") if save_features else None\n",
    "\n",
    "                        if save_features and os.path.exists(feature_path):\n",
    "                            features = np.load(feature_path)\n",
    "                        else:\n",
    "                            features = self.extract_features(self.models[j], dataloader, device)\n",
    "                            if save_features:\n",
    "                                np.save(feature_path, features)\n",
    "\n",
    "                        K = self._compute_kernel(features, kernel_type)\n",
    "                        K_centered = self.center_kernel(K)\n",
    "                        knn = self.get_knn_structure(K_centered, k)\n",
    "                        other_knn.append(knn)\n",
    "\n",
    "                        del features, K, K_centered\n",
    "                        gc.collect()\n",
    "\n",
    "                # Compute pairwise scores for this batch combination\n",
    "                for local_i, i in enumerate(batch_indices):\n",
    "                    for local_j, j in enumerate(other_indices):\n",
    "                        if i == j:\n",
    "                            similarity_matrix[i, j] = 1.0\n",
    "                        elif i < j:  # Only compute upper triangle\n",
    "                            cknna_score = self.compute_cknna(batch_knn[local_i], other_knn[local_j], k)\n",
    "                            similarity_matrix[i, j] = cknna_score\n",
    "                            similarity_matrix[j, i] = cknna_score\n",
    "\n",
    "                # Clean up other_knn if it was computed\n",
    "                if other_start != batch_start:\n",
    "                    del other_knn\n",
    "                    gc.collect()\n",
    "\n",
    "            # Clean up batch data\n",
    "            del batch_knn\n",
    "            gc.collect()\n",
    "\n",
    "        self.similarity_matrix = similarity_matrix\n",
    "        self.distance_matrix = 1 - similarity_matrix\n",
    "        return similarity_matrix\n",
    "\n",
    "    def _compute_kernel(self, features, kernel_type):\n",
    "        \"\"\"Helper to compute kernel matrix\"\"\"\n",
    "        if kernel_type == 'cosine':\n",
    "            return cosine_similarity(features)\n",
    "        elif kernel_type == 'linear':\n",
    "            return features @ features.T\n",
    "        else:  # rbf\n",
    "            from sklearn.metrics.pairwise import rbf_kernel\n",
    "            return rbf_kernel(features)\n",
    "\n",
    "    def _compute_pairwise_scores(self, all_knn, k):\n",
    "        \"\"\"Compute pairwise CKNNA scores from k-NN structures\"\"\"\n",
    "        similarity_matrix = np.zeros((self.n_models, self.n_models))\n",
    "\n",
    "        for i in tqdm(range(self.n_models), desc=\"Computing CKNNA pairs\"):\n",
    "            for j in range(i, self.n_models):\n",
    "                if i == j:\n",
    "                    similarity_matrix[i, j] = 1.0\n",
    "                else:\n",
    "                    cknna_score = self.compute_cknna(all_knn[i], all_knn[j], k)\n",
    "                    similarity_matrix[i, j] = cknna_score\n",
    "                    similarity_matrix[j, i] = cknna_score\n",
    "\n",
    "        self.similarity_matrix = similarity_matrix\n",
    "        self.distance_matrix = 1 - similarity_matrix\n",
    "        return similarity_matrix\n",
    "\n",
    "    def embed_models_2d(self, method='mds', random_state=42):\n",
    "        \"\"\"Embed models in 2D space based on distance matrix\"\"\"\n",
    "        if self.distance_matrix is None:\n",
    "            raise ValueError(\"Must compute similarity matrix first!\")\n",
    "\n",
    "        if method.lower() == 'mds':\n",
    "            # Multidimensional Scaling\n",
    "            mds = MDS(n_components=2, dissimilarity='precomputed',\n",
    "                     random_state=random_state, normalized_stress='auto')\n",
    "            embeddings = mds.fit_transform(self.distance_matrix)\n",
    "\n",
    "        elif method.lower() == 'tsne':\n",
    "            # t-SNE (convert distance to similarity for t-SNE)\n",
    "            tsne = TSNE(n_components=2, metric='precomputed',\n",
    "                       random_state=random_state, perplexity=min(30, self.n_models-1))\n",
    "            embeddings = tsne.fit_transform(self.distance_matrix)\n",
    "\n",
    "        elif method.lower() == 'pca':\n",
    "            # PCA on similarity matrix\n",
    "            pca = PCA(n_components=2, random_state=random_state)\n",
    "            embeddings = pca.fit_transform(self.similarity_matrix)\n",
    "\n",
    "        else:\n",
    "            raise ValueError(\"Method must be 'mds', 'tsne', or 'pca'\")\n",
    "\n",
    "        self.embeddings_2d = embeddings\n",
    "        return embeddings\n",
    "\n",
    "    def plot_similarity_matrix(self, figsize=(12, 10), save_path=None):\n",
    "        \"\"\"Plot the similarity matrix as a heatmap\"\"\"\n",
    "        plt.figure(figsize=figsize)\n",
    "        sns.heatmap((self.similarity_matrix + 0.001),\n",
    "                    norm = LogNorm(),\n",
    "                   xticklabels=self.model_names,\n",
    "                   yticklabels=self.model_names,\n",
    "                   annot=False, cmap='viridis',\n",
    "                   square=True, cbar_kws={'label': 'CKNNA Similarity'})\n",
    "        plt.title('Model Similarity Matrix (CKNNA)')\n",
    "        plt.xticks(rotation=45, ha='right')\n",
    "        plt.yticks(rotation=0)\n",
    "        plt.tight_layout()\n",
    "\n",
    "        if save_path:\n",
    "            plt.savefig(save_path, dpi=300, bbox_inches='tight')\n",
    "        plt.show()\n",
    "\n",
    "    def plot_2d_embedding(self, method='mds', figsize=(12, 10), save_path=None, interactive=False):\n",
    "        \"\"\"Plot 2D embedding of models\"\"\"\n",
    "        if self.embeddings_2d is None:\n",
    "            self.embed_models_2d(method=method)\n",
    "\n",
    "        if interactive:\n",
    "            # Interactive plot with Plotly\n",
    "            fig = go.Figure()\n",
    "\n",
    "            fig.add_trace(go.Scatter(\n",
    "                x=self.embeddings_2d[:, 0],\n",
    "                y=self.embeddings_2d[:, 1],\n",
    "                mode='markers+text',\n",
    "                marker=dict(size=10, color='red'),\n",
    "                text=self.model_names,\n",
    "                textposition=\"top center\",\n",
    "                hovertemplate='<b>%{text}</b><br>X: %{x:.3f}<br>Y: %{y:.3f}<extra></extra>'\n",
    "            ))\n",
    "\n",
    "            fig.update_layout(\n",
    "                title=f'2D Model Embedding ({method.upper()})',\n",
    "                xaxis_title=f'{method.upper()} Dimension 1',\n",
    "                yaxis_title=f'{method.upper()} Dimension 2',\n",
    "                width=800,\n",
    "                height=600\n",
    "            )\n",
    "\n",
    "            fig.show()\n",
    "\n",
    "        else:\n",
    "            # Static plot with Matplotlib\n",
    "            plt.figure(figsize=figsize)\n",
    "            plt.scatter(self.embeddings_2d[:, 0], self.embeddings_2d[:, 1],\n",
    "                       s=100, alpha=0.7, c='red')\n",
    "\n",
    "            # Add model names as labels\n",
    "            for i, name in enumerate(self.model_names):\n",
    "                plt.annotate(name, (self.embeddings_2d[i, 0], self.embeddings_2d[i, 1]),\n",
    "                           xytext=(5, 5), textcoords='offset points', fontsize=8)\n",
    "\n",
    "            plt.title(f'2D Model Embedding ({method.upper()})')\n",
    "            plt.xlabel(f'{method.upper()} Dimension 1')\n",
    "            plt.ylabel(f'{method.upper()} Dimension 2')\n",
    "            plt.grid(True, alpha=0.3)\n",
    "\n",
    "            if save_path:\n",
    "                plt.savefig(save_path, dpi=300, bbox_inches='tight')\n",
    "            plt.show()\n",
    "\n",
    "    def analyze_clusters(self, n_clusters=None):\n",
    "        \"\"\"Perform clustering analysis on the 2D embeddings\"\"\"\n",
    "        from sklearn.cluster import KMeans, DBSCAN\n",
    "\n",
    "        if self.embeddings_2d is None:\n",
    "            raise ValueError(\"Must compute 2D embeddings first!\")\n",
    "\n",
    "        if n_clusters is None:\n",
    "            # Use DBSCAN for automatic cluster detection\n",
    "            clustering = DBSCAN(eps=0.5, min_samples=2)\n",
    "            cluster_labels = clustering.fit_predict(self.embeddings_2d)\n",
    "        else:\n",
    "            # Use K-means with specified number of clusters\n",
    "            clustering = KMeans(n_clusters=n_clusters, random_state=42)\n",
    "            cluster_labels = clustering.fit_predict(self.embeddings_2d)\n",
    "\n",
    "        # Plot clusters\n",
    "        plt.figure(figsize=(12, 10))\n",
    "        unique_labels = np.unique(cluster_labels)\n",
    "        colors = plt.cm.tab20(np.linspace(0, 1, len(unique_labels)))\n",
    "\n",
    "        for label, color in zip(unique_labels, colors):\n",
    "            if label == -1:  # DBSCAN noise points\n",
    "                color = 'black'\n",
    "                marker = 'x'\n",
    "                label_name = 'Noise'\n",
    "            else:\n",
    "                marker = 'o'\n",
    "                label_name = f'Cluster {label}'\n",
    "\n",
    "            mask = cluster_labels == label\n",
    "            plt.scatter(self.embeddings_2d[mask, 0], self.embeddings_2d[mask, 1],\n",
    "                       c=[color], marker=marker, s=100, alpha=0.7, label=label_name)\n",
    "\n",
    "            # Add model names\n",
    "            for i in np.where(mask)[0]:\n",
    "                plt.annotate(self.model_names[i],\n",
    "                           (self.embeddings_2d[i, 0], self.embeddings_2d[i, 1]),\n",
    "                           xytext=(5, 5), textcoords='offset points', fontsize=8)\n",
    "\n",
    "        plt.title('Model Clusters in 2D Space')\n",
    "        plt.xlabel('Dimension 1')\n",
    "        plt.ylabel('Dimension 2')\n",
    "        plt.legend()\n",
    "        plt.grid(True, alpha=0.3)\n",
    "        plt.show()\n",
    "\n",
    "        return cluster_labels"
   ],
   "outputs": [],
   "execution_count": 1
  },
  {
   "metadata": {},
   "cell_type": "markdown",
   "source": "# Imnet",
   "id": "a57bee7f8c7c6c0e"
  },
  {
   "metadata": {
    "ExecuteTime": {
     "end_time": "2025-06-10T10:43:00.260842Z",
     "start_time": "2025-06-10T10:42:49.874288Z"
    }
   },
   "cell_type": "code",
   "source": [
    "import os\n",
    "models = []\n",
    "model_names = []\n",
    "preran = ['pre', 'ran']\n",
    "lrs = ['-3', '-2']\n",
    "byol_hip = ['98', '996']\n",
    "CHECKPOINT5_NAME = 'model_epoch_5.ckpt'\n",
    "outer_byol_path = os.path.join('checkpoints_imagenet', 'byol')\n",
    "for arch in preran:\n",
    "    for lr in lrs:\n",
    "        for hip in byol_hip:\n",
    "            dir_name = arch+lr+hip\n",
    "            checkpoint_path = os.path.join(outer_byol_path, dir_name, CHECKPOINT5_NAME)\n",
    "            module = BYOLModel.load_from_checkpoint(checkpoint_path)\n",
    "            model = module.online_backbone\n",
    "            models.append(model)\n",
    "            model_name = 'byol'+dir_name\n",
    "            model_names.append(model_name)\n",
    "mae_hip = ['75', '90']\n",
    "outer_mae_path = os.path.join('checkpoints_imagenet', 'mae')\n",
    "for arch in preran:\n",
    "    for lr in lrs:\n",
    "        for hip in mae_hip:\n",
    "            dir_name = arch+lr+hip\n",
    "            checkpoint_path = os.path.join(outer_mae_path, dir_name, CHECKPOINT5_NAME)\n",
    "            module = MAEModel.load_from_checkpoint(checkpoint_path)\n",
    "            model = module.encoder.backbone\n",
    "            models.append(model)\n",
    "            model_name = 'mae'+dir_name\n",
    "            model_names.append(model_name)\n",
    "outer_simclr_path = os.path.join('checkpoints_imagenet', 'simclr')\n",
    "for arch in preran:\n",
    "    for lr in lrs:\n",
    "        dir_name = arch+lr\n",
    "        checkpoint_path = os.path.join(outer_simclr_path, dir_name, CHECKPOINT5_NAME)\n",
    "        module = SimCLRModel.load_from_checkpoint(checkpoint_path)\n",
    "        model = module.backbone\n",
    "        models.append(model)\n",
    "        model_name = 'simclr'+dir_name\n",
    "        model_names.append(model_name)\n",
    "\n",
    "\n",
    "\n",
    "\n"
   ],
   "id": "95facea341513f2d",
   "outputs": [
    {
     "name": "stderr",
     "output_type": "stream",
     "text": [
      "/home/hussein/python_venvs/na_ratunek_venv/lib/python3.13/site-packages/torchvision/models/_utils.py:208: UserWarning: The parameter 'pretrained' is deprecated since 0.13 and may be removed in the future, please use 'weights' instead.\n",
      "  warnings.warn(\n",
      "/home/hussein/python_venvs/na_ratunek_venv/lib/python3.13/site-packages/torchvision/models/_utils.py:223: UserWarning: Arguments other than a weight enum or `None` for 'weights' are deprecated since 0.13 and may be removed in the future. The current behavior is equivalent to passing `weights=ResNet18_Weights.IMAGENET1K_V1`. You can also use `weights=ResNet18_Weights.DEFAULT` to get the most up-to-date weights.\n",
      "  warnings.warn(msg)\n",
      "/home/hussein/python_venvs/na_ratunek_venv/lib/python3.13/site-packages/torchvision/models/_utils.py:223: UserWarning: Arguments other than a weight enum or `None` for 'weights' are deprecated since 0.13 and may be removed in the future. The current behavior is equivalent to passing `weights=None`.\n",
      "  warnings.warn(msg)\n"
     ]
    }
   ],
   "execution_count": 2
  },
  {
   "metadata": {
    "ExecuteTime": {
     "end_time": "2025-06-07T12:37:20.973979Z",
     "start_time": "2025-06-07T12:37:20.970793Z"
    }
   },
   "cell_type": "code",
   "source": "model_names",
   "id": "60d5e5df558301ff",
   "outputs": [
    {
     "data": {
      "text/plain": [
       "['byolpre-398',\n",
       " 'byolpre-3996',\n",
       " 'byolpre-298',\n",
       " 'byolpre-2996',\n",
       " 'byolran-398',\n",
       " 'byolran-3996',\n",
       " 'byolran-298',\n",
       " 'byolran-2996',\n",
       " 'maepre-375',\n",
       " 'maepre-390',\n",
       " 'maepre-275',\n",
       " 'maepre-290',\n",
       " 'maeran-375',\n",
       " 'maeran-390',\n",
       " 'maeran-275',\n",
       " 'maeran-290',\n",
       " 'simclrpre-3',\n",
       " 'simclrpre-2',\n",
       " 'simclrran-3',\n",
       " 'simclrran-2']"
      ]
     },
     "execution_count": 3,
     "metadata": {},
     "output_type": "execute_result"
    }
   ],
   "execution_count": 3
  },
  {
   "metadata": {
    "ExecuteTime": {
     "end_time": "2025-06-10T10:43:03.627488Z",
     "start_time": "2025-06-10T10:43:03.625630Z"
    }
   },
   "cell_type": "code",
   "source": "analyzer = ModelSimilarityAnalyzer(models, model_names)",
   "id": "98903a7c116bf100",
   "outputs": [],
   "execution_count": 3
  },
  {
   "metadata": {
    "ExecuteTime": {
     "end_time": "2025-06-10T10:43:05.139275Z",
     "start_time": "2025-06-10T10:43:05.137009Z"
    }
   },
   "cell_type": "code",
   "source": [
    "NUM_WORKERS = 4\n",
    "BATCH_SIZE = 128"
   ],
   "id": "54893c932c31ce68",
   "outputs": [],
   "execution_count": 4
  },
  {
   "metadata": {
    "ExecuteTime": {
     "end_time": "2025-06-10T10:43:11.240752Z",
     "start_time": "2025-06-10T10:43:09.705036Z"
    }
   },
   "cell_type": "code",
   "source": [
    "import pickle\n",
    "\n",
    "with open(\"train_full_imagenet_mae.pkl\", \"rb\") as f:\n",
    "    train_full_imagenet_mae = pickle.load(f)\n",
    "\n",
    "with open(\"train_ssl_imagenet_mae.pkl\", \"rb\") as f:\n",
    "    train_ssl_imagenet_mae = pickle.load(f)\n",
    "\n",
    "with open(\"train_imagenet_mae.pkl\", \"rb\") as f:\n",
    "    train_imagenet_mae = pickle.load(f)\n",
    "\n",
    "with open(\"test_imagenet_mae.pkl\", \"rb\") as f:\n",
    "    test_imagenet_mae = pickle.load(f)"
   ],
   "id": "d437f9ae2c85d4dd",
   "outputs": [
    {
     "name": "stderr",
     "output_type": "stream",
     "text": [
      "/home/hussein/python_venvs/na_ratunek_venv/lib/python3.13/site-packages/torchvision/transforms/v2/_deprecated.py:42: UserWarning: The transform `ToTensor()` is deprecated and will be removed in a future release. Instead, please use `v2.Compose([v2.ToImage(), v2.ToDtype(torch.float32, scale=True)])`.Output is equivalent up to float precision.\n",
      "  warnings.warn(\n"
     ]
    }
   ],
   "execution_count": 5
  },
  {
   "metadata": {
    "ExecuteTime": {
     "end_time": "2025-06-10T10:43:12.914983Z",
     "start_time": "2025-06-10T10:43:12.911407Z"
    }
   },
   "cell_type": "code",
   "source": "len(test_imagenet_mae)",
   "id": "334baf5abbea2a98",
   "outputs": [
    {
     "data": {
      "text/plain": [
       "50000"
      ]
     },
     "execution_count": 6,
     "metadata": {},
     "output_type": "execute_result"
    }
   ],
   "execution_count": 6
  },
  {
   "metadata": {
    "ExecuteTime": {
     "end_time": "2025-06-10T10:43:14.813946Z",
     "start_time": "2025-06-10T10:43:14.811834Z"
    }
   },
   "cell_type": "code",
   "source": [
    "from torch.utils.data import DataLoader\n",
    "test_dl = DataLoader(torch.utils.data.Subset(test_imagenet_mae, np.arange(10000)), batch_size=BATCH_SIZE, shuffle=False, num_workers=NUM_WORKERS, persistent_workers=True)"
   ],
   "id": "5bc6e6dbacca5991",
   "outputs": [],
   "execution_count": 7
  },
  {
   "metadata": {
    "ExecuteTime": {
     "end_time": "2025-06-10T10:50:33.044325Z",
     "start_time": "2025-06-10T10:43:15.936150Z"
    }
   },
   "cell_type": "code",
   "source": [
    "similarity_matrix = analyzer.compute_similarity_matrix(\n",
    "    dataloader=test_dl,\n",
    "    k=3,\n",
    "    device='cuda',\n",
    "    memory_mode = 'medium',\n",
    "    save_features = False\n",
    ")"
   ],
   "id": "72fcde55655aaeb6",
   "outputs": [
    {
     "name": "stdout",
     "output_type": "stream",
     "text": [
      "Computing pairwise CKNNA similarities...\n"
     ]
    },
    {
     "name": "stderr",
     "output_type": "stream",
     "text": [
      "Extracting/Loading features: 100%|██████████| 20/20 [02:33<00:00,  7.67s/it]\n",
      "Computing k-NN structures: 100%|██████████| 20/20 [04:39<00:00, 13.98s/it]\n",
      "Computing CKNNA pairs: 100%|██████████| 20/20 [00:03<00:00,  5.71it/s]\n"
     ]
    }
   ],
   "execution_count": 8
  },
  {
   "metadata": {
    "ExecuteTime": {
     "end_time": "2025-06-10T10:50:42.769461Z",
     "start_time": "2025-06-10T10:50:42.421126Z"
    }
   },
   "cell_type": "code",
   "source": "analyzer.plot_similarity_matrix()",
   "id": "11327c448ef9f3e2",
   "outputs": [
    {
     "data": {
      "text/plain": [
       "<Figure size 1200x1000 with 2 Axes>"
      ],
      "image/png": "[encoded data removed]"
     },
     "metadata": {},
     "output_type": "display_data"
    }
   ],
   "execution_count": 9
  },
  {
   "metadata": {
    "ExecuteTime": {
     "end_time": "2025-06-10T10:51:20.080790Z",
     "start_time": "2025-06-10T10:51:19.873476Z"
    }
   },
   "cell_type": "code",
   "source": "analyzer.plot_2d_embedding(method='mds', interactive=True)",
   "id": "c80ccfcbc43bb6da",
   "outputs": [
    {
     "name": "stderr",
     "output_type": "stream",
     "text": [
      "/home/hussein/python_venvs/na_ratunek_venv/lib/python3.13/site-packages/sklearn/manifold/_mds.py:677: FutureWarning: The default value of `n_init` will change from 4 to 1 in 1.9.\n",
      "  warnings.warn(\n"
     ]
    },
    {
     "data": {
      "application/vnd.plotly.v1+json": {
       "data": [
        {
         "hovertemplate": "<b>%{text}</b><br>X: %{x:.3f}<br>Y: %{y:.3f}<extra></extra>",
         "marker": {
          "color": "red",
          "size": 10
         },
         "mode": "markers+text",
         "text": [
          "byolpre-398",
          "byolpre-3996",
          "byolpre-298",
          "byolpre-2996",
          "byolran-398",
          "byolran-3996",
          "byolran-298",
          "byolran-2996",
          "maepre-375",
          "maepre-390",
          "maepre-275",
          "maepre-290",
          "maeran-375",
          "maeran-390",
          "maeran-275",
          "maeran-290",
          "simclrpre-3",
          "simclrpre-2",
          "simclrran-3",
          "simclrran-2"
         ],
         "textposition": "top center",
         "x": {
          "dtype": "f8",
          "bdata": "MWbvTDjg4L8Vo3E/RHrYv5p+EFVVYbM/0G+XwCXWsr8ArwxfcFzdPyuzVcxiv+Y/9yLa3/jW4j/PpDwhd7/iP/eHekfuXrU/meze6AMV4L8qpaLoQbTVP0+lMRu30uI/iHqh0fRjyr9S8ZnFQhXBP3WkvBq3I8E/mEmUdIImwT/tLcHf5sfkv3xaCuTpQti/WBJSJsAc3r+4DVBu7oLkvw=="
         },
         "y": {
          "dtype": "f8",
          "bdata": "l2AS03302z8YR4k+kH3gP0qYblxWFbM/ewrXiMt50L8w3FsN/xTCv5pU6eqw7q6/DhjA3BfwxT/bRNZooDjZP4gvZSlgoOa/fHOJKMQa4r88pqC10X/jvwWGZxQw79y/6vo5Dt8Z5r/kGxazsdDkP7Awygv7z+Q/o77R6pbP5D/cOv8PexTEPzT9WeEciak/3WC8mbgKw78o3S3xwwS+vw=="
         },
         "type": "scatter"
        }
       ],
       "layout": {
        "template": {
         "data": {
          "histogram2dcontour": [
           {
            "type": "histogram2dcontour",
            "colorbar": {
             "outlinewidth": 0,
             "ticks": ""
            },
            "colorscale": [
             [
              0.0,
              "#0d0887"
             ],
             [
              0.1111111111111111,
              "#46039f"
             ],
             [
              0.2222222222222222,
              "#7201a8"
             ],
             [
              0.3333333333333333,
              "#9c179e"
             ],
             [
              0.4444444444444444,
              "#bd3786"
             ],
             [
              0.5555555555555556,
              "#d8576b"
             ],
             [
              0.6666666666666666,
              "#ed7953"
             ],
             [
              0.7777777777777778,
              "#fb9f3a"
             ],
             [
              0.8888888888888888,
              "#fdca26"
             ],
             [
              1.0,
              "#f0f921"
             ]
            ]
           }
          ],
          "choropleth": [
           {
            "type": "choropleth",
            "colorbar": {
             "outlinewidth": 0,
             "ticks": ""
            }
           }
          ],
          "histogram2d": [
           {
            "type": "histogram2d",
            "colorbar": {
             "outlinewidth": 0,
             "ticks": ""
            },
            "colorscale": [
             [
              0.0,
              "#0d0887"
             ],
             [
              0.1111111111111111,
              "#46039f"
             ],
             [
              0.2222222222222222,
              "#7201a8"
             ],
             [
              0.3333333333333333,
              "#9c179e"
             ],
             [
              0.4444444444444444,
              "#bd3786"
             ],
             [
              0.5555555555555556,
              "#d8576b"
             ],
             [
              0.6666666666666666,
              "#ed7953"
             ],
             [
              0.7777777777777778,
              "#fb9f3a"
             ],
             [
              0.8888888888888888,
              "#fdca26"
             ],
             [
              1.0,
              "#f0f921"
             ]
            ]
           }
          ],
          "heatmap": [
           {
            "type": "heatmap",
            "colorbar": {
             "outlinewidth": 0,
             "ticks": ""
            },
            "colorscale": [
             [
              0.0,
              "#0d0887"
             ],
             [
              0.1111111111111111,
              "#46039f"
             ],
             [
              0.2222222222222222,
              "#7201a8"
             ],
             [
              0.3333333333333333,
              "#9c179e"
             ],
             [
              0.4444444444444444,
              "#bd3786"
             ],
             [
              0.5555555555555556,
              "#d8576b"
             ],
             [
              0.6666666666666666,
              "#ed7953"
             ],
             [
              0.7777777777777778,
              "#fb9f3a"
             ],
             [
              0.8888888888888888,
              "#fdca26"
             ],
             [
              1.0,
              "#f0f921"
             ]
            ]
           }
          ],
          "contourcarpet": [
           {
            "type": "contourcarpet",
            "colorbar": {
             "outlinewidth": 0,
             "ticks": ""
            }
           }
          ],
          "contour": [
           {
            "type": "contour",
            "colorbar": {
             "outlinewidth": 0,
             "ticks": ""
            },
            "colorscale": [
             [
              0.0,
              "#0d0887"
             ],
             [
              0.1111111111111111,
              "#46039f"
             ],
             [
              0.2222222222222222,
              "#7201a8"
             ],
             [
              0.3333333333333333,
              "#9c179e"
             ],
             [
              0.4444444444444444,
              "#bd3786"
             ],
             [
              0.5555555555555556,
              "#d8576b"
             ],
             [
              0.6666666666666666,
              "#ed7953"
             ],
             [
              0.7777777777777778,
              "#fb9f3a"
             ],
             [
              0.8888888888888888,
              "#fdca26"
             ],
             [
              1.0,
              "#f0f921"
             ]
            ]
           }
          ],
          "surface": [
           {
            "type": "surface",
            "colorbar": {
             "outlinewidth": 0,
             "ticks": ""
            },
            "colorscale": [
             [
              0.0,
              "#0d0887"
             ],
             [
              0.1111111111111111,
              "#46039f"
             ],
             [
              0.2222222222222222,
              "#7201a8"
             ],
             [
              0.3333333333333333,
              "#9c179e"
             ],
             [
              0.4444444444444444,
              "#bd3786"
             ],
             [
              0.5555555555555556,
              "#d8576b"
             ],
             [
              0.6666666666666666,
              "#ed7953"
             ],
             [
              0.7777777777777778,
              "#fb9f3a"
             ],
             [
              0.8888888888888888,
              "#fdca26"
             ],
             [
              1.0,
              "#f0f921"
             ]
            ]
           }
          ],
          "mesh3d": [
           {
            "type": "mesh3d",
            "colorbar": {
             "outlinewidth": 0,
             "ticks": ""
            }
           }
          ],
          "scatter": [
           {
            "marker": {
             "line": {
              "color": "#283442"
             }
            },
            "type": "scatter"
           }
          ],
          "parcoords": [
           {
            "type": "parcoords",
            "line": {
             "colorbar": {
              "outlinewidth": 0,
              "ticks": ""
             }
            }
           }
          ],
          "scatterpolargl": [
           {
            "type": "scatterpolargl",
            "marker": {
             "colorbar": {
              "outlinewidth": 0,
              "ticks": ""
             }
            }
           }
          ],
          "bar": [
           {
            "error_x": {
             "color": "#f2f5fa"
            },
            "error_y": {
             "color": "#f2f5fa"
            },
            "marker": {
             "line": {
              "color": "rgb(17,17,17)",
              "width": 0.5
             },
             "pattern": {
              "fillmode": "overlay",
              "size": 10,
              "solidity": 0.2
             }
            },
            "type": "bar"
           }
          ],
          "scattergeo": [
           {
            "type": "scattergeo",
            "marker": {
             "colorbar": {
              "outlinewidth": 0,
              "ticks": ""
             }
            }
           }
          ],
          "scatterpolar": [
           {
            "type": "scatterpolar",
            "marker": {
             "colorbar": {
              "outlinewidth": 0,
              "ticks": ""
             }
            }
           }
          ],
          "histogram": [
           {
            "marker": {
             "pattern": {
              "fillmode": "overlay",
              "size": 10,
              "solidity": 0.2
             }
            },
            "type": "histogram"
           }
          ],
          "scattergl": [
           {
            "marker": {
             "line": {
              "color": "#283442"
             }
            },
            "type": "scattergl"
           }
          ],
          "scatter3d": [
           {
            "type": "scatter3d",
            "line": {
             "colorbar": {
              "outlinewidth": 0,
              "ticks": ""
             }
            },
            "marker": {
             "colorbar": {
              "outlinewidth": 0,
              "ticks": ""
             }
            }
           }
          ],
          "scattermap": [
           {
            "type": "scattermap",
            "marker": {
             "colorbar": {
              "outlinewidth": 0,
              "ticks": ""
             }
            }
           }
          ],
          "scattermapbox": [
           {
            "type": "scattermapbox",
            "marker": {
             "colorbar": {
              "outlinewidth": 0,
              "ticks": ""
             }
            }
           }
          ],
          "scatterternary": [
           {
            "type": "scatterternary",
            "marker": {
             "colorbar": {
              "outlinewidth": 0,
              "ticks": ""
             }
            }
           }
          ],
          "scattercarpet": [
           {
            "type": "scattercarpet",
            "marker": {
             "colorbar": {
              "outlinewidth": 0,
              "ticks": ""
             }
            }
           }
          ],
          "carpet": [
           {
            "aaxis": {
             "endlinecolor": "#A2B1C6",
             "gridcolor": "#506784",
             "linecolor": "#506784",
             "minorgridcolor": "#506784",
             "startlinecolor": "#A2B1C6"
            },
            "baxis": {
             "endlinecolor": "#A2B1C6",
             "gridcolor": "#506784",
             "linecolor": "#506784",
             "minorgridcolor": "#506784",
             "startlinecolor": "#A2B1C6"
            },
            "type": "carpet"
           }
          ],
          "table": [
           {
            "cells": {
             "fill": {
              "color": "#506784"
             },
             "line": {
              "color": "rgb(17,17,17)"
             }
            },
            "header": {
             "fill": {
              "color": "#2a3f5f"
             },
             "line": {
              "color": "rgb(17,17,17)"
             }
            },
            "type": "table"
           }
          ],
          "barpolar": [
           {
            "marker": {
             "line": {
              "color": "rgb(17,17,17)",
              "width": 0.5
             },
             "pattern": {
              "fillmode": "overlay",
              "size": 10,
              "solidity": 0.2
             }
            },
            "type": "barpolar"
           }
          ],
          "pie": [
           {
            "automargin": true,
            "type": "pie"
           }
          ]
         },
         "layout": {
          "autotypenumbers": "strict",
          "colorway": [
           "#636efa",
           "#EF553B",
           "#00cc96",
           "#ab63fa",
           "#FFA15A",
           "#19d3f3",
           "#FF6692",
           "#B6E880",
           "#FF97FF",
           "#FECB52"
          ],
          "font": {
           "color": "#f2f5fa"
          },
          "hovermode": "closest",
          "hoverlabel": {
           "align": "left"
          },
          "paper_bgcolor": "rgb(17,17,17)",
          "plot_bgcolor": "rgb(17,17,17)",
          "polar": {
           "bgcolor": "rgb(17,17,17)",
           "angularaxis": {
            "gridcolor": "#506784",
            "linecolor": "#506784",
            "ticks": ""
           },
           "radialaxis": {
            "gridcolor": "#506784",
            "linecolor": "#506784",
            "ticks": ""
           }
          },
          "ternary": {
           "bgcolor": "rgb(17,17,17)",
           "aaxis": {
            "gridcolor": "#506784",
            "linecolor": "#506784",
            "ticks": ""
           },
           "baxis": {
            "gridcolor": "#506784",
            "linecolor": "#506784",
            "ticks": ""
           },
           "caxis": {
            "gridcolor": "#506784",
            "linecolor": "#506784",
            "ticks": ""
           }
          },
          "coloraxis": {
           "colorbar": {
            "outlinewidth": 0,
            "ticks": ""
           }
          },
          "colorscale": {
           "sequential": [
            [
             0.0,
             "#0d0887"
            ],
            [
             0.1111111111111111,
             "#46039f"
            ],
            [
             0.2222222222222222,
             "#7201a8"
            ],
            [
             0.3333333333333333,
             "#9c179e"
            ],
            [
             0.4444444444444444,
             "#bd3786"
            ],
            [
             0.5555555555555556,
             "#d8576b"
            ],
            [
             0.6666666666666666,
             "#ed7953"
            ],
            [
             0.7777777777777778,
             "#fb9f3a"
            ],
            [
             0.8888888888888888,
             "#fdca26"
            ],
            [
             1.0,
             "#f0f921"
            ]
           ],
           "sequentialminus": [
            [
             0.0,
             "#0d0887"
            ],
            [
             0.1111111111111111,
             "#46039f"
            ],
            [
             0.2222222222222222,
             "#7201a8"
            ],
            [
             0.3333333333333333,
             "#9c179e"
            ],
            [
             0.4444444444444444,
             "#bd3786"
            ],
            [
             0.5555555555555556,
             "#d8576b"
            ],
            [
             0.6666666666666666,
             "#ed7953"
            ],
            [
             0.7777777777777778,
             "#fb9f3a"
            ],
            [
             0.8888888888888888,
             "#fdca26"
            ],
            [
             1.0,
             "#f0f921"
            ]
           ],
           "diverging": [
            [
             0,
             "#8e0152"
            ],
            [
             0.1,
             "#c51b7d"
            ],
            [
             0.2,
             "#de77ae"
            ],
            [
             0.3,
             "#f1b6da"
            ],
            [
             0.4,
             "#fde0ef"
            ],
            [
             0.5,
             "#f7f7f7"
            ],
            [
             0.6,
             "#e6f5d0"
            ],
            [
             0.7,
             "#b8e186"
            ],
            [
             0.8,
             "#7fbc41"
            ],
            [
             0.9,
             "#4d9221"
            ],
            [
             1,
             "#276419"
            ]
           ]
          },
          "xaxis": {
           "gridcolor": "#283442",
           "linecolor": "#506784",
           "ticks": "",
           "title": {
            "standoff": 15
           },
           "zerolinecolor": "#283442",
           "automargin": true,
           "zerolinewidth": 2
          },
          "yaxis": {
           "gridcolor": "#283442",
           "linecolor": "#506784",
           "ticks": "",
           "title": {
            "standoff": 15
           },
           "zerolinecolor": "#283442",
           "automargin": true,
           "zerolinewidth": 2
          },
          "scene": {
           "xaxis": {
            "backgroundcolor": "rgb(17,17,17)",
            "gridcolor": "#506784",
            "linecolor": "#506784",
            "showbackground": true,
            "ticks": "",
            "zerolinecolor": "#C8D4E3",
            "gridwidth": 2
           },
           "yaxis": {
            "backgroundcolor": "rgb(17,17,17)",
            "gridcolor": "#506784",
            "linecolor": "#506784",
            "showbackground": true,
            "ticks": "",
            "zerolinecolor": "#C8D4E3",
            "gridwidth": 2
           },
           "zaxis": {
            "backgroundcolor": "rgb(17,17,17)",
            "gridcolor": "#506784",
            "linecolor": "#506784",
            "showbackground": true,
            "ticks": "",
            "zerolinecolor": "#C8D4E3",
            "gridwidth": 2
           }
          },
          "shapedefaults": {
           "line": {
            "color": "#f2f5fa"
           }
          },
          "annotationdefaults": {
           "arrowcolor": "#f2f5fa",
           "arrowhead": 0,
           "arrowwidth": 1
          },
          "geo": {
           "bgcolor": "rgb(17,17,17)",
           "landcolor": "rgb(17,17,17)",
           "subunitcolor": "#506784",
           "showland": true,
           "showlakes": true,
           "lakecolor": "rgb(17,17,17)"
          },
          "title": {
           "x": 0.05
          },
          "updatemenudefaults": {
           "bgcolor": "#506784",
           "borderwidth": 0
          },
          "sliderdefaults": {
           "bgcolor": "#C8D4E3",
           "borderwidth": 1,
           "bordercolor": "rgb(17,17,17)",
           "tickwidth": 0
          },
          "mapbox": {
           "style": "dark"
          }
         }
        },
        "title": {
         "text": "2D Model Embedding (MDS)"
        },
        "xaxis": {
         "title": {
          "text": "MDS Dimension 1"
         }
        },
        "yaxis": {
         "title": {
          "text": "MDS Dimension 2"
         }
        },
        "width": 800,
        "height": 600
       },
       "config": {
        "plotlyServerURL": "https://plot.ly"
       }
      }
     },
     "metadata": {},
     "output_type": "display_data"
    }
   ],
   "execution_count": 10
  },
  {
   "metadata": {
    "ExecuteTime": {
     "end_time": "2025-06-10T10:51:24.783194Z",
     "start_time": "2025-06-10T10:51:24.674528Z"
    }
   },
   "cell_type": "code",
   "source": "analyzer.plot_2d_embedding(method='tsne')\n",
   "id": "d0b271b908bffc60",
   "outputs": [
    {
     "data": {
      "text/plain": [
       "<Figure size 1200x1000 with 1 Axes>"
      ],
      "image/png": "[encoded data removed]"
     },
     "metadata": {},
     "output_type": "display_data"
    }
   ],
   "execution_count": 11
  },
  {
   "metadata": {
    "ExecuteTime": {
     "end_time": "2025-06-10T10:51:27.687243Z",
     "start_time": "2025-06-10T10:51:27.596123Z"
    }
   },
   "cell_type": "code",
   "source": "analyzer.plot_2d_embedding(method='pca')",
   "id": "67b4048ae3c6f494",
   "outputs": [
    {
     "data": {
      "text/plain": [
       "<Figure size 1200x1000 with 1 Axes>"
      ],
      "image/png": "[encoded data removed]"
     },
     "metadata": {},
     "output_type": "display_data"
    }
   ],
   "execution_count": 12
  },
  {
   "metadata": {},
   "cell_type": "markdown",
   "source": "# CIFAR100",
   "id": "515f21f8be006091"
  },
  {
   "metadata": {
    "ExecuteTime": {
     "end_time": "2025-06-10T10:55:41.480349Z",
     "start_time": "2025-06-10T10:55:37.300177Z"
    }
   },
   "cell_type": "code",
   "source": [
    "import os\n",
    "models = []\n",
    "model_names = []\n",
    "preran = ['pre', 'ran']\n",
    "lrs = ['-3', '-2']\n",
    "byol_hip = ['98', '996']\n",
    "CHECKPOINT5_NAME = 'model_epoch_15.ckpt'\n",
    "outer_byol_path = os.path.join('checkpoints_100', 'byol')\n",
    "for arch in preran:\n",
    "    for lr in lrs:\n",
    "        for hip in byol_hip:\n",
    "            dir_name = arch+lr+hip\n",
    "            checkpoint_path = os.path.join(outer_byol_path, dir_name, CHECKPOINT5_NAME)\n",
    "            module = BYOLModel.load_from_checkpoint(checkpoint_path)\n",
    "            model = module.online_backbone\n",
    "            models.append(model)\n",
    "            model_name = 'byol'+dir_name\n",
    "            model_names.append(model_name)\n",
    "mae_hip = ['75', '90']\n",
    "outer_mae_path = os.path.join('checkpoints_100', 'mae')\n",
    "for arch in preran:\n",
    "    for lr in lrs:\n",
    "        for hip in mae_hip:\n",
    "            dir_name = arch+lr+hip\n",
    "            checkpoint_path = os.path.join(outer_mae_path, dir_name, CHECKPOINT5_NAME)\n",
    "            module = MAEModel.load_from_checkpoint(checkpoint_path)\n",
    "            model = module.encoder.backbone\n",
    "            models.append(model)\n",
    "            model_name = 'mae'+dir_name\n",
    "            model_names.append(model_name)\n",
    "outer_simclr_path = os.path.join('checkpoints_100', 'simclr')\n",
    "for arch in preran:\n",
    "    for lr in lrs:\n",
    "        dir_name = arch+lr\n",
    "        checkpoint_path = os.path.join(outer_simclr_path, dir_name, CHECKPOINT5_NAME)\n",
    "        module = SimCLRModel.load_from_checkpoint(checkpoint_path)\n",
    "        model = module.backbone\n",
    "        models.append(model)\n",
    "        model_name = 'simclr'+dir_name\n",
    "        model_names.append(model_name)"
   ],
   "id": "5b304962f85ad6d3",
   "outputs": [
    {
     "name": "stderr",
     "output_type": "stream",
     "text": [
      "/home/hussein/python_venvs/na_ratunek_venv/lib/python3.13/site-packages/torchvision/models/_utils.py:208: UserWarning: The parameter 'pretrained' is deprecated since 0.13 and may be removed in the future, please use 'weights' instead.\n",
      "  warnings.warn(\n",
      "/home/hussein/python_venvs/na_ratunek_venv/lib/python3.13/site-packages/torchvision/models/_utils.py:223: UserWarning: Arguments other than a weight enum or `None` for 'weights' are deprecated since 0.13 and may be removed in the future. The current behavior is equivalent to passing `weights=ResNet18_Weights.IMAGENET1K_V1`. You can also use `weights=ResNet18_Weights.DEFAULT` to get the most up-to-date weights.\n",
      "  warnings.warn(msg)\n",
      "/home/hussein/python_venvs/na_ratunek_venv/lib/python3.13/site-packages/torchvision/models/_utils.py:223: UserWarning: Arguments other than a weight enum or `None` for 'weights' are deprecated since 0.13 and may be removed in the future. The current behavior is equivalent to passing `weights=None`.\n",
      "  warnings.warn(msg)\n"
     ]
    }
   ],
   "execution_count": 2
  },
  {
   "metadata": {
    "ExecuteTime": {
     "end_time": "2025-06-10T10:55:41.489410Z",
     "start_time": "2025-06-10T10:55:41.488113Z"
    }
   },
   "cell_type": "code",
   "source": [
    "analyzer = ModelSimilarityAnalyzer(models, model_names)\n",
    "NUM_WORKERS = 4\n",
    "BATCH_SIZE = 128"
   ],
   "id": "38270bfcfe1c7ce1",
   "outputs": [],
   "execution_count": 3
  },
  {
   "metadata": {
    "ExecuteTime": {
     "end_time": "2025-06-10T10:55:41.553159Z",
     "start_time": "2025-06-10T10:55:41.535889Z"
    }
   },
   "cell_type": "code",
   "source": [
    "from lightly.transforms import utils\n",
    "from torchvision import transforms as T\n",
    "test_transform = T.v2.Compose(\n",
    "    [\n",
    "        T.Resize((224, 224)),\n",
    "        T.v2.ToImage(),\n",
    "        T.v2.ToDtype(torch.float32, scale=True),\n",
    "        T.Normalize(\n",
    "            mean=utils.IMAGENET_NORMALIZE[\"mean\"],\n",
    "            std=utils.IMAGENET_NORMALIZE[\"std\"],\n",
    "        )\n",
    "    ]\n",
    ")\n",
    "scratch_transform = T.v2.Compose(\n",
    "    [\n",
    "        T.RandomResizedCrop((224, 224)),\n",
    "        T.RandomHorizontalFlip(),\n",
    "        T.v2.ToImage(),\n",
    "        T.v2.ToDtype(torch.float32, scale=True),\n",
    "        T.Normalize(\n",
    "            mean=utils.IMAGENET_NORMALIZE[\"mean\"],\n",
    "            std=utils.IMAGENET_NORMALIZE[\"std\"],\n",
    "        )\n",
    "    ]\n",
    ")\n"
   ],
   "id": "a0ed12570f829629",
   "outputs": [
    {
     "name": "stderr",
     "output_type": "stream",
     "text": [
      "/home/hussein/python_venvs/na_ratunek_venv/lib/python3.13/site-packages/torchvision/transforms/v2/_deprecated.py:42: UserWarning: The transform `ToTensor()` is deprecated and will be removed in a future release. Instead, please use `v2.Compose([v2.ToImage(), v2.ToDtype(torch.float32, scale=True)])`.Output is equivalent up to float precision.\n",
      "  warnings.warn(\n"
     ]
    }
   ],
   "execution_count": 4
  },
  {
   "metadata": {
    "ExecuteTime": {
     "end_time": "2025-06-10T10:56:11.452409Z",
     "start_time": "2025-06-10T10:55:41.583428Z"
    }
   },
   "cell_type": "code",
   "source": [
    "from datasets import create_dataset\n",
    "train_full_cifar100_mae, train_ssl_cifar100_mae, train_cifar100_mae, test_cifar100_mae, targets_cifar100 = create_dataset(\"CIFAR100\", 0.9, scratch_transform, scratch_transform, test_transform, \"data\", False)"
   ],
   "id": "a84fcd46408a5f10",
   "outputs": [
    {
     "name": "stdout",
     "output_type": "stream",
     "text": [
      "Length of entire train dataset:  50000\n",
      "Length of SSL train dataset:  45000\n",
      "Length of classification train dataset:  5000\n",
      "Length of test dataset:  10000\n"
     ]
    }
   ],
   "execution_count": 5
  },
  {
   "metadata": {
    "ExecuteTime": {
     "end_time": "2025-06-10T10:56:11.502069Z",
     "start_time": "2025-06-10T10:56:11.500621Z"
    }
   },
   "cell_type": "code",
   "source": [
    "from torch.utils.data import DataLoader\n",
    "test_dl = DataLoader(test_cifar100_mae, batch_size=BATCH_SIZE, shuffle=False, num_workers=NUM_WORKERS, persistent_workers=True)"
   ],
   "id": "d6afc9c34cc193d1",
   "outputs": [],
   "execution_count": 6
  },
  {
   "metadata": {
    "ExecuteTime": {
     "end_time": "2025-06-10T11:02:10.517365Z",
     "start_time": "2025-06-10T10:56:11.546523Z"
    }
   },
   "cell_type": "code",
   "source": [
    "similarity_matrix = analyzer.compute_similarity_matrix(\n",
    "    dataloader=test_dl,\n",
    "    k=3,\n",
    "    device='cuda',\n",
    "    memory_mode = 'medium',\n",
    "    save_features = False\n",
    ")"
   ],
   "id": "63bb64fa44a05042",
   "outputs": [
    {
     "name": "stdout",
     "output_type": "stream",
     "text": [
      "Computing pairwise CKNNA similarities...\n"
     ]
    },
    {
     "name": "stderr",
     "output_type": "stream",
     "text": [
      "Extracting/Loading features: 100%|██████████| 20/20 [01:22<00:00,  4.14s/it]\n",
      "Computing k-NN structures: 100%|██████████| 20/20 [04:32<00:00, 13.63s/it]\n",
      "Computing CKNNA pairs: 100%|██████████| 20/20 [00:03<00:00,  6.08it/s]\n"
     ]
    }
   ],
   "execution_count": 7
  },
  {
   "metadata": {
    "ExecuteTime": {
     "end_time": "2025-06-10T11:02:24.426868Z",
     "start_time": "2025-06-10T11:02:24.104763Z"
    }
   },
   "cell_type": "code",
   "source": "analyzer.plot_similarity_matrix()",
   "id": "73e0198c928bfc83",
   "outputs": [
    {
     "data": {
      "text/plain": [
       "<Figure size 1200x1000 with 2 Axes>"
      ],
      "image/png": "[encoded data removed]"
     },
     "metadata": {},
     "output_type": "display_data"
    }
   ],
   "execution_count": 8
  },
  {
   "metadata": {
    "ExecuteTime": {
     "end_time": "2025-06-10T11:02:29.176823Z",
     "start_time": "2025-06-10T11:02:29.002493Z"
    }
   },
   "cell_type": "code",
   "source": "analyzer.plot_2d_embedding(method='mds', interactive=True)",
   "id": "39b1f81f61e0bc92",
   "outputs": [
    {
     "name": "stderr",
     "output_type": "stream",
     "text": [
      "/home/hussein/python_venvs/na_ratunek_venv/lib/python3.13/site-packages/sklearn/manifold/_mds.py:677: FutureWarning: The default value of `n_init` will change from 4 to 1 in 1.9.\n",
      "  warnings.warn(\n"
     ]
    },
    {
     "data": {
      "application/vnd.plotly.v1+json": {
       "data": [
        {
         "hovertemplate": "<b>%{text}</b><br>X: %{x:.3f}<br>Y: %{y:.3f}<extra></extra>",
         "marker": {
          "color": "red",
          "size": 10
         },
         "mode": "markers+text",
         "text": [
          "byolpre-398",
          "byolpre-3996",
          "byolpre-298",
          "byolpre-2996",
          "byolran-398",
          "byolran-3996",
          "byolran-298",
          "byolran-2996",
          "maepre-375",
          "maepre-390",
          "maepre-275",
          "maepre-290",
          "maeran-375",
          "maeran-390",
          "maeran-275",
          "maeran-290",
          "simclrpre-3",
          "simclrpre-2",
          "simclrran-3",
          "simclrran-2"
         ],
         "textposition": "top center",
         "x": {
          "dtype": "f8",
          "bdata": "AGXlTSPR5L8fpNYcjLLavxqASi5WlM0/p2q3Fn8VtD872oKrTkLZP4Rltf36DeY/dUEIFT415D8voBl1PsjePy80m/5aeru/LA8h84m65L8HlWBmKdHJP2+kQK8bkOQ/pJ6bM7eH2b/gJIIaVQLdv+imUB0vTsO/aGmyFikl3T8ULT9KTZvlvybK6NaKtLC/R9dw0nPZqD+S/RNAT2zSvw=="
         },
         "y": {
          "dtype": "f8",
          "bdata": "Kr0z3xVQob+nXTbqDhvQP3srw0x1N+U/12fqaNEv3D88FAxgI56mP5rI8CKUPWy/qeK1ljGZ0j8fhiISKPffP0RFQzu2zOa/SlRs/O8K2L+0x8kZSCTmvzk+BZZjEdW/VSv312ti47+J3f+cK/DiP/tCjgY8LOc/FetGPmBr4b8QDAYch83NP3DTPY3ZH64/vpu1k/f60r//dbxOMhTKvw=="
         },
         "type": "scatter"
        }
       ],
       "layout": {
        "template": {
         "data": {
          "histogram2dcontour": [
           {
            "type": "histogram2dcontour",
            "colorbar": {
             "outlinewidth": 0,
             "ticks": ""
            },
            "colorscale": [
             [
              0.0,
              "#0d0887"
             ],
             [
              0.1111111111111111,
              "#46039f"
             ],
             [
              0.2222222222222222,
              "#7201a8"
             ],
             [
              0.3333333333333333,
              "#9c179e"
             ],
             [
              0.4444444444444444,
              "#bd3786"
             ],
             [
              0.5555555555555556,
              "#d8576b"
             ],
             [
              0.6666666666666666,
              "#ed7953"
             ],
             [
              0.7777777777777778,
              "#fb9f3a"
             ],
             [
              0.8888888888888888,
              "#fdca26"
             ],
             [
              1.0,
              "#f0f921"
             ]
            ]
           }
          ],
          "choropleth": [
           {
            "type": "choropleth",
            "colorbar": {
             "outlinewidth": 0,
             "ticks": ""
            }
           }
          ],
          "histogram2d": [
           {
            "type": "histogram2d",
            "colorbar": {
             "outlinewidth": 0,
             "ticks": ""
            },
            "colorscale": [
             [
              0.0,
              "#0d0887"
             ],
             [
              0.1111111111111111,
              "#46039f"
             ],
             [
              0.2222222222222222,
              "#7201a8"
             ],
             [
              0.3333333333333333,
              "#9c179e"
             ],
             [
              0.4444444444444444,
              "#bd3786"
             ],
             [
              0.5555555555555556,
              "#d8576b"
             ],
             [
              0.6666666666666666,
              "#ed7953"
             ],
             [
              0.7777777777777778,
              "#fb9f3a"
             ],
             [
              0.8888888888888888,
              "#fdca26"
             ],
             [
              1.0,
              "#f0f921"
             ]
            ]
           }
          ],
          "heatmap": [
           {
            "type": "heatmap",
            "colorbar": {
             "outlinewidth": 0,
             "ticks": ""
            },
            "colorscale": [
             [
              0.0,
              "#0d0887"
             ],
             [
              0.1111111111111111,
              "#46039f"
             ],
             [
              0.2222222222222222,
              "#7201a8"
             ],
             [
              0.3333333333333333,
              "#9c179e"
             ],
             [
              0.4444444444444444,
              "#bd3786"
             ],
             [
              0.5555555555555556,
              "#d8576b"
             ],
             [
              0.6666666666666666,
              "#ed7953"
             ],
             [
              0.7777777777777778,
              "#fb9f3a"
             ],
             [
              0.8888888888888888,
              "#fdca26"
             ],
             [
              1.0,
              "#f0f921"
             ]
            ]
           }
          ],
          "contourcarpet": [
           {
            "type": "contourcarpet",
            "colorbar": {
             "outlinewidth": 0,
             "ticks": ""
            }
           }
          ],
          "contour": [
           {
            "type": "contour",
            "colorbar": {
             "outlinewidth": 0,
             "ticks": ""
            },
            "colorscale": [
             [
              0.0,
              "#0d0887"
             ],
             [
              0.1111111111111111,
              "#46039f"
             ],
             [
              0.2222222222222222,
              "#7201a8"
             ],
             [
              0.3333333333333333,
              "#9c179e"
             ],
             [
              0.4444444444444444,
              "#bd3786"
             ],
             [
              0.5555555555555556,
              "#d8576b"
             ],
             [
              0.6666666666666666,
              "#ed7953"
             ],
             [
              0.7777777777777778,
              "#fb9f3a"
             ],
             [
              0.8888888888888888,
              "#fdca26"
             ],
             [
              1.0,
              "#f0f921"
             ]
            ]
           }
          ],
          "surface": [
           {
            "type": "surface",
            "colorbar": {
             "outlinewidth": 0,
             "ticks": ""
            },
            "colorscale": [
             [
              0.0,
              "#0d0887"
             ],
             [
              0.1111111111111111,
              "#46039f"
             ],
             [
              0.2222222222222222,
              "#7201a8"
             ],
             [
              0.3333333333333333,
              "#9c179e"
             ],
             [
              0.4444444444444444,
              "#bd3786"
             ],
             [
              0.5555555555555556,
              "#d8576b"
             ],
             [
              0.6666666666666666,
              "#ed7953"
             ],
             [
              0.7777777777777778,
              "#fb9f3a"
             ],
             [
              0.8888888888888888,
              "#fdca26"
             ],
             [
              1.0,
              "#f0f921"
             ]
            ]
           }
          ],
          "mesh3d": [
           {
            "type": "mesh3d",
            "colorbar": {
             "outlinewidth": 0,
             "ticks": ""
            }
           }
          ],
          "scatter": [
           {
            "marker": {
             "line": {
              "color": "#283442"
             }
            },
            "type": "scatter"
           }
          ],
          "parcoords": [
           {
            "type": "parcoords",
            "line": {
             "colorbar": {
              "outlinewidth": 0,
              "ticks": ""
             }
            }
           }
          ],
          "scatterpolargl": [
           {
            "type": "scatterpolargl",
            "marker": {
             "colorbar": {
              "outlinewidth": 0,
              "ticks": ""
             }
            }
           }
          ],
          "bar": [
           {
            "error_x": {
             "color": "#f2f5fa"
            },
            "error_y": {
             "color": "#f2f5fa"
            },
            "marker": {
             "line": {
              "color": "rgb(17,17,17)",
              "width": 0.5
             },
             "pattern": {
              "fillmode": "overlay",
              "size": 10,
              "solidity": 0.2
             }
            },
            "type": "bar"
           }
          ],
          "scattergeo": [
           {
            "type": "scattergeo",
            "marker": {
             "colorbar": {
              "outlinewidth": 0,
              "ticks": ""
             }
            }
           }
          ],
          "scatterpolar": [
           {
            "type": "scatterpolar",
            "marker": {
             "colorbar": {
              "outlinewidth": 0,
              "ticks": ""
             }
            }
           }
          ],
          "histogram": [
           {
            "marker": {
             "pattern": {
              "fillmode": "overlay",
              "size": 10,
              "solidity": 0.2
             }
            },
            "type": "histogram"
           }
          ],
          "scattergl": [
           {
            "marker": {
             "line": {
              "color": "#283442"
             }
            },
            "type": "scattergl"
           }
          ],
          "scatter3d": [
           {
            "type": "scatter3d",
            "line": {
             "colorbar": {
              "outlinewidth": 0,
              "ticks": ""
             }
            },
            "marker": {
             "colorbar": {
              "outlinewidth": 0,
              "ticks": ""
             }
            }
           }
          ],
          "scattermap": [
           {
            "type": "scattermap",
            "marker": {
             "colorbar": {
              "outlinewidth": 0,
              "ticks": ""
             }
            }
           }
          ],
          "scattermapbox": [
           {
            "type": "scattermapbox",
            "marker": {
             "colorbar": {
              "outlinewidth": 0,
              "ticks": ""
             }
            }
           }
          ],
          "scatterternary": [
           {
            "type": "scatterternary",
            "marker": {
             "colorbar": {
              "outlinewidth": 0,
              "ticks": ""
             }
            }
           }
          ],
          "scattercarpet": [
           {
            "type": "scattercarpet",
            "marker": {
             "colorbar": {
              "outlinewidth": 0,
              "ticks": ""
             }
            }
           }
          ],
          "carpet": [
           {
            "aaxis": {
             "endlinecolor": "#A2B1C6",
             "gridcolor": "#506784",
             "linecolor": "#506784",
             "minorgridcolor": "#506784",
             "startlinecolor": "#A2B1C6"
            },
            "baxis": {
             "endlinecolor": "#A2B1C6",
             "gridcolor": "#506784",
             "linecolor": "#506784",
             "minorgridcolor": "#506784",
             "startlinecolor": "#A2B1C6"
            },
            "type": "carpet"
           }
          ],
          "table": [
           {
            "cells": {
             "fill": {
              "color": "#506784"
             },
             "line": {
              "color": "rgb(17,17,17)"
             }
            },
            "header": {
             "fill": {
              "color": "#2a3f5f"
             },
             "line": {
              "color": "rgb(17,17,17)"
             }
            },
            "type": "table"
           }
          ],
          "barpolar": [
           {
            "marker": {
             "line": {
              "color": "rgb(17,17,17)",
              "width": 0.5
             },
             "pattern": {
              "fillmode": "overlay",
              "size": 10,
              "solidity": 0.2
             }
            },
            "type": "barpolar"
           }
          ],
          "pie": [
           {
            "automargin": true,
            "type": "pie"
           }
          ]
         },
         "layout": {
          "autotypenumbers": "strict",
          "colorway": [
           "#636efa",
           "#EF553B",
           "#00cc96",
           "#ab63fa",
           "#FFA15A",
           "#19d3f3",
           "#FF6692",
           "#B6E880",
           "#FF97FF",
           "#FECB52"
          ],
          "font": {
           "color": "#f2f5fa"
          },
          "hovermode": "closest",
          "hoverlabel": {
           "align": "left"
          },
          "paper_bgcolor": "rgb(17,17,17)",
          "plot_bgcolor": "rgb(17,17,17)",
          "polar": {
           "bgcolor": "rgb(17,17,17)",
           "angularaxis": {
            "gridcolor": "#506784",
            "linecolor": "#506784",
            "ticks": ""
           },
           "radialaxis": {
            "gridcolor": "#506784",
            "linecolor": "#506784",
            "ticks": ""
           }
          },
          "ternary": {
           "bgcolor": "rgb(17,17,17)",
           "aaxis": {
            "gridcolor": "#506784",
            "linecolor": "#506784",
            "ticks": ""
           },
           "baxis": {
            "gridcolor": "#506784",
            "linecolor": "#506784",
            "ticks": ""
           },
           "caxis": {
            "gridcolor": "#506784",
            "linecolor": "#506784",
            "ticks": ""
           }
          },
          "coloraxis": {
           "colorbar": {
            "outlinewidth": 0,
            "ticks": ""
           }
          },
          "colorscale": {
           "sequential": [
            [
             0.0,
             "#0d0887"
            ],
            [
             0.1111111111111111,
             "#46039f"
            ],
            [
             0.2222222222222222,
             "#7201a8"
            ],
            [
             0.3333333333333333,
             "#9c179e"
            ],
            [
             0.4444444444444444,
             "#bd3786"
            ],
            [
             0.5555555555555556,
             "#d8576b"
            ],
            [
             0.6666666666666666,
             "#ed7953"
            ],
            [
             0.7777777777777778,
             "#fb9f3a"
            ],
            [
             0.8888888888888888,
             "#fdca26"
            ],
            [
             1.0,
             "#f0f921"
            ]
           ],
           "sequentialminus": [
            [
             0.0,
             "#0d0887"
            ],
            [
             0.1111111111111111,
             "#46039f"
            ],
            [
             0.2222222222222222,
             "#7201a8"
            ],
            [
             0.3333333333333333,
             "#9c179e"
            ],
            [
             0.4444444444444444,
             "#bd3786"
            ],
            [
             0.5555555555555556,
             "#d8576b"
            ],
            [
             0.6666666666666666,
             "#ed7953"
            ],
            [
             0.7777777777777778,
             "#fb9f3a"
            ],
            [
             0.8888888888888888,
             "#fdca26"
            ],
            [
             1.0,
             "#f0f921"
            ]
           ],
           "diverging": [
            [
             0,
             "#8e0152"
            ],
            [
             0.1,
             "#c51b7d"
            ],
            [
             0.2,
             "#de77ae"
            ],
            [
             0.3,
             "#f1b6da"
            ],
            [
             0.4,
             "#fde0ef"
            ],
            [
             0.5,
             "#f7f7f7"
            ],
            [
             0.6,
             "#e6f5d0"
            ],
            [
             0.7,
             "#b8e186"
            ],
            [
             0.8,
             "#7fbc41"
            ],
            [
             0.9,
             "#4d9221"
            ],
            [
             1,
             "#276419"
            ]
           ]
          },
          "xaxis": {
           "gridcolor": "#283442",
           "linecolor": "#506784",
           "ticks": "",
           "title": {
            "standoff": 15
           },
           "zerolinecolor": "#283442",
           "automargin": true,
           "zerolinewidth": 2
          },
          "yaxis": {
           "gridcolor": "#283442",
           "linecolor": "#506784",
           "ticks": "",
           "title": {
            "standoff": 15
           },
           "zerolinecolor": "#283442",
           "automargin": true,
           "zerolinewidth": 2
          },
          "scene": {
           "xaxis": {
            "backgroundcolor": "rgb(17,17,17)",
            "gridcolor": "#506784",
            "linecolor": "#506784",
            "showbackground": true,
            "ticks": "",
            "zerolinecolor": "#C8D4E3",
            "gridwidth": 2
           },
           "yaxis": {
            "backgroundcolor": "rgb(17,17,17)",
            "gridcolor": "#506784",
            "linecolor": "#506784",
            "showbackground": true,
            "ticks": "",
            "zerolinecolor": "#C8D4E3",
            "gridwidth": 2
           },
           "zaxis": {
            "backgroundcolor": "rgb(17,17,17)",
            "gridcolor": "#506784",
            "linecolor": "#506784",
            "showbackground": true,
            "ticks": "",
            "zerolinecolor": "#C8D4E3",
            "gridwidth": 2
           }
          },
          "shapedefaults": {
           "line": {
            "color": "#f2f5fa"
           }
          },
          "annotationdefaults": {
           "arrowcolor": "#f2f5fa",
           "arrowhead": 0,
           "arrowwidth": 1
          },
          "geo": {
           "bgcolor": "rgb(17,17,17)",
           "landcolor": "rgb(17,17,17)",
           "subunitcolor": "#506784",
           "showland": true,
           "showlakes": true,
           "lakecolor": "rgb(17,17,17)"
          },
          "title": {
           "x": 0.05
          },
          "updatemenudefaults": {
           "bgcolor": "#506784",
           "borderwidth": 0
          },
          "sliderdefaults": {
           "bgcolor": "#C8D4E3",
           "borderwidth": 1,
           "bordercolor": "rgb(17,17,17)",
           "tickwidth": 0
          },
          "mapbox": {
           "style": "dark"
          }
         }
        },
        "title": {
         "text": "2D Model Embedding (MDS)"
        },
        "xaxis": {
         "title": {
          "text": "MDS Dimension 1"
         }
        },
        "yaxis": {
         "title": {
          "text": "MDS Dimension 2"
         }
        },
        "width": 800,
        "height": 600
       },
       "config": {
        "plotlyServerURL": "https://plot.ly"
       }
      }
     },
     "metadata": {},
     "output_type": "display_data"
    }
   ],
   "execution_count": 9
  },
  {
   "metadata": {
    "ExecuteTime": {
     "end_time": "2025-06-10T11:02:36.033386Z",
     "start_time": "2025-06-10T11:02:35.912213Z"
    }
   },
   "cell_type": "code",
   "source": "analyzer.plot_2d_embedding(method='tsne', interactive=False)",
   "id": "8682cb93c5513e1a",
   "outputs": [
    {
     "data": {
      "text/plain": [
       "<Figure size 1200x1000 with 1 Axes>"
      ],
      "image/png": "[encoded data removed]"
     },
     "metadata": {},
     "output_type": "display_data"
    }
   ],
   "execution_count": 10
  },
  {
   "metadata": {
    "ExecuteTime": {
     "end_time": "2025-06-10T11:02:41.081802Z",
     "start_time": "2025-06-10T11:02:40.966029Z"
    }
   },
   "cell_type": "code",
   "source": "analyzer.plot_2d_embedding(method='umap')",
   "id": "d72bc55990490ff6",
   "outputs": [
    {
     "data": {
      "text/plain": [
       "<Figure size 1200x1000 with 1 Axes>"
      ],
      "image/png": "[encoded data removed]"
     },
     "metadata": {},
     "output_type": "display_data"
    }
   ],
   "execution_count": 11
  },
  {
   "metadata": {},
   "cell_type": "code",
   "outputs": [],
   "execution_count": null,
   "source": "",
   "id": "5d61d6be4f3ccabc"
  }
 ],
 "metadata": {
  "kernelspec": {
   "display_name": "Python 3",
   "language": "python",
   "name": "python3"
  },
  "language_info": {
   "codemirror_mode": {
    "name": "ipython",
    "version": 2
   },
   "file_extension": ".py",
   "mimetype": "text/x-python",
   "name": "python",
   "nbconvert_exporter": "python",
   "pygments_lexer": "ipython2",
   "version": "2.7.6"
  }
 },
 "nbformat": 4,
 "nbformat_minor": 5
}
